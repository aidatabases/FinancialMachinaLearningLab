{
  "nbformat": 4,
  "nbformat_minor": 0,
  "metadata": {
    "colab": {
      "name": "stockclustering_KMEANS.ipynb",
      "provenance": [],
      "collapsed_sections": []
    },
    "kernelspec": {
      "name": "python3",
      "display_name": "Python 3"
    }
  },
  "cells": [
    {
      "cell_type": "markdown",
      "metadata": {
        "id": "8EFSQJqEgdBO"
      },
      "source": [
        "# **Stock Market Clustering with K-Means**\n",
        "\n",
        "In this notebook,we will see K-means Clustering been done on a group of companies imported from Yahoo Finance"
      ]
    },
    {
      "cell_type": "markdown",
      "metadata": {
        "id": "fM3NQ-w1g6uq"
      },
      "source": [
        "In this notebook we're going to going to train a k-means clustering algorithm to group companies based on their stock market movements over a 2-year period."
      ]
    },
    {
      "cell_type": "markdown",
      "metadata": {
        "id": "eAvk885AhPzl"
      },
      "source": [
        "**1. Imports & Data**\n",
        "\n",
        "The data source we'll be using for the companies will be Yahoo Finance and we'll read in the data with pandas-datareader.\n",
        "\n",
        "Before we import our data from Yahoo Finance let's import the initial packages we're going to need, and we'll import the machine learning libraries later on."
      ]
    },
    {
      "cell_type": "code",
      "metadata": {
        "id": "SY0jP_-q98ZO"
      },
      "source": [
        "import pandas_datareader.data as web\n",
        "from matplotlib import pyplot as plt\n",
        "import pandas as pd\n",
        "import numpy as np\n",
        "import datetime"
      ],
      "execution_count": 1,
      "outputs": []
    },
    {
      "cell_type": "markdown",
      "metadata": {
        "id": "8C7C4l4xhxWY"
      },
      "source": [
        "Next, we're going to define a dictionary with the companies that we're going to be clustering. We're going to use 28 companies across several industries.\n",
        "\n",
        "Since this is a dictionary we're then going to pull out the company names with the sorted() function and pass in companies_dict.items() as well as an inline lambda function with index 1, which is the stock ticker."
      ]
    },
    {
      "cell_type": "code",
      "metadata": {
        "id": "u1vBQn4m-DWI"
      },
      "source": [
        "# acquiring company stock infos  \n",
        "companies_dict = {\n",
        " 'Amazon': 'AMZN',\n",
        " 'Apple': 'AAPL',\n",
        " 'Walgreen': 'WBA',\n",
        " 'Northrop Grumman': 'NOC',\n",
        " 'Boeing': 'BA',\n",
        " 'Lockheed Martin':'LMT',\n",
        " 'McDonalds': 'MCD',\n",
        " 'Intel': 'INTC',\n",
        " 'Navistar': 'NAV',\n",
        " 'IBM': 'IBM',\n",
        " 'Texas Instruments': 'TXN',\n",
        " 'MasterCard': 'MA',\n",
        " 'Microsoft': 'MSFT',\n",
        " 'General Electric': 'GE',\n",
        " 'American Express': 'AXP',\n",
        " 'Pepsi': 'PEP',\n",
        " 'Coca Cola': 'KO',\n",
        " 'Johnson & Johnson': 'JNJ',\n",
        " 'Toyota': 'TM',\n",
        " 'Honda': 'HMC',\n",
        " 'Mitsubishi': 'MSBHY',\n",
        " 'Sony': 'SNE',\n",
        " 'Exxon': 'XOM',\n",
        " 'Chevron': 'CVX',\n",
        " 'Valero Energy': 'VLO',\n",
        " 'Ford': 'F',\n",
        " 'Bank of America': 'BAC'\n",
        "}\n",
        "\n",
        "companies = sorted(companies_dict.items(), key=lambda x: x[1])"
      ],
      "execution_count": 2,
      "outputs": []
    },
    {
      "cell_type": "code",
      "metadata": {
        "id": "qfHK3z4WE2Mr",
        "outputId": "ebab4c5c-a5f1-4f56-c081-8f0e230c8d6c",
        "colab": {
          "base_uri": "https://localhost:8080/",
          "height": 54
        }
      },
      "source": [
        "print(companies_dict.values())"
      ],
      "execution_count": 3,
      "outputs": [
        {
          "output_type": "stream",
          "text": [
            "dict_values(['AMZN', 'AAPL', 'WBA', 'NOC', 'BA', 'LMT', 'MCD', 'INTC', 'NAV', 'IBM', 'TXN', 'MA', 'MSFT', 'GE', 'AXP', 'PEP', 'KO', 'JNJ', 'TM', 'HMC', 'MSBHY', 'SNE', 'XOM', 'CVX', 'VLO', 'F', 'BAC'])\n"
          ],
          "name": "stdout"
        }
      ]
    },
    {
      "cell_type": "markdown",
      "metadata": {
        "id": "p1wSd9wBh-VT"
      },
      "source": [
        "We now define the start date and end date as follows.\n",
        "\n",
        "Then we're going to use web.DataReader() to load the companies we're interested in. In this case, we use companies_dict.values()."
      ]
    },
    {
      "cell_type": "code",
      "metadata": {
        "id": "jGxtA9iH-4ZV",
        "outputId": "0a504584-a96b-4977-b8aa-06d057da2d8d",
        "colab": {
          "base_uri": "https://localhost:8080/",
          "height": 530
        }
      },
      "source": [
        "# Define which online source to use\n",
        "data_source = 'yahoo'\n",
        "\n",
        "# define start and end dates\n",
        "start_date = '2017-01-01'\n",
        "end_date = '2019-01-01'\n",
        "\n",
        "# Use pandas_datareader.data.DataReader to load the desired data list(companies_dict.values()) used for python 3 compatibility\n",
        "data = web.DataReader(list(companies_dict.values()), data_source, start_date, end_date)\n",
        "\n",
        "print(data.axes)"
      ],
      "execution_count": 4,
      "outputs": [
        {
          "output_type": "stream",
          "text": [
            "[DatetimeIndex(['2017-01-03', '2017-01-04', '2017-01-05', '2017-01-06',\n",
            "               '2017-01-09', '2017-01-10', '2017-01-11', '2017-01-12',\n",
            "               '2017-01-13', '2017-01-17',\n",
            "               ...\n",
            "               '2018-12-17', '2018-12-18', '2018-12-19', '2018-12-20',\n",
            "               '2018-12-21', '2018-12-24', '2018-12-26', '2018-12-27',\n",
            "               '2018-12-28', '2018-12-31'],\n",
            "              dtype='datetime64[ns]', name='Date', length=502, freq=None), MultiIndex([('Adj Close',  'AMZN'),\n",
            "            ('Adj Close',  'AAPL'),\n",
            "            ('Adj Close',   'WBA'),\n",
            "            ('Adj Close',   'NOC'),\n",
            "            ('Adj Close',    'BA'),\n",
            "            ('Adj Close',   'LMT'),\n",
            "            ('Adj Close',   'MCD'),\n",
            "            ('Adj Close',  'INTC'),\n",
            "            ('Adj Close',   'NAV'),\n",
            "            ('Adj Close',   'IBM'),\n",
            "            ...\n",
            "            (   'Volume',   'JNJ'),\n",
            "            (   'Volume',    'TM'),\n",
            "            (   'Volume',   'HMC'),\n",
            "            (   'Volume', 'MSBHY'),\n",
            "            (   'Volume',   'SNE'),\n",
            "            (   'Volume',   'XOM'),\n",
            "            (   'Volume',   'CVX'),\n",
            "            (   'Volume',   'VLO'),\n",
            "            (   'Volume',     'F'),\n",
            "            (   'Volume',   'BAC')],\n",
            "           names=['Attributes', 'Symbols'], length=162)]\n"
          ],
          "name": "stdout"
        }
      ]
    },
    {
      "cell_type": "code",
      "metadata": {
        "id": "AuyWQYdW_X9j",
        "outputId": "c86cc87d-b225-4cc3-c14c-081eeda95fc6",
        "colab": {
          "base_uri": "https://localhost:8080/",
          "height": 315
        }
      },
      "source": [
        "data.head()"
      ],
      "execution_count": 5,
      "outputs": [
        {
          "output_type": "execute_result",
          "data": {
            "text/html": [
              "<div>\n",
              "<style scoped>\n",
              "    .dataframe tbody tr th:only-of-type {\n",
              "        vertical-align: middle;\n",
              "    }\n",
              "\n",
              "    .dataframe tbody tr th {\n",
              "        vertical-align: top;\n",
              "    }\n",
              "\n",
              "    .dataframe thead tr th {\n",
              "        text-align: left;\n",
              "    }\n",
              "\n",
              "    .dataframe thead tr:last-of-type th {\n",
              "        text-align: right;\n",
              "    }\n",
              "</style>\n",
              "<table border=\"1\" class=\"dataframe\">\n",
              "  <thead>\n",
              "    <tr>\n",
              "      <th>Attributes</th>\n",
              "      <th colspan=\"27\" halign=\"left\">Adj Close</th>\n",
              "      <th colspan=\"13\" halign=\"left\">Close</th>\n",
              "      <th>...</th>\n",
              "      <th colspan=\"13\" halign=\"left\">Open</th>\n",
              "      <th colspan=\"27\" halign=\"left\">Volume</th>\n",
              "    </tr>\n",
              "    <tr>\n",
              "      <th>Symbols</th>\n",
              "      <th>AMZN</th>\n",
              "      <th>AAPL</th>\n",
              "      <th>WBA</th>\n",
              "      <th>NOC</th>\n",
              "      <th>BA</th>\n",
              "      <th>LMT</th>\n",
              "      <th>MCD</th>\n",
              "      <th>INTC</th>\n",
              "      <th>NAV</th>\n",
              "      <th>IBM</th>\n",
              "      <th>TXN</th>\n",
              "      <th>MA</th>\n",
              "      <th>MSFT</th>\n",
              "      <th>GE</th>\n",
              "      <th>AXP</th>\n",
              "      <th>PEP</th>\n",
              "      <th>KO</th>\n",
              "      <th>JNJ</th>\n",
              "      <th>TM</th>\n",
              "      <th>HMC</th>\n",
              "      <th>MSBHY</th>\n",
              "      <th>SNE</th>\n",
              "      <th>XOM</th>\n",
              "      <th>CVX</th>\n",
              "      <th>VLO</th>\n",
              "      <th>F</th>\n",
              "      <th>BAC</th>\n",
              "      <th>AMZN</th>\n",
              "      <th>AAPL</th>\n",
              "      <th>WBA</th>\n",
              "      <th>NOC</th>\n",
              "      <th>BA</th>\n",
              "      <th>LMT</th>\n",
              "      <th>MCD</th>\n",
              "      <th>INTC</th>\n",
              "      <th>NAV</th>\n",
              "      <th>IBM</th>\n",
              "      <th>TXN</th>\n",
              "      <th>MA</th>\n",
              "      <th>MSFT</th>\n",
              "      <th>...</th>\n",
              "      <th>AXP</th>\n",
              "      <th>PEP</th>\n",
              "      <th>KO</th>\n",
              "      <th>JNJ</th>\n",
              "      <th>TM</th>\n",
              "      <th>HMC</th>\n",
              "      <th>MSBHY</th>\n",
              "      <th>SNE</th>\n",
              "      <th>XOM</th>\n",
              "      <th>CVX</th>\n",
              "      <th>VLO</th>\n",
              "      <th>F</th>\n",
              "      <th>BAC</th>\n",
              "      <th>AMZN</th>\n",
              "      <th>AAPL</th>\n",
              "      <th>WBA</th>\n",
              "      <th>NOC</th>\n",
              "      <th>BA</th>\n",
              "      <th>LMT</th>\n",
              "      <th>MCD</th>\n",
              "      <th>INTC</th>\n",
              "      <th>NAV</th>\n",
              "      <th>IBM</th>\n",
              "      <th>TXN</th>\n",
              "      <th>MA</th>\n",
              "      <th>MSFT</th>\n",
              "      <th>GE</th>\n",
              "      <th>AXP</th>\n",
              "      <th>PEP</th>\n",
              "      <th>KO</th>\n",
              "      <th>JNJ</th>\n",
              "      <th>TM</th>\n",
              "      <th>HMC</th>\n",
              "      <th>MSBHY</th>\n",
              "      <th>SNE</th>\n",
              "      <th>XOM</th>\n",
              "      <th>CVX</th>\n",
              "      <th>VLO</th>\n",
              "      <th>F</th>\n",
              "      <th>BAC</th>\n",
              "    </tr>\n",
              "    <tr>\n",
              "      <th>Date</th>\n",
              "      <th></th>\n",
              "      <th></th>\n",
              "      <th></th>\n",
              "      <th></th>\n",
              "      <th></th>\n",
              "      <th></th>\n",
              "      <th></th>\n",
              "      <th></th>\n",
              "      <th></th>\n",
              "      <th></th>\n",
              "      <th></th>\n",
              "      <th></th>\n",
              "      <th></th>\n",
              "      <th></th>\n",
              "      <th></th>\n",
              "      <th></th>\n",
              "      <th></th>\n",
              "      <th></th>\n",
              "      <th></th>\n",
              "      <th></th>\n",
              "      <th></th>\n",
              "      <th></th>\n",
              "      <th></th>\n",
              "      <th></th>\n",
              "      <th></th>\n",
              "      <th></th>\n",
              "      <th></th>\n",
              "      <th></th>\n",
              "      <th></th>\n",
              "      <th></th>\n",
              "      <th></th>\n",
              "      <th></th>\n",
              "      <th></th>\n",
              "      <th></th>\n",
              "      <th></th>\n",
              "      <th></th>\n",
              "      <th></th>\n",
              "      <th></th>\n",
              "      <th></th>\n",
              "      <th></th>\n",
              "      <th></th>\n",
              "      <th></th>\n",
              "      <th></th>\n",
              "      <th></th>\n",
              "      <th></th>\n",
              "      <th></th>\n",
              "      <th></th>\n",
              "      <th></th>\n",
              "      <th></th>\n",
              "      <th></th>\n",
              "      <th></th>\n",
              "      <th></th>\n",
              "      <th></th>\n",
              "      <th></th>\n",
              "      <th></th>\n",
              "      <th></th>\n",
              "      <th></th>\n",
              "      <th></th>\n",
              "      <th></th>\n",
              "      <th></th>\n",
              "      <th></th>\n",
              "      <th></th>\n",
              "      <th></th>\n",
              "      <th></th>\n",
              "      <th></th>\n",
              "      <th></th>\n",
              "      <th></th>\n",
              "      <th></th>\n",
              "      <th></th>\n",
              "      <th></th>\n",
              "      <th></th>\n",
              "      <th></th>\n",
              "      <th></th>\n",
              "      <th></th>\n",
              "      <th></th>\n",
              "      <th></th>\n",
              "      <th></th>\n",
              "      <th></th>\n",
              "      <th></th>\n",
              "      <th></th>\n",
              "      <th></th>\n",
              "    </tr>\n",
              "  </thead>\n",
              "  <tbody>\n",
              "    <tr>\n",
              "      <th>2017-01-03</th>\n",
              "      <td>753.669983</td>\n",
              "      <td>27.548414</td>\n",
              "      <td>74.631035</td>\n",
              "      <td>221.676895</td>\n",
              "      <td>145.533676</td>\n",
              "      <td>230.415558</td>\n",
              "      <td>108.995216</td>\n",
              "      <td>33.292320</td>\n",
              "      <td>31.84</td>\n",
              "      <td>141.637695</td>\n",
              "      <td>66.572350</td>\n",
              "      <td>103.036858</td>\n",
              "      <td>58.826855</td>\n",
              "      <td>27.988964</td>\n",
              "      <td>71.067505</td>\n",
              "      <td>93.645386</td>\n",
              "      <td>36.921265</td>\n",
              "      <td>104.804771</td>\n",
              "      <td>107.815971</td>\n",
              "      <td>26.379044</td>\n",
              "      <td>36.767429</td>\n",
              "      <td>27.671434</td>\n",
              "      <td>76.089203</td>\n",
              "      <td>100.711700</td>\n",
              "      <td>60.059143</td>\n",
              "      <td>10.210474</td>\n",
              "      <td>20.867758</td>\n",
              "      <td>753.669983</td>\n",
              "      <td>29.037500</td>\n",
              "      <td>82.959999</td>\n",
              "      <td>234.889999</td>\n",
              "      <td>156.970001</td>\n",
              "      <td>253.309998</td>\n",
              "      <td>119.620003</td>\n",
              "      <td>36.599998</td>\n",
              "      <td>31.84</td>\n",
              "      <td>167.190002</td>\n",
              "      <td>73.580002</td>\n",
              "      <td>105.389999</td>\n",
              "      <td>62.580002</td>\n",
              "      <td>...</td>\n",
              "      <td>74.889999</td>\n",
              "      <td>104.940002</td>\n",
              "      <td>41.500000</td>\n",
              "      <td>115.779999</td>\n",
              "      <td>118.169998</td>\n",
              "      <td>29.480000</td>\n",
              "      <td>42.459999</td>\n",
              "      <td>28.100000</td>\n",
              "      <td>90.940002</td>\n",
              "      <td>118.379997</td>\n",
              "      <td>69.550003</td>\n",
              "      <td>12.20</td>\n",
              "      <td>22.600000</td>\n",
              "      <td>3521100.0</td>\n",
              "      <td>115127600.0</td>\n",
              "      <td>4942700.0</td>\n",
              "      <td>1178900.0</td>\n",
              "      <td>3426100.0</td>\n",
              "      <td>1667700.0</td>\n",
              "      <td>5123800.0</td>\n",
              "      <td>20196500.0</td>\n",
              "      <td>630100.0</td>\n",
              "      <td>2934300.0</td>\n",
              "      <td>4847900.0</td>\n",
              "      <td>4711300.0</td>\n",
              "      <td>20694100.0</td>\n",
              "      <td>33435400.0</td>\n",
              "      <td>5853900.0</td>\n",
              "      <td>3741200.0</td>\n",
              "      <td>14711000.0</td>\n",
              "      <td>5953000.0</td>\n",
              "      <td>204000.0</td>\n",
              "      <td>864500.0</td>\n",
              "      <td>1200.0</td>\n",
              "      <td>894900.0</td>\n",
              "      <td>10360600.0</td>\n",
              "      <td>7404800.0</td>\n",
              "      <td>4425000.0</td>\n",
              "      <td>40510800.0</td>\n",
              "      <td>99298100.0</td>\n",
              "    </tr>\n",
              "    <tr>\n",
              "      <th>2017-01-04</th>\n",
              "      <td>757.179993</td>\n",
              "      <td>27.517582</td>\n",
              "      <td>74.649048</td>\n",
              "      <td>222.016632</td>\n",
              "      <td>147.063477</td>\n",
              "      <td>231.034088</td>\n",
              "      <td>108.867645</td>\n",
              "      <td>33.119495</td>\n",
              "      <td>31.90</td>\n",
              "      <td>143.391296</td>\n",
              "      <td>66.490906</td>\n",
              "      <td>104.014519</td>\n",
              "      <td>58.563644</td>\n",
              "      <td>27.997797</td>\n",
              "      <td>72.232552</td>\n",
              "      <td>93.824348</td>\n",
              "      <td>36.788780</td>\n",
              "      <td>104.632874</td>\n",
              "      <td>110.216927</td>\n",
              "      <td>27.314472</td>\n",
              "      <td>37.758354</td>\n",
              "      <td>27.955095</td>\n",
              "      <td>75.252037</td>\n",
              "      <td>100.686050</td>\n",
              "      <td>57.901398</td>\n",
              "      <td>10.680854</td>\n",
              "      <td>21.256769</td>\n",
              "      <td>757.179993</td>\n",
              "      <td>29.004999</td>\n",
              "      <td>82.980003</td>\n",
              "      <td>235.250000</td>\n",
              "      <td>158.619995</td>\n",
              "      <td>253.990005</td>\n",
              "      <td>119.480003</td>\n",
              "      <td>36.410000</td>\n",
              "      <td>31.90</td>\n",
              "      <td>169.259995</td>\n",
              "      <td>73.489998</td>\n",
              "      <td>106.389999</td>\n",
              "      <td>62.299999</td>\n",
              "      <td>...</td>\n",
              "      <td>75.260002</td>\n",
              "      <td>105.110001</td>\n",
              "      <td>41.880001</td>\n",
              "      <td>115.500000</td>\n",
              "      <td>120.269997</td>\n",
              "      <td>30.209999</td>\n",
              "      <td>43.270000</td>\n",
              "      <td>28.480000</td>\n",
              "      <td>91.120003</td>\n",
              "      <td>118.410004</td>\n",
              "      <td>69.540001</td>\n",
              "      <td>12.77</td>\n",
              "      <td>22.719999</td>\n",
              "      <td>2510500.0</td>\n",
              "      <td>84472400.0</td>\n",
              "      <td>4125500.0</td>\n",
              "      <td>664100.0</td>\n",
              "      <td>3189800.0</td>\n",
              "      <td>1077600.0</td>\n",
              "      <td>3780800.0</td>\n",
              "      <td>15915700.0</td>\n",
              "      <td>776800.0</td>\n",
              "      <td>3381400.0</td>\n",
              "      <td>4507100.0</td>\n",
              "      <td>3299000.0</td>\n",
              "      <td>21340000.0</td>\n",
              "      <td>22300600.0</td>\n",
              "      <td>4635800.0</td>\n",
              "      <td>3029700.0</td>\n",
              "      <td>9959400.0</td>\n",
              "      <td>5828900.0</td>\n",
              "      <td>250600.0</td>\n",
              "      <td>705500.0</td>\n",
              "      <td>900.0</td>\n",
              "      <td>910500.0</td>\n",
              "      <td>9434200.0</td>\n",
              "      <td>6679900.0</td>\n",
              "      <td>7431000.0</td>\n",
              "      <td>77638100.0</td>\n",
              "      <td>76875100.0</td>\n",
              "    </tr>\n",
              "    <tr>\n",
              "      <th>2017-01-05</th>\n",
              "      <td>780.450012</td>\n",
              "      <td>27.657520</td>\n",
              "      <td>74.694016</td>\n",
              "      <td>222.715042</td>\n",
              "      <td>147.146927</td>\n",
              "      <td>232.844208</td>\n",
              "      <td>109.068123</td>\n",
              "      <td>33.064915</td>\n",
              "      <td>30.77</td>\n",
              "      <td>142.916901</td>\n",
              "      <td>65.975204</td>\n",
              "      <td>104.817863</td>\n",
              "      <td>58.563644</td>\n",
              "      <td>27.838821</td>\n",
              "      <td>71.342186</td>\n",
              "      <td>93.699074</td>\n",
              "      <td>36.877098</td>\n",
              "      <td>105.727615</td>\n",
              "      <td>109.534843</td>\n",
              "      <td>27.314472</td>\n",
              "      <td>37.965153</td>\n",
              "      <td>28.092035</td>\n",
              "      <td>74.130257</td>\n",
              "      <td>100.250214</td>\n",
              "      <td>57.722294</td>\n",
              "      <td>10.356455</td>\n",
              "      <td>21.006685</td>\n",
              "      <td>780.450012</td>\n",
              "      <td>29.152500</td>\n",
              "      <td>83.029999</td>\n",
              "      <td>235.990005</td>\n",
              "      <td>158.710007</td>\n",
              "      <td>255.979996</td>\n",
              "      <td>119.699997</td>\n",
              "      <td>36.349998</td>\n",
              "      <td>30.77</td>\n",
              "      <td>168.699997</td>\n",
              "      <td>72.919998</td>\n",
              "      <td>106.989998</td>\n",
              "      <td>62.299999</td>\n",
              "      <td>...</td>\n",
              "      <td>76.000000</td>\n",
              "      <td>104.519997</td>\n",
              "      <td>41.660000</td>\n",
              "      <td>116.000000</td>\n",
              "      <td>121.190002</td>\n",
              "      <td>30.620001</td>\n",
              "      <td>44.549999</td>\n",
              "      <td>28.540001</td>\n",
              "      <td>90.190002</td>\n",
              "      <td>118.000000</td>\n",
              "      <td>68.389999</td>\n",
              "      <td>13.21</td>\n",
              "      <td>22.820000</td>\n",
              "      <td>5830100.0</td>\n",
              "      <td>88774400.0</td>\n",
              "      <td>7401400.0</td>\n",
              "      <td>891200.0</td>\n",
              "      <td>2796000.0</td>\n",
              "      <td>1279200.0</td>\n",
              "      <td>4261100.0</td>\n",
              "      <td>13986000.0</td>\n",
              "      <td>624200.0</td>\n",
              "      <td>2682300.0</td>\n",
              "      <td>4301100.0</td>\n",
              "      <td>3262200.0</td>\n",
              "      <td>24876000.0</td>\n",
              "      <td>26891000.0</td>\n",
              "      <td>3383000.0</td>\n",
              "      <td>5087200.0</td>\n",
              "      <td>8968300.0</td>\n",
              "      <td>6217200.0</td>\n",
              "      <td>525900.0</td>\n",
              "      <td>482600.0</td>\n",
              "      <td>11100.0</td>\n",
              "      <td>1027500.0</td>\n",
              "      <td>14443200.0</td>\n",
              "      <td>5928600.0</td>\n",
              "      <td>6450600.0</td>\n",
              "      <td>75628400.0</td>\n",
              "      <td>86826400.0</td>\n",
              "    </tr>\n",
              "    <tr>\n",
              "      <th>2017-01-06</th>\n",
              "      <td>795.989990</td>\n",
              "      <td>27.965857</td>\n",
              "      <td>74.757011</td>\n",
              "      <td>223.413406</td>\n",
              "      <td>147.508514</td>\n",
              "      <td>234.545227</td>\n",
              "      <td>110.033981</td>\n",
              "      <td>33.183170</td>\n",
              "      <td>30.57</td>\n",
              "      <td>143.620056</td>\n",
              "      <td>67.088066</td>\n",
              "      <td>105.572250</td>\n",
              "      <td>59.071262</td>\n",
              "      <td>27.918308</td>\n",
              "      <td>71.484283</td>\n",
              "      <td>93.564835</td>\n",
              "      <td>36.868275</td>\n",
              "      <td>105.220963</td>\n",
              "      <td>109.252914</td>\n",
              "      <td>27.145203</td>\n",
              "      <td>37.680801</td>\n",
              "      <td>28.326784</td>\n",
              "      <td>74.088402</td>\n",
              "      <td>99.848557</td>\n",
              "      <td>56.852364</td>\n",
              "      <td>10.348345</td>\n",
              "      <td>21.006685</td>\n",
              "      <td>795.989990</td>\n",
              "      <td>29.477501</td>\n",
              "      <td>83.099998</td>\n",
              "      <td>236.729996</td>\n",
              "      <td>159.100006</td>\n",
              "      <td>257.850006</td>\n",
              "      <td>120.760002</td>\n",
              "      <td>36.480000</td>\n",
              "      <td>30.57</td>\n",
              "      <td>169.529999</td>\n",
              "      <td>74.150002</td>\n",
              "      <td>107.760002</td>\n",
              "      <td>62.840000</td>\n",
              "      <td>...</td>\n",
              "      <td>75.400002</td>\n",
              "      <td>104.980003</td>\n",
              "      <td>41.700001</td>\n",
              "      <td>116.669998</td>\n",
              "      <td>119.839996</td>\n",
              "      <td>30.350000</td>\n",
              "      <td>44.040001</td>\n",
              "      <td>28.570000</td>\n",
              "      <td>88.790001</td>\n",
              "      <td>117.449997</td>\n",
              "      <td>67.699997</td>\n",
              "      <td>12.80</td>\n",
              "      <td>22.780001</td>\n",
              "      <td>5986200.0</td>\n",
              "      <td>127007600.0</td>\n",
              "      <td>3949700.0</td>\n",
              "      <td>619200.0</td>\n",
              "      <td>2426000.0</td>\n",
              "      <td>1246000.0</td>\n",
              "      <td>4089200.0</td>\n",
              "      <td>15114000.0</td>\n",
              "      <td>406000.0</td>\n",
              "      <td>2945500.0</td>\n",
              "      <td>5244600.0</td>\n",
              "      <td>3044600.0</td>\n",
              "      <td>19922900.0</td>\n",
              "      <td>23005600.0</td>\n",
              "      <td>3089600.0</td>\n",
              "      <td>4109700.0</td>\n",
              "      <td>10246600.0</td>\n",
              "      <td>5221400.0</td>\n",
              "      <td>171600.0</td>\n",
              "      <td>493600.0</td>\n",
              "      <td>3000.0</td>\n",
              "      <td>964800.0</td>\n",
              "      <td>16518100.0</td>\n",
              "      <td>4762500.0</td>\n",
              "      <td>3771700.0</td>\n",
              "      <td>40315900.0</td>\n",
              "      <td>66281500.0</td>\n",
              "    </tr>\n",
              "    <tr>\n",
              "      <th>2017-01-09</th>\n",
              "      <td>796.919983</td>\n",
              "      <td>28.222006</td>\n",
              "      <td>74.262199</td>\n",
              "      <td>222.545166</td>\n",
              "      <td>146.785309</td>\n",
              "      <td>234.508835</td>\n",
              "      <td>109.733284</td>\n",
              "      <td>33.301426</td>\n",
              "      <td>29.77</td>\n",
              "      <td>142.027374</td>\n",
              "      <td>67.259972</td>\n",
              "      <td>105.366516</td>\n",
              "      <td>58.883255</td>\n",
              "      <td>27.785828</td>\n",
              "      <td>71.853676</td>\n",
              "      <td>92.580528</td>\n",
              "      <td>36.497288</td>\n",
              "      <td>105.202843</td>\n",
              "      <td>108.898224</td>\n",
              "      <td>27.109570</td>\n",
              "      <td>37.517086</td>\n",
              "      <td>28.189850</td>\n",
              "      <td>72.866158</td>\n",
              "      <td>98.993996</td>\n",
              "      <td>56.605026</td>\n",
              "      <td>10.242913</td>\n",
              "      <td>20.886276</td>\n",
              "      <td>796.919983</td>\n",
              "      <td>29.747499</td>\n",
              "      <td>82.550003</td>\n",
              "      <td>235.809998</td>\n",
              "      <td>158.320007</td>\n",
              "      <td>257.809998</td>\n",
              "      <td>120.430000</td>\n",
              "      <td>36.610001</td>\n",
              "      <td>29.77</td>\n",
              "      <td>167.649994</td>\n",
              "      <td>74.339996</td>\n",
              "      <td>107.550003</td>\n",
              "      <td>62.639999</td>\n",
              "      <td>...</td>\n",
              "      <td>76.139999</td>\n",
              "      <td>104.160004</td>\n",
              "      <td>41.230000</td>\n",
              "      <td>116.349998</td>\n",
              "      <td>119.480003</td>\n",
              "      <td>30.370001</td>\n",
              "      <td>43.540001</td>\n",
              "      <td>28.740000</td>\n",
              "      <td>88.220001</td>\n",
              "      <td>116.290001</td>\n",
              "      <td>66.220001</td>\n",
              "      <td>12.79</td>\n",
              "      <td>22.510000</td>\n",
              "      <td>3446100.0</td>\n",
              "      <td>134247600.0</td>\n",
              "      <td>3293000.0</td>\n",
              "      <td>703600.0</td>\n",
              "      <td>2839400.0</td>\n",
              "      <td>1067100.0</td>\n",
              "      <td>3021800.0</td>\n",
              "      <td>19461400.0</td>\n",
              "      <td>600000.0</td>\n",
              "      <td>3189900.0</td>\n",
              "      <td>4782900.0</td>\n",
              "      <td>2500700.0</td>\n",
              "      <td>20382700.0</td>\n",
              "      <td>22113000.0</td>\n",
              "      <td>4818700.0</td>\n",
              "      <td>5603500.0</td>\n",
              "      <td>14822500.0</td>\n",
              "      <td>5457500.0</td>\n",
              "      <td>135800.0</td>\n",
              "      <td>585200.0</td>\n",
              "      <td>1200.0</td>\n",
              "      <td>648700.0</td>\n",
              "      <td>13762300.0</td>\n",
              "      <td>6891800.0</td>\n",
              "      <td>5132600.0</td>\n",
              "      <td>39438400.0</td>\n",
              "      <td>75901500.0</td>\n",
              "    </tr>\n",
              "  </tbody>\n",
              "</table>\n",
              "<p>5 rows × 162 columns</p>\n",
              "</div>"
            ],
            "text/plain": [
              "Attributes   Adj Close                        ...     Volume                        \n",
              "Symbols           AMZN       AAPL        WBA  ...        VLO           F         BAC\n",
              "Date                                          ...                                   \n",
              "2017-01-03  753.669983  27.548414  74.631035  ...  4425000.0  40510800.0  99298100.0\n",
              "2017-01-04  757.179993  27.517582  74.649048  ...  7431000.0  77638100.0  76875100.0\n",
              "2017-01-05  780.450012  27.657520  74.694016  ...  6450600.0  75628400.0  86826400.0\n",
              "2017-01-06  795.989990  27.965857  74.757011  ...  3771700.0  40315900.0  66281500.0\n",
              "2017-01-09  796.919983  28.222006  74.262199  ...  5132600.0  39438400.0  75901500.0\n",
              "\n",
              "[5 rows x 162 columns]"
            ]
          },
          "metadata": {
            "tags": []
          },
          "execution_count": 5
        }
      ]
    },
    {
      "cell_type": "code",
      "metadata": {
        "id": "fd5fU52iAiBn",
        "outputId": "9fd865b2-fe5d-4434-e253-d9fe8fa6cf31",
        "colab": {
          "base_uri": "https://localhost:8080/",
          "height": 1000
        }
      },
      "source": [
        "stock_close=data['Close']\n",
        "stock_open=data['Open']\n",
        "print(stock_close.iloc[0])\n",
        "print(stock_open.iloc[0])"
      ],
      "execution_count": 6,
      "outputs": [
        {
          "output_type": "stream",
          "text": [
            "Symbols\n",
            "AMZN     753.669983\n",
            "AAPL      29.037500\n",
            "WBA       82.959999\n",
            "NOC      234.889999\n",
            "BA       156.970001\n",
            "LMT      253.309998\n",
            "MCD      119.620003\n",
            "INTC      36.599998\n",
            "NAV       31.840000\n",
            "IBM      167.190002\n",
            "TXN       73.580002\n",
            "MA       105.389999\n",
            "MSFT      62.580002\n",
            "GE        30.471153\n",
            "AXP       75.349998\n",
            "PEP      104.650002\n",
            "KO        41.799999\n",
            "JNJ      115.839996\n",
            "TM       118.550003\n",
            "HMC       29.610001\n",
            "MSBHY     42.669998\n",
            "SNE       28.290001\n",
            "XOM       90.889999\n",
            "CVX      117.849998\n",
            "VLO       70.419998\n",
            "F         12.590000\n",
            "BAC       22.530001\n",
            "Name: 2017-01-03 00:00:00, dtype: float64\n",
            "Symbols\n",
            "AMZN     757.919983\n",
            "AAPL      28.950001\n",
            "WBA       83.099998\n",
            "NOC      234.100006\n",
            "BA       156.300003\n",
            "LMT      251.199997\n",
            "MCD      121.860001\n",
            "INTC      36.610001\n",
            "NAV       31.799999\n",
            "IBM      167.000000\n",
            "TXN       73.529999\n",
            "MA       104.410004\n",
            "MSFT      62.790001\n",
            "GE        30.451923\n",
            "AXP       74.889999\n",
            "PEP      104.940002\n",
            "KO        41.500000\n",
            "JNJ      115.779999\n",
            "TM       118.169998\n",
            "HMC       29.480000\n",
            "MSBHY     42.459999\n",
            "SNE       28.100000\n",
            "XOM       90.940002\n",
            "CVX      118.379997\n",
            "VLO       69.550003\n",
            "F         12.200000\n",
            "BAC       22.600000\n",
            "Name: 2017-01-03 00:00:00, dtype: float64\n"
          ],
          "name": "stdout"
        }
      ]
    },
    {
      "cell_type": "markdown",
      "metadata": {
        "id": "BFGspqjmiTeh"
      },
      "source": [
        "Now let's move on to calculating the daily stock movements, since it's off of this movement that we want to cluster our data.\n",
        "\n",
        "To do this we're first going to convert our stock_open and stock_close values to a numpy array. Also, since these values are currently a column vector for each day we're going to use .T to take the transpose of these and give us row vectors instead.\n",
        "\n",
        "We're then going to create a movements dataset, and we'll start with a blank numpy array filled with 0's for now.\n",
        "\n",
        "We're then going to write a for loop to assign the daily movement (stock_close - stock_open) for all the dates."
      ]
    },
    {
      "cell_type": "code",
      "metadata": {
        "id": "ovLbfZsRFqKO"
      },
      "source": [
        "stock_close=np.array(stock_close).T\n",
        "stock_open=np.array(stock_open).T\n",
        "\n",
        "row,col=stock_close.shape\n",
        "movements=np.zeros([row,col])\n",
        "\n",
        "for i in range(0,row):\n",
        "  movements[i,:]=np.subtract(stock_close[i,:],stock_open[i,:1])\n",
        "  "
      ],
      "execution_count": 7,
      "outputs": []
    },
    {
      "cell_type": "code",
      "metadata": {
        "id": "1S61iE0SHWta",
        "outputId": "98719bc5-55b7-48e6-9489-5de81b6f2fc3",
        "colab": {
          "base_uri": "https://localhost:8080/",
          "height": 476
        }
      },
      "source": [
        "for i in range(0,len(companies)):\n",
        "  print('company:{},change:{}'.format(companies[i][0],sum(movements[i,:])))"
      ],
      "execution_count": 8,
      "outputs": [
        {
          "output_type": "stream",
          "text": [
            "company:Apple,change:274607.3586425781\n",
            "company:Amazon,change:6777.282135009766\n",
            "company:American Express,change:-4205.3492431640625\n",
            "company:Boeing,change:27045.496520996094\n",
            "company:Bank of America,change:62084.378677368164\n",
            "company:Chevron,change:26949.44172668457\n",
            "company:Ford,change:17846.559616088867\n",
            "company:General Electric,change:3421.0397033691406\n",
            "company:Honda,change:1610.2804203033447\n",
            "company:IBM,change:-8154.089973449707\n",
            "company:Intel,change:10890.480628967285\n",
            "company:Johnson & Johnson,change:27670.788162231445\n",
            "company:Coca Cola,change:11906.939632415771\n",
            "company:Lockheed Martin,change:-5905.692452907562\n",
            "company:MasterCard,change:8993.260307312012\n",
            "company:McDonalds,change:3457.1088256835938\n",
            "company:Mitsubishi,change:1696.2300186157227\n",
            "company:Microsoft,change:7837.720603942871\n",
            "company:Navistar,change:1564.1308822631836\n",
            "company:Northrop Grumman,change:583.7802276611328\n",
            "company:Pepsi,change:4260.590476989746\n",
            "company:Sony,change:8151.299800872803\n",
            "company:Toyota,change:-5035.741264343262\n",
            "company:Texas Instruments,change:-1272.7985534667969\n",
            "company:Valero Energy,change:8419.238479614258\n",
            "company:Walgreen,change:-552.1998920440674\n",
            "company:Exxon,change:2313.9398040771484\n"
          ],
          "name": "stdout"
        }
      ]
    },
    {
      "cell_type": "markdown",
      "metadata": {
        "id": "Qx27d0-widhG"
      },
      "source": [
        "# **Exploratory Data Analysis**\n"
      ]
    },
    {
      "cell_type": "code",
      "metadata": {
        "id": "f9dL7tV2HY7m",
        "outputId": "f84096bb-b677-4e7b-a5ef-b5caa9ba63ff",
        "colab": {
          "base_uri": "https://localhost:8080/",
          "height": 282
        }
      },
      "source": [
        "plt.figure(figsize=(18,16))\n",
        "ax1 = plt.subplot(221)\n",
        "plt.plot(movements[0][:])\n",
        "plt.title(companies[0])\n",
        "\n",
        "plt.subplot(222, sharey=ax1)\n",
        "plt.plot(movements[1][:])\n",
        "plt.title(companies[1])\n",
        "plt.show()"
      ],
      "execution_count": 9,
      "outputs": [
        {
          "output_type": "display_data",
          "data": {
            "image/png": "[encoded data removed]",
            "text/plain": [
              "<Figure size 1296x1152 with 2 Axes>"
            ]
          },
          "metadata": {
            "tags": [],
            "needs_background": "light"
          }
        }
      ]
    },
    {
      "cell_type": "markdown",
      "metadata": {
        "id": "n1aEpnnHiprp"
      },
      "source": [
        "We can clearly see that the two stocks above have different scales between the price movements.\n",
        "\n",
        "So its important to do Normalisation before we apply the clustering algorithm"
      ]
    },
    {
      "cell_type": "code",
      "metadata": {
        "id": "hgwk8iplJPPi",
        "outputId": "52adfa2a-03c0-4994-91dc-7c15069cfe6a",
        "colab": {
          "base_uri": "https://localhost:8080/",
          "height": 68
        }
      },
      "source": [
        "# import Normalizer\n",
        "from sklearn.preprocessing import Normalizer\n",
        "# create the Normalizer\n",
        "normalizer = Normalizer()\n",
        "\n",
        "new = normalizer.fit_transform(movements)\n",
        "\n",
        "print(new.max())\n",
        "print(new.min())\n",
        "print(new.mean())"
      ],
      "execution_count": 10,
      "outputs": [
        {
          "output_type": "stream",
          "text": [
            "0.10996262740117164\n",
            "-0.12591151781994855\n",
            "0.019644710209770558\n"
          ],
          "name": "stdout"
        }
      ]
    },
    {
      "cell_type": "code",
      "metadata": {
        "id": "2ODoPXCD4IlG",
        "outputId": "9b7b1031-5673-4e08-e8a0-ab35456a196d",
        "colab": {
          "base_uri": "https://localhost:8080/",
          "height": 283
        }
      },
      "source": [
        "plt.figure(figsize=(18,16))\n",
        "ax1 = plt.subplot(221)\n",
        "plt.plot(new[0][:])\n",
        "plt.title(companies[0])\n",
        "\n",
        "plt.subplot(222, sharey=ax1)\n",
        "plt.plot(new[1][:])\n",
        "plt.title(companies[1])\n",
        "plt.show()"
      ],
      "execution_count": 11,
      "outputs": [
        {
          "output_type": "display_data",
          "data": {
            "image/png": "[encoded data removed]",
            "text/plain": [
              "<Figure size 1296x1152 with 2 Axes>"
            ]
          },
          "metadata": {
            "tags": [],
            "needs_background": "light"
          }
        }
      ]
    },
    {
      "cell_type": "markdown",
      "metadata": {
        "id": "172rGXVzjL7X"
      },
      "source": [
        "After Normalisation it looks more even and fair"
      ]
    },
    {
      "cell_type": "markdown",
      "metadata": {
        "id": "DwwN1zK0jXK_"
      },
      "source": [
        "**K-Means Clustering**"
      ]
    },
    {
      "cell_type": "markdown",
      "metadata": {
        "id": "dnUwgspSjey1"
      },
      "source": [
        "There are many moving parts in a Machine Learning (ML) model that have to be tied together for an ML model to execute and produce results successfully. This process of tying together different pieces of the ML process is known as a pipeline. A pipeline is a generalized but very important concept for a Data Scientist"
      ]
    },
    {
      "cell_type": "code",
      "metadata": {
        "id": "cThR_j2cJdgN"
      },
      "source": [
        "# import machine learning libraries\n",
        "from sklearn.pipeline import make_pipeline\n",
        "from sklearn.cluster import KMeans\n",
        "\n",
        "# define normalizer\n",
        "normalizer = Normalizer()\n",
        "\n",
        "# create a K-means model with 10 clusters\n",
        "kmeans = KMeans(n_clusters=10, max_iter=1000)\n",
        "\n",
        "# make a pipeline chaining normalizer and kmeans\n",
        "pipeline = make_pipeline(normalizer,kmeans)"
      ],
      "execution_count": 12,
      "outputs": []
    },
    {
      "cell_type": "markdown",
      "metadata": {
        "id": "sC2UTZRxj09U"
      },
      "source": [
        "After we've compiled this let's fit the pipeline to the daily stock movements.\n",
        "\n"
      ]
    },
    {
      "cell_type": "code",
      "metadata": {
        "id": "ckg0drcFKpP2",
        "outputId": "9ae22b9b-fc51-49a9-c790-1bbdd1fa09c6",
        "colab": {
          "base_uri": "https://localhost:8080/",
          "height": 153
        }
      },
      "source": [
        "pipeline.fit(movements)"
      ],
      "execution_count": 13,
      "outputs": [
        {
          "output_type": "execute_result",
          "data": {
            "text/plain": [
              "Pipeline(memory=None,\n",
              "         steps=[('normalizer', Normalizer(copy=True, norm='l2')),\n",
              "                ('kmeans',\n",
              "                 KMeans(algorithm='auto', copy_x=True, init='k-means++',\n",
              "                        max_iter=1000, n_clusters=10, n_init=10, n_jobs=None,\n",
              "                        precompute_distances='auto', random_state=None,\n",
              "                        tol=0.0001, verbose=0))],\n",
              "         verbose=False)"
            ]
          },
          "metadata": {
            "tags": []
          },
          "execution_count": 13
        }
      ]
    },
    {
      "cell_type": "markdown",
      "metadata": {
        "id": "xr3Hz7f_kCqa"
      },
      "source": [
        "Now we're going to actually predict the cluster labels.\n",
        "\n",
        "So the question is: based off the movements, which cluster should we assign the company to?\n",
        "\n",
        "To visualize this we'll create a DataFrame that aligns the labels to the companies and then print them out."
      ]
    },
    {
      "cell_type": "code",
      "metadata": {
        "id": "3Kyry0aNKpAj",
        "outputId": "4f897e95-be4a-4641-fe94-ae2a500d4524",
        "colab": {
          "base_uri": "https://localhost:8080/",
          "height": 493
        }
      },
      "source": [
        "# predict cluster labels\n",
        "labels = pipeline.predict(movements)\n",
        "\n",
        "# create a DataFrame aligning labels & companies\n",
        "df = pd.DataFrame({'labels': labels, 'companies': companies})\n",
        "\n",
        "# display df sorted by cluster labels\n",
        "print(df.sort_values('labels'))\n"
      ],
      "execution_count": 14,
      "outputs": [
        {
          "output_type": "stream",
          "text": [
            "    labels                 companies\n",
            "19       0   (Northrop Grumman, NOC)\n",
            "0        1             (Apple, AAPL)\n",
            "1        1            (Amazon, AMZN)\n",
            "21       1               (Sony, SNE)\n",
            "20       1              (Pepsi, PEP)\n",
            "4        1    (Bank of America, BAC)\n",
            "14       1          (MasterCard, MA)\n",
            "12       1           (Coca Cola, KO)\n",
            "11       1  (Johnson & Johnson, JNJ)\n",
            "25       2           (Walgreen, WBA)\n",
            "13       2    (Lockheed Martin, LMT)\n",
            "9        2                (IBM, IBM)\n",
            "23       3  (Texas Instruments, TXN)\n",
            "6        4                 (Ford, F)\n",
            "15       4          (McDonalds, MCD)\n",
            "16       4       (Mitsubishi, MSBHY)\n",
            "17       4         (Microsoft, MSFT)\n",
            "8        5              (Honda, HMC)\n",
            "22       6              (Toyota, TM)\n",
            "2        7   (American Express, AXP)\n",
            "7        8    (General Electric, GE)\n",
            "5        8            (Chevron, CVX)\n",
            "3        8              (Boeing, BA)\n",
            "24       8      (Valero Energy, VLO)\n",
            "10       8             (Intel, INTC)\n",
            "26       8              (Exxon, XOM)\n",
            "18       9           (Navistar, NAV)\n"
          ],
          "name": "stdout"
        }
      ]
    },
    {
      "cell_type": "markdown",
      "metadata": {
        "id": "F2xS9JuZkFjX"
      },
      "source": [
        "Principal Component Analysis (PCA) is a statistical procedure that uses an orthogonal transformation which converts a set of correlated variables to a set of uncorrelated variables. PCA is a most widely used tool in exploratory data analysis and in machine learning for predictive models.\n",
        "\n",
        "Principal Component Analysis (PCA) is used to explain the variance-covariance structure of a set of variables through linear combinations. It is often used as a dimensionality-reduction technique."
      ]
    },
    {
      "cell_type": "code",
      "metadata": {
        "id": "sEBonZEMK234",
        "outputId": "e65e3631-b63f-40c9-d5a0-3093e8e082e8",
        "colab": {
          "base_uri": "https://localhost:8080/",
          "height": 493
        }
      },
      "source": [
        "from sklearn.decomposition import PCA \n",
        "\n",
        "# visualize the results\n",
        "reduced_data = PCA(n_components = 2).fit_transform(new)\n",
        "\n",
        "# run kmeans on reduced data\n",
        "\n",
        "kmeans.fit(reduced_data)\n",
        "labels = kmeans.predict(reduced_data)\n",
        "\n",
        "# create DataFrame aligning labels & companies\n",
        "df = pd.DataFrame({'labels': labels, 'companies': companies})\n",
        "\n",
        "# Display df sorted by cluster labels\n",
        "print(df.sort_values('labels'))"
      ],
      "execution_count": 15,
      "outputs": [
        {
          "output_type": "stream",
          "text": [
            "    labels                 companies\n",
            "15       0          (McDonalds, MCD)\n",
            "9        1                (IBM, IBM)\n",
            "25       1           (Walgreen, WBA)\n",
            "22       1              (Toyota, TM)\n",
            "19       2   (Northrop Grumman, NOC)\n",
            "8        2              (Honda, HMC)\n",
            "18       2           (Navistar, NAV)\n",
            "5        3            (Chevron, CVX)\n",
            "4        3    (Bank of America, BAC)\n",
            "11       3  (Johnson & Johnson, JNJ)\n",
            "12       3           (Coca Cola, KO)\n",
            "14       3          (MasterCard, MA)\n",
            "1        3            (Amazon, AMZN)\n",
            "21       3               (Sony, SNE)\n",
            "0        3             (Apple, AAPL)\n",
            "23       4  (Texas Instruments, TXN)\n",
            "2        5   (American Express, AXP)\n",
            "7        6    (General Electric, GE)\n",
            "24       6      (Valero Energy, VLO)\n",
            "13       7    (Lockheed Martin, LMT)\n",
            "16       8       (Mitsubishi, MSBHY)\n",
            "6        8                 (Ford, F)\n",
            "17       8         (Microsoft, MSFT)\n",
            "20       9              (Pepsi, PEP)\n",
            "10       9             (Intel, INTC)\n",
            "3        9              (Boeing, BA)\n",
            "26       9              (Exxon, XOM)\n"
          ],
          "name": "stdout"
        }
      ]
    },
    {
      "cell_type": "code",
      "metadata": {
        "id": "0xjiR5zLK20j",
        "outputId": "ee4cb2b1-6e41-472a-866c-f904a4f85d9c",
        "colab": {
          "base_uri": "https://localhost:8080/",
          "height": 624
        }
      },
      "source": [
        "# Define step size of mesh\n",
        "h = 0.01\n",
        "\n",
        "# plot the decision boundary\n",
        "x_min, x_max = reduced_data[:, 0].min() - 1, reduced_data[:,0].max() + 1\n",
        "y_min, y_max = reduced_data[:, 1].min() - 1, reduced_data[:,1].max() + 1\n",
        "xx, yy = np.meshgrid(np.arange(x_min, x_max, h), np.arange(y_min, y_max, h))\n",
        "\n",
        "# Obtain abels for each point in the mesh using our trained model\n",
        "Z = kmeans.predict(np.c_[xx.ravel(), yy.ravel()])\n",
        "\n",
        "# Put the result into a color plot\n",
        "Z = Z.reshape(xx.shape)\n",
        "\n",
        "# define colorplot\n",
        "cmap = plt.cm.Paired\n",
        "\n",
        "# plot figure\n",
        "plt.clf()\n",
        "plt.figure(figsize=(10,10))\n",
        "plt.imshow(Z, interpolation='nearest',\n",
        " extent = (xx.min(), xx.max(), yy.min(), yy.max()),\n",
        " cmap = cmap,\n",
        " aspect = 'auto', origin='lower')\n",
        "plt.plot(reduced_data[:, 0], reduced_data[:, 1], 'k.', markersize=5)\n",
        "\n",
        "\n",
        "# plot the centroid of each cluster as a white X\n",
        "centroids = kmeans.cluster_centers_\n",
        "plt.scatter(centroids[:, 0], centroids[:, 1],\n",
        " marker='x', s=169, linewidth=3,\n",
        " color='w', zorder=10)\n",
        "\n",
        "plt.title('K-Means Clustering on Stock Market Movements (PCA-Reduced Data)')\n",
        "plt.xlim(x_min, x_max)\n",
        "plt.ylim(y_min, y_max)\n",
        "plt.show()"
      ],
      "execution_count": 16,
      "outputs": [
        {
          "output_type": "display_data",
          "data": {
            "text/plain": [
              "<Figure size 432x288 with 0 Axes>"
            ]
          },
          "metadata": {
            "tags": []
          }
        },
        {
          "output_type": "display_data",
          "data": {
            "image/png": "[encoded data removed]",
            "text/plain": [
              "<Figure size 720x720 with 1 Axes>"
            ]
          },
          "metadata": {
            "tags": [],
            "needs_background": "light"
          }
        }
      ]
    },
    {
      "cell_type": "code",
      "metadata": {
        "id": "XhdW4ZnCK2w4"
      },
      "source": [
        ""
      ],
      "execution_count": 16,
      "outputs": []
    }
  ]
}