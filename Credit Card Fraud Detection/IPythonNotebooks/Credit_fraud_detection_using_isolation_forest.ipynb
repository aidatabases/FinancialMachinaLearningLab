{
  "nbformat": 4,
  "nbformat_minor": 0,
  "metadata": {
    "colab": {
      "name": "Credit_fraud_detection_using_isolation_forest.ipynb",
      "provenance": []
    },
    "kernelspec": {
      "name": "python3",
      "display_name": "Python 3"
    }
  },
  "cells": [
    {
      "cell_type": "code",
      "metadata": {
        "id": "NaViDuvVCJlh",
        "colab_type": "code",
        "colab": {}
      },
      "source": [
        "import numpy as np\n",
        "import pandas as pd\n",
        "import sklearn\n",
        "import scipy\n",
        "import matplotlib.pyplot as plt\n",
        "import seaborn as sns\n",
        "from sklearn.metrics import classification_report,accuracy_score\n",
        "from sklearn.ensemble import IsolationForest\n",
        "from sklearn.neighbors import LocalOutlierFactor\n",
        "from sklearn.svm import OneClassSVM\n",
        "from pylab import rcParams\n",
        "rcParams['figure.figsize'] = 14, 8\n",
        "RANDOM_SEED = 42\n",
        "LABELS = [\"Normal\", \"Fraud\"]"
      ],
      "execution_count": null,
      "outputs": []
    },
    {
      "cell_type": "code",
      "metadata": {
        "id": "BX0vHydYCQVd",
        "colab_type": "code",
        "colab": {}
      },
      "source": [
        "data = pd.read_csv('creditcard.csv',sep=',')\n",
        "data.head()\n"
      ],
      "execution_count": null,
      "outputs": []
    },
    {
      "cell_type": "code",
      "metadata": {
        "id": "SoN50Ux4CURe",
        "colab_type": "code",
        "colab": {}
      },
      "source": [
        "Credit Card Kaggle Anamoly Detection¶\n",
        "Context¶\n",
        "It is important that credit card companies are able to recognize fraudulent credit card transactions so that customers are not charged for items that they did not purchase.\n",
        "\n",
        "Content¶\n",
        "The datasets contains transactions made by credit cards in September 2013 by european cardholders. This dataset presents transactions that occurred in two days, where we have 492 frauds out of 284,807 transactions. The dataset is highly unbalanced, the positive class (frauds) account for 0.172% of all transactions.\n",
        "\n",
        "It contains only numerical input variables which are the result of a PCA transformation. Unfortunately, due to confidentiality issues, we cannot provide the original features and more background information about the data. Features V1, V2, ... V28 are the principal components obtained with PCA, the only features which have not been transformed with PCA are 'Time' and 'Amount'. Feature 'Time' contains the seconds elapsed between each transaction and the first transaction in the dataset. The feature 'Amount' is the transaction Amount, this feature can be used for example-dependant cost-senstive learning. Feature 'Class' is the response variable and it takes value 1 in case of fraud and 0 otherwise.\n",
        "\n",
        "Inspiration¶\n",
        "Identify fraudulent credit card transactions.\n",
        "\n",
        "Given the class imbalance ratio, we recommend measuring the accuracy using the Area Under the Precision-Recall Curve (AUPRC). Confusion matrix accuracy is not meaningful for unbalanced classification.\n",
        "\n",
        "Acknowledgements¶\n",
        "The dataset has been collected and analysed during a research collaboration of Worldline and the Machine Learning Group (http://mlg.ulb.ac.be) of ULB (Université Libre de Bruxelles) on big data mining and fraud detection. More details on current and past projects on related topics are available on https://www.researchgate.net/project/Fraud-detection-5 and the page of the DefeatFraud project\n",
        "\n",
        "In [2]:\n",
        "import numpy as np\n",
        "import pandas as pd\n",
        "import sklearn\n",
        "import scipy\n",
        "import matplotlib.pyplot as plt\n",
        "import seaborn as sns\n",
        "from sklearn.metrics import classification_report,accuracy_score\n",
        "from sklearn.ensemble import IsolationForest\n",
        "from sklearn.neighbors import LocalOutlierFactor\n",
        "from sklearn.svm import OneClassSVM\n",
        "from pylab import rcParams\n",
        "rcParams['figure.figsize'] = 14, 8\n",
        "RANDOM_SEED = 42\n",
        "LABELS = [\"Normal\", \"Fraud\"]\n",
        "In [3]:\n",
        "data = pd.read_csv('creditcard.csv',sep=',')\n",
        "data.head()\n",
        "\n"
      ],
      "execution_count": null,
      "outputs": []
    },
    {
      "cell_type": "code",
      "metadata": {
        "id": "7s-WBJNQCfaW",
        "colab_type": "code",
        "colab": {}
      },
      "source": [
        "data.isnull().values.any()"
      ],
      "execution_count": null,
      "outputs": []
    },
    {
      "cell_type": "code",
      "metadata": {
        "id": "HyQgaQ-GCgay",
        "colab_type": "code",
        "colab": {}
      },
      "source": [
        "count_classes = pd.value_counts(data['Class'], sort = True)\n",
        "\n",
        "count_classes.plot(kind = 'bar', rot=0)\n",
        "\n",
        "plt.title(\"Transaction Class Distribution\")\n",
        "\n",
        "plt.xticks(range(2), LABELS)\n",
        "\n",
        "plt.xlabel(\"Class\")\n",
        "\n",
        "plt.ylabel(\"Frequency\")"
      ],
      "execution_count": null,
      "outputs": []
    },
    {
      "cell_type": "code",
      "metadata": {
        "id": "5kKPFYpCCptO",
        "colab_type": "code",
        "colab": {}
      },
      "source": [
        "## Get the Fraud and the normal dataset \n",
        "\n",
        "fraud = data[data['Class']==1]\n",
        "\n",
        "normal = data[data['Class']==0]\n"
      ],
      "execution_count": null,
      "outputs": []
    },
    {
      "cell_type": "code",
      "metadata": {
        "id": "T58uITInCugQ",
        "colab_type": "code",
        "colab": {}
      },
      "source": [
        "print(fraud.shape,normal.shape)"
      ],
      "execution_count": null,
      "outputs": []
    },
    {
      "cell_type": "code",
      "metadata": {
        "id": "sTEwz1BQCwb4",
        "colab_type": "code",
        "colab": {}
      },
      "source": [
        "## We need to analyze more amount of information from the transaction data\n",
        "#How different are the amount of money used in different transaction classes?\n",
        "fraud.Amount.describe()"
      ],
      "execution_count": null,
      "outputs": []
    },
    {
      "cell_type": "code",
      "metadata": {
        "id": "ieWkNugGC0hT",
        "colab_type": "code",
        "colab": {}
      },
      "source": [
        "normal.Amount.describe()"
      ],
      "execution_count": null,
      "outputs": []
    },
    {
      "cell_type": "code",
      "metadata": {
        "id": "vdA5jpjmC2tZ",
        "colab_type": "code",
        "colab": {}
      },
      "source": [
        "f, (ax1, ax2) = plt.subplots(2, 1, sharex=True)\n",
        "f.suptitle('Amount per transaction by class')\n",
        "bins = 50\n",
        "ax1.hist(fraud.Amount, bins = bins)\n",
        "ax1.set_title('Fraud')\n",
        "ax2.hist(normal.Amount, bins = bins)\n",
        "ax2.set_title('Normal')\n",
        "plt.xlabel('Amount ($)')\n",
        "plt.ylabel('Number of Transactions')\n",
        "plt.xlim((0, 20000))\n",
        "plt.yscale('log')\n",
        "plt.show();\n"
      ],
      "execution_count": null,
      "outputs": []
    },
    {
      "cell_type": "code",
      "metadata": {
        "id": "3zxcEbOHC8BO",
        "colab_type": "code",
        "colab": {}
      },
      "source": [
        "# We Will check Do fraudulent transactions occur more often during certain time frame ? Let us find out with a visual representation.\n",
        "\n",
        "f, (ax1, ax2) = plt.subplots(2, 1, sharex=True)\n",
        "f.suptitle('Time of transaction vs Amount by class')\n",
        "ax1.scatter(Fraud.Time, Fraud.Amount)\n",
        "ax1.set_title('Fraud')\n",
        "ax2.scatter(Normal.Time, Normal.Amount)\n",
        "ax2.set_title('Normal')\n",
        "plt.xlabel('Time (in Seconds)')\n",
        "plt.ylabel('Amount')\n",
        "plt.show()\n",
        "\n",
        "\n"
      ],
      "execution_count": null,
      "outputs": []
    },
    {
      "cell_type": "code",
      "metadata": {
        "id": "vBl2YxPODBba",
        "colab_type": "code",
        "colab": {}
      },
      "source": [
        "# Take some sample of the data\n",
        "\n",
        "data1= data.sample(frac = 0.1,random_state=1)\n",
        "\n",
        "data1.shape"
      ],
      "execution_count": null,
      "outputs": []
    },
    {
      "cell_type": "code",
      "metadata": {
        "id": "ry3uva11DERR",
        "colab_type": "code",
        "colab": {}
      },
      "source": [
        "data.shape"
      ],
      "execution_count": null,
      "outputs": []
    },
    {
      "cell_type": "code",
      "metadata": {
        "id": "0cKstslMDHF_",
        "colab_type": "code",
        "colab": {}
      },
      "source": [
        "#Determine the number of fraud and valid transactions in the dataset\n",
        "\n",
        "Fraud = data1[data1['Class']==1]\n",
        "\n",
        "Valid = data1[data1['Class']==0]\n",
        "\n",
        "outlier_fraction = len(Fraud)/float(len(Valid))"
      ],
      "execution_count": null,
      "outputs": []
    },
    {
      "cell_type": "code",
      "metadata": {
        "id": "gnxlHk8bDLSz",
        "colab_type": "code",
        "colab": {}
      },
      "source": [
        "print(outlier_fraction)\n",
        "\n",
        "print(\"Fraud Cases : {}\".format(len(Fraud)))\n",
        "\n",
        "print(\"Valid Cases : {}\".format(len(Valid)))"
      ],
      "execution_count": null,
      "outputs": []
    },
    {
      "cell_type": "code",
      "metadata": {
        "id": "2cQ15H3CDOyM",
        "colab_type": "code",
        "colab": {}
      },
      "source": [
        "## Correlation\n",
        "import seaborn as sns\n",
        "#get correlations of each features in dataset\n",
        "corrmat = data1.corr()\n",
        "top_corr_features = corrmat.index\n",
        "plt.figure(figsize=(20,20))\n",
        "#plot heat map\n",
        "g=sns.heatmap(data[top_corr_features].corr(),annot=True,cmap=\"RdYlGn\")"
      ],
      "execution_count": null,
      "outputs": []
    },
    {
      "cell_type": "code",
      "metadata": {
        "id": "I7ffMasmDQTp",
        "colab_type": "code",
        "colab": {}
      },
      "source": [
        "#Create independent and Dependent Features\n",
        "columns = data1.columns.tolist()\n",
        "# Filter the columns to remove data we do not want \n",
        "columns = [c for c in columns if c not in [\"Class\"]]\n",
        "# Store the variable we are predicting \n",
        "target = \"Class\"\n",
        "# Define a random state \n",
        "state = np.random.RandomState(42)\n",
        "X = data1[columns]\n",
        "Y = data1[target]\n",
        "X_outliers = state.uniform(low=0, high=1, size=(X.shape[0], X.shape[1]))\n",
        "# Print the shapes of X & Y\n",
        "print(X.shape)\n",
        "print(Y.shape)"
      ],
      "execution_count": null,
      "outputs": []
    },
    {
      "cell_type": "code",
      "metadata": {
        "id": "vgLp9HcZDWQz",
        "colab_type": "code",
        "colab": {}
      },
      "source": [
        "##Define the outlier detection methods\n",
        "\n",
        "classifiers = {\n",
        "    \"Isolation Forest\":IsolationForest(n_estimators=100, max_samples=len(X), \n",
        "                                       contamination=outlier_fraction,random_state=state, verbose=0),\n",
        "    \"Local Outlier Factor\":LocalOutlierFactor(n_neighbors=20, algorithm='auto', \n",
        "                                              leaf_size=30, metric='minkowski',\n",
        "                                              p=2, metric_params=None, contamination=outlier_fraction),\n",
        "    \"Support Vector Machine\":OneClassSVM(kernel='rbf', degree=3, gamma=0.1,nu=0.05, \n",
        "                                         max_iter=-1, random_state=state)\n",
        "   \n",
        "}\n"
      ],
      "execution_count": null,
      "outputs": []
    },
    {
      "cell_type": "markdown",
      "metadata": {
        "id": "izqnRfEYDbFX",
        "colab_type": "text"
      },
      "source": [
        ""
      ]
    },
    {
      "cell_type": "code",
      "metadata": {
        "id": "O7UJIxSnDffz",
        "colab_type": "code",
        "colab": {}
      },
      "source": [
        "n_outliers = len(Fraud)\n",
        "for i, (clf_name,clf) in enumerate(classifiers.items()):\n",
        "    #Fit the data and tag outliers\n",
        "    if clf_name == \"Local Outlier Factor\":\n",
        "        y_pred = clf.fit_predict(X)\n",
        "        scores_prediction = clf.negative_outlier_factor_\n",
        "    elif clf_name == \"Support Vector Machine\":\n",
        "        clf.fit(X)\n",
        "        y_pred = clf.predict(X)\n",
        "    else:    \n",
        "        clf.fit(X)\n",
        "        scores_prediction = clf.decision_function(X)\n",
        "        y_pred = clf.predict(X)\n",
        "    #Reshape the prediction values to 0 for Valid transactions , 1 for Fraud transactions\n",
        "    y_pred[y_pred == 1] = 0\n",
        "    y_pred[y_pred == -1] = 1\n",
        "    n_errors = (y_pred != Y).sum()\n",
        "    # Run Classification Metrics\n",
        "    print(\"{}: {}\".format(clf_name,n_errors))\n",
        "    print(\"Accuracy Score :\")\n",
        "    print(accuracy_score(Y,y_pred))\n",
        "    print(\"Classification Report :\")\n",
        "    print(classification_report(Y,y_pred))"
      ],
      "execution_count": null,
      "outputs": []
    },
    {
      "cell_type": "markdown",
      "metadata": {
        "id": "414jjdX5Dijq",
        "colab_type": "text"
      },
      "source": [
        "**Observations :¶**\n",
        "Isolation Forest detected 73 errors versus Local Outlier Factor detecting 97 errors vs. SVM detecting 8516 errors\n",
        "\n",
        "\n",
        "Isolation Forest has a 99.74% more accurate than LOF of 99.65% and SVM of 70.09\n",
        "\n",
        "\n",
        "When comparing error precision & recall for 3 models , the Isolation Forest performed much better than the LOF as we can see that the detection of fraud cases is around 27 % versus LOF detection rate of just 2 % and SVM of 0%.\n",
        "\n",
        "\n",
        "So overall Isolation Forest Method performed much better in determining the fraud cases which is around 30%.\n",
        "\n",
        "\n",
        "We can also improve on this accuracy by increasing the sample size or use deep learning algorithms however at the cost of computational expense.We can also use complex anomaly detection models to get better accuracy in determining more fraudulent cases"
      ]
    },
    {
      "cell_type": "code",
      "metadata": {
        "id": "rH-QfvlxDx97",
        "colab_type": "code",
        "colab": {}
      },
      "source": [
        ""
      ],
      "execution_count": null,
      "outputs": []
    }
  ]
}