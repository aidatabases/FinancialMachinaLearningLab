{
  "nbformat": 4,
  "nbformat_minor": 0,
  "metadata": {
    "colab": {
      "name": "Sentimental_analysis_stocks.ipynb",
      "provenance": [],
      "collapsed_sections": []
    },
    "kernelspec": {
      "name": "python3",
      "display_name": "Python 3"
    }
  },
  "cells": [
    {
      "cell_type": "code",
      "metadata": {
        "id": "5e9YVsNUGDlI",
        "outputId": "998d0107-f1ff-4170-b2ce-c8df2e256f3e",
        "colab": {
          "base_uri": "https://localhost:8080/",
          "height": 51
        }
      },
      "source": [
        "pip install nltk"
      ],
      "execution_count": 1,
      "outputs": [
        {
          "output_type": "stream",
          "text": [
            "Requirement already satisfied: nltk in /usr/local/lib/python3.6/dist-packages (3.2.5)\n",
            "Requirement already satisfied: six in /usr/local/lib/python3.6/dist-packages (from nltk) (1.15.0)\n"
          ],
          "name": "stdout"
        }
      ]
    },
    {
      "cell_type": "markdown",
      "metadata": {
        "id": "jMUPzjqfJiK3"
      },
      "source": [
        "categorize articles about stocks,cooking,apple stocks etc.... Gensim  is used for TOPIC MODELING"
      ]
    },
    {
      "cell_type": "code",
      "metadata": {
        "id": "YCIkVAswJOuA",
        "outputId": "61177182-47e7-4594-ace4-ec8d32f1babb",
        "colab": {
          "base_uri": "https://localhost:8080/",
          "height": 207
        }
      },
      "source": [
        "!pip install gensim"
      ],
      "execution_count": 2,
      "outputs": [
        {
          "output_type": "stream",
          "text": [
            "Requirement already satisfied: gensim in /usr/local/lib/python3.6/dist-packages (3.6.0)\n",
            "Requirement already satisfied: smart-open>=1.2.1 in /usr/local/lib/python3.6/dist-packages (from gensim) (2.2.0)\n",
            "Requirement already satisfied: scipy>=0.18.1 in /usr/local/lib/python3.6/dist-packages (from gensim) (1.4.1)\n",
            "Requirement already satisfied: numpy>=1.11.3 in /usr/local/lib/python3.6/dist-packages (from gensim) (1.18.5)\n",
            "Requirement already satisfied: six>=1.5.0 in /usr/local/lib/python3.6/dist-packages (from gensim) (1.15.0)\n",
            "Requirement already satisfied: requests in /usr/local/lib/python3.6/dist-packages (from smart-open>=1.2.1->gensim) (2.23.0)\n",
            "Requirement already satisfied: chardet<4,>=3.0.2 in /usr/local/lib/python3.6/dist-packages (from requests->smart-open>=1.2.1->gensim) (3.0.4)\n",
            "Requirement already satisfied: idna<3,>=2.5 in /usr/local/lib/python3.6/dist-packages (from requests->smart-open>=1.2.1->gensim) (2.10)\n",
            "Requirement already satisfied: urllib3!=1.25.0,!=1.25.1,<1.26,>=1.21.1 in /usr/local/lib/python3.6/dist-packages (from requests->smart-open>=1.2.1->gensim) (1.24.3)\n",
            "Requirement already satisfied: certifi>=2017.4.17 in /usr/local/lib/python3.6/dist-packages (from requests->smart-open>=1.2.1->gensim) (2020.6.20)\n"
          ],
          "name": "stdout"
        }
      ]
    },
    {
      "cell_type": "code",
      "metadata": {
        "id": "SnWrb8bWJYIF"
      },
      "source": [
        "import pandas as pd\n",
        "import numpy as np \n",
        "import matplotlib.pyplot as plt\n",
        "import seaborn as sns\n",
        "import plotly.express as px\n",
        "\n",
        "from wordcloud import WordCloud, STOPWORDS\n",
        "import nltk\n",
        "from nltk.stem import PorterStemmer,WordNetLemmatizer\n",
        "from nltk.corpus import stopwords\n",
        "from nltk.tokenize import word_tokenize,sent_tokenize\n",
        "import gensim\n",
        "from gensim.utils import simple_preprocess\n",
        "from gensim.parsing.preprocessing import STOPWORDS\n",
        "\n",
        "import tensorflow as tf\n",
        "from tensorflow.keras.preprocessing.text import one_hot,Tokenizer\n",
        "from tensorflow.keras.preprocessing.sequence import pad_sequences\n",
        "from tensorflow.keras.models import Sequential\n",
        "from tensorflow.keras.layers import Dense, Flatten, Embedding, Input, LSTM, Conv1D, MaxPool1D, Bidirectional, Dropout\n",
        "from tensorflow.keras.models import Model\n",
        "from tensorflow.keras.utils import to_categorical\n"
      ],
      "execution_count": 3,
      "outputs": []
    },
    {
      "cell_type": "code",
      "metadata": {
        "id": "XcivP14rLhhL",
        "outputId": "e9e40be0-5af8-4eaa-d205-35b33b2ac53a",
        "colab": {
          "base_uri": "https://localhost:8080/",
          "height": 419
        }
      },
      "source": [
        "stock_df=pd.read_csv('stock_sentiment.csv')\n",
        "stock_df"
      ],
      "execution_count": 4,
      "outputs": [
        {
          "output_type": "execute_result",
          "data": {
            "text/html": [
              "<div>\n",
              "<style scoped>\n",
              "    .dataframe tbody tr th:only-of-type {\n",
              "        vertical-align: middle;\n",
              "    }\n",
              "\n",
              "    .dataframe tbody tr th {\n",
              "        vertical-align: top;\n",
              "    }\n",
              "\n",
              "    .dataframe thead th {\n",
              "        text-align: right;\n",
              "    }\n",
              "</style>\n",
              "<table border=\"1\" class=\"dataframe\">\n",
              "  <thead>\n",
              "    <tr style=\"text-align: right;\">\n",
              "      <th></th>\n",
              "      <th>Text</th>\n",
              "      <th>Sentiment</th>\n",
              "    </tr>\n",
              "  </thead>\n",
              "  <tbody>\n",
              "    <tr>\n",
              "      <th>0</th>\n",
              "      <td>Kickers on my watchlist XIDE TIT SOQ PNK CPW B...</td>\n",
              "      <td>1</td>\n",
              "    </tr>\n",
              "    <tr>\n",
              "      <th>1</th>\n",
              "      <td>user: AAP MOVIE. 55% return for the FEA/GEED i...</td>\n",
              "      <td>1</td>\n",
              "    </tr>\n",
              "    <tr>\n",
              "      <th>2</th>\n",
              "      <td>user I'd be afraid to short AMZN - they are lo...</td>\n",
              "      <td>1</td>\n",
              "    </tr>\n",
              "    <tr>\n",
              "      <th>3</th>\n",
              "      <td>MNTA Over 12.00</td>\n",
              "      <td>1</td>\n",
              "    </tr>\n",
              "    <tr>\n",
              "      <th>4</th>\n",
              "      <td>OI  Over 21.37</td>\n",
              "      <td>1</td>\n",
              "    </tr>\n",
              "    <tr>\n",
              "      <th>...</th>\n",
              "      <td>...</td>\n",
              "      <td>...</td>\n",
              "    </tr>\n",
              "    <tr>\n",
              "      <th>5786</th>\n",
              "      <td>Industry body CII said #discoms are likely to ...</td>\n",
              "      <td>0</td>\n",
              "    </tr>\n",
              "    <tr>\n",
              "      <th>5787</th>\n",
              "      <td>#Gold prices slip below Rs 46,000 as #investor...</td>\n",
              "      <td>0</td>\n",
              "    </tr>\n",
              "    <tr>\n",
              "      <th>5788</th>\n",
              "      <td>Workers at Bajaj Auto have agreed to a 10% wag...</td>\n",
              "      <td>1</td>\n",
              "    </tr>\n",
              "    <tr>\n",
              "      <th>5789</th>\n",
              "      <td>#Sharemarket LIVE: Sensex off day’s high, up 6...</td>\n",
              "      <td>1</td>\n",
              "    </tr>\n",
              "    <tr>\n",
              "      <th>5790</th>\n",
              "      <td>#Sensex, #Nifty climb off day's highs, still u...</td>\n",
              "      <td>1</td>\n",
              "    </tr>\n",
              "  </tbody>\n",
              "</table>\n",
              "<p>5791 rows × 2 columns</p>\n",
              "</div>"
            ],
            "text/plain": [
              "                                                   Text  Sentiment\n",
              "0     Kickers on my watchlist XIDE TIT SOQ PNK CPW B...          1\n",
              "1     user: AAP MOVIE. 55% return for the FEA/GEED i...          1\n",
              "2     user I'd be afraid to short AMZN - they are lo...          1\n",
              "3                                     MNTA Over 12.00            1\n",
              "4                                      OI  Over 21.37            1\n",
              "...                                                 ...        ...\n",
              "5786  Industry body CII said #discoms are likely to ...          0\n",
              "5787  #Gold prices slip below Rs 46,000 as #investor...          0\n",
              "5788  Workers at Bajaj Auto have agreed to a 10% wag...          1\n",
              "5789  #Sharemarket LIVE: Sensex off day’s high, up 6...          1\n",
              "5790  #Sensex, #Nifty climb off day's highs, still u...          1\n",
              "\n",
              "[5791 rows x 2 columns]"
            ]
          },
          "metadata": {
            "tags": []
          },
          "execution_count": 4
        }
      ]
    },
    {
      "cell_type": "code",
      "metadata": {
        "id": "GSnH1IM-L8GA",
        "outputId": "09d5beca-7a5f-42b6-d432-ac5df27686d0",
        "colab": {
          "base_uri": "https://localhost:8080/",
          "height": 170
        }
      },
      "source": [
        "stock_df.info()\n",
        "# 5791 entries which are not null"
      ],
      "execution_count": 5,
      "outputs": [
        {
          "output_type": "stream",
          "text": [
            "<class 'pandas.core.frame.DataFrame'>\n",
            "RangeIndex: 5791 entries, 0 to 5790\n",
            "Data columns (total 2 columns):\n",
            " #   Column     Non-Null Count  Dtype \n",
            "---  ------     --------------  ----- \n",
            " 0   Text       5791 non-null   object\n",
            " 1   Sentiment  5791 non-null   int64 \n",
            "dtypes: int64(1), object(1)\n",
            "memory usage: 90.6+ KB\n"
          ],
          "name": "stdout"
        }
      ]
    },
    {
      "cell_type": "code",
      "metadata": {
        "id": "BrLHv2Y9MNM9",
        "outputId": "91cd93d2-102d-4a1d-8087-72650c3a9032",
        "colab": {
          "base_uri": "https://localhost:8080/",
          "height": 68
        }
      },
      "source": [
        "stock_df.isnull().sum()\n",
        "#no null entries"
      ],
      "execution_count": 6,
      "outputs": [
        {
          "output_type": "execute_result",
          "data": {
            "text/plain": [
              "Text         0\n",
              "Sentiment    0\n",
              "dtype: int64"
            ]
          },
          "metadata": {
            "tags": []
          },
          "execution_count": 6
        }
      ]
    },
    {
      "cell_type": "code",
      "metadata": {
        "id": "weED3ri0M7Of",
        "outputId": "70c0759e-bc9b-44df-ed7b-dea718f41932",
        "colab": {
          "base_uri": "https://localhost:8080/",
          "height": 384
        }
      },
      "source": [
        "sns.countplot(stock_df['Sentiment'])"
      ],
      "execution_count": 7,
      "outputs": [
        {
          "output_type": "stream",
          "text": [
            "/usr/local/lib/python3.6/dist-packages/seaborn/_decorators.py:43: FutureWarning:\n",
            "\n",
            "Pass the following variable as a keyword arg: x. From version 0.12, the only valid positional argument will be `data`, and passing other arguments without an explicit keyword will result in an error or misinterpretation.\n",
            "\n"
          ],
          "name": "stderr"
        },
        {
          "output_type": "execute_result",
          "data": {
            "text/plain": [
              "<matplotlib.axes._subplots.AxesSubplot at 0x7f670d437dd8>"
            ]
          },
          "metadata": {
            "tags": []
          },
          "execution_count": 7
        },
        {
          "output_type": "display_data",
          "data": {
            "image/png": "[encoded data removed]",
            "text/plain": [
              "<Figure size 432x288 with 1 Axes>"
            ]
          },
          "metadata": {
            "tags": [],
            "needs_background": "light"
          }
        }
      ]
    },
    {
      "cell_type": "code",
      "metadata": {
        "id": "U-A5StLyMZ_z",
        "outputId": "84758ef0-dc08-4e41-a9c2-5b78afd6768c",
        "colab": {
          "base_uri": "https://localhost:8080/",
          "height": 34
        }
      },
      "source": [
        "stock_df['Sentiment'].nunique()"
      ],
      "execution_count": 8,
      "outputs": [
        {
          "output_type": "execute_result",
          "data": {
            "text/plain": [
              "2"
            ]
          },
          "metadata": {
            "tags": []
          },
          "execution_count": 8
        }
      ]
    },
    {
      "cell_type": "markdown",
      "metadata": {
        "id": "BQU87i5FNGjh"
      },
      "source": [
        "WE have an UNbalanced dataset in our hands"
      ]
    },
    {
      "cell_type": "markdown",
      "metadata": {
        "id": "6ni1LdcNNZSd"
      },
      "source": [
        "PERFORMING DATA CLEANING(1.REMOVING PUNCTUATION)"
      ]
    },
    {
      "cell_type": "code",
      "metadata": {
        "id": "oPawmgm8NFiH",
        "outputId": "730bcc9f-0200-43bd-edce-f4598b848cab",
        "colab": {
          "base_uri": "https://localhost:8080/",
          "height": 35
        }
      },
      "source": [
        "import string\n",
        "string.punctuation"
      ],
      "execution_count": 9,
      "outputs": [
        {
          "output_type": "execute_result",
          "data": {
            "application/vnd.google.colaboratory.intrinsic+json": {
              "type": "string"
            },
            "text/plain": [
              "'!\"#$%&\\'()*+,-./:;<=>?@[\\\\]^_`{|}~'"
            ]
          },
          "metadata": {
            "tags": []
          },
          "execution_count": 9
        }
      ]
    },
    {
      "cell_type": "code",
      "metadata": {
        "id": "-wdENeC_MyOh",
        "outputId": "875ecc53-400d-4353-871f-4c16b1153289",
        "colab": {
          "base_uri": "https://localhost:8080/",
          "height": 34
        }
      },
      "source": [
        "Text='#$$##@Roshshs'\n",
        "text_rem=[ char  for char in Text if char not in string.punctuation]\n",
        "text_rem"
      ],
      "execution_count": 10,
      "outputs": [
        {
          "output_type": "execute_result",
          "data": {
            "text/plain": [
              "['R', 'o', 's', 'h', 's', 'h', 's']"
            ]
          },
          "metadata": {
            "tags": []
          },
          "execution_count": 10
        }
      ]
    },
    {
      "cell_type": "code",
      "metadata": {
        "id": "Nq4bQzufOihn",
        "outputId": "cbb14263-e3f8-4239-b55e-6768f6708677",
        "colab": {
          "base_uri": "https://localhost:8080/",
          "height": 35
        }
      },
      "source": [
        "text_rem_comp=''.join(text_rem)\n",
        "text_rem_comp"
      ],
      "execution_count": 11,
      "outputs": [
        {
          "output_type": "execute_result",
          "data": {
            "application/vnd.google.colaboratory.intrinsic+json": {
              "type": "string"
            },
            "text/plain": [
              "'Roshshs'"
            ]
          },
          "metadata": {
            "tags": []
          },
          "execution_count": 11
        }
      ]
    },
    {
      "cell_type": "code",
      "metadata": {
        "id": "IRYRELFKPN7B"
      },
      "source": [
        "def remove_punc(message):\n",
        "  test_punc_removed=[char for char in message if char not in string.punctuation]\n",
        "  test_punc_removed_join=''.join(test_punc_removed)\n",
        "  return test_punc_removed_join"
      ],
      "execution_count": 12,
      "outputs": []
    },
    {
      "cell_type": "markdown",
      "metadata": {
        "id": "reV1eVVdQSxX"
      },
      "source": [
        "we can apply a function to a column just by using apply(function_name)"
      ]
    },
    {
      "cell_type": "code",
      "metadata": {
        "id": "IbQR3nx0Pqfd"
      },
      "source": [
        "#creating new column['Text_new] without punctuation \n",
        "stock_df['Text_new']=stock_df['Text'].apply(remove_punc)"
      ],
      "execution_count": 13,
      "outputs": []
    },
    {
      "cell_type": "code",
      "metadata": {
        "id": "LZZMYTXcQIvj",
        "outputId": "3ab69a2c-a487-4b1b-c1b6-729496345862",
        "colab": {
          "base_uri": "https://localhost:8080/",
          "height": 419
        }
      },
      "source": [
        "stock_df"
      ],
      "execution_count": 14,
      "outputs": [
        {
          "output_type": "execute_result",
          "data": {
            "text/html": [
              "<div>\n",
              "<style scoped>\n",
              "    .dataframe tbody tr th:only-of-type {\n",
              "        vertical-align: middle;\n",
              "    }\n",
              "\n",
              "    .dataframe tbody tr th {\n",
              "        vertical-align: top;\n",
              "    }\n",
              "\n",
              "    .dataframe thead th {\n",
              "        text-align: right;\n",
              "    }\n",
              "</style>\n",
              "<table border=\"1\" class=\"dataframe\">\n",
              "  <thead>\n",
              "    <tr style=\"text-align: right;\">\n",
              "      <th></th>\n",
              "      <th>Text</th>\n",
              "      <th>Sentiment</th>\n",
              "      <th>Text_new</th>\n",
              "    </tr>\n",
              "  </thead>\n",
              "  <tbody>\n",
              "    <tr>\n",
              "      <th>0</th>\n",
              "      <td>Kickers on my watchlist XIDE TIT SOQ PNK CPW B...</td>\n",
              "      <td>1</td>\n",
              "      <td>Kickers on my watchlist XIDE TIT SOQ PNK CPW B...</td>\n",
              "    </tr>\n",
              "    <tr>\n",
              "      <th>1</th>\n",
              "      <td>user: AAP MOVIE. 55% return for the FEA/GEED i...</td>\n",
              "      <td>1</td>\n",
              "      <td>user AAP MOVIE 55 return for the FEAGEED indic...</td>\n",
              "    </tr>\n",
              "    <tr>\n",
              "      <th>2</th>\n",
              "      <td>user I'd be afraid to short AMZN - they are lo...</td>\n",
              "      <td>1</td>\n",
              "      <td>user Id be afraid to short AMZN  they are look...</td>\n",
              "    </tr>\n",
              "    <tr>\n",
              "      <th>3</th>\n",
              "      <td>MNTA Over 12.00</td>\n",
              "      <td>1</td>\n",
              "      <td>MNTA Over 1200</td>\n",
              "    </tr>\n",
              "    <tr>\n",
              "      <th>4</th>\n",
              "      <td>OI  Over 21.37</td>\n",
              "      <td>1</td>\n",
              "      <td>OI  Over 2137</td>\n",
              "    </tr>\n",
              "    <tr>\n",
              "      <th>...</th>\n",
              "      <td>...</td>\n",
              "      <td>...</td>\n",
              "      <td>...</td>\n",
              "    </tr>\n",
              "    <tr>\n",
              "      <th>5786</th>\n",
              "      <td>Industry body CII said #discoms are likely to ...</td>\n",
              "      <td>0</td>\n",
              "      <td>Industry body CII said discoms are likely to s...</td>\n",
              "    </tr>\n",
              "    <tr>\n",
              "      <th>5787</th>\n",
              "      <td>#Gold prices slip below Rs 46,000 as #investor...</td>\n",
              "      <td>0</td>\n",
              "      <td>Gold prices slip below Rs 46000 as investors b...</td>\n",
              "    </tr>\n",
              "    <tr>\n",
              "      <th>5788</th>\n",
              "      <td>Workers at Bajaj Auto have agreed to a 10% wag...</td>\n",
              "      <td>1</td>\n",
              "      <td>Workers at Bajaj Auto have agreed to a 10 wage...</td>\n",
              "    </tr>\n",
              "    <tr>\n",
              "      <th>5789</th>\n",
              "      <td>#Sharemarket LIVE: Sensex off day’s high, up 6...</td>\n",
              "      <td>1</td>\n",
              "      <td>Sharemarket LIVE Sensex off day’s high up 600 ...</td>\n",
              "    </tr>\n",
              "    <tr>\n",
              "      <th>5790</th>\n",
              "      <td>#Sensex, #Nifty climb off day's highs, still u...</td>\n",
              "      <td>1</td>\n",
              "      <td>Sensex Nifty climb off days highs still up 2 K...</td>\n",
              "    </tr>\n",
              "  </tbody>\n",
              "</table>\n",
              "<p>5791 rows × 3 columns</p>\n",
              "</div>"
            ],
            "text/plain": [
              "                                                   Text  ...                                           Text_new\n",
              "0     Kickers on my watchlist XIDE TIT SOQ PNK CPW B...  ...  Kickers on my watchlist XIDE TIT SOQ PNK CPW B...\n",
              "1     user: AAP MOVIE. 55% return for the FEA/GEED i...  ...  user AAP MOVIE 55 return for the FEAGEED indic...\n",
              "2     user I'd be afraid to short AMZN - they are lo...  ...  user Id be afraid to short AMZN  they are look...\n",
              "3                                     MNTA Over 12.00    ...                                   MNTA Over 1200  \n",
              "4                                      OI  Over 21.37    ...                                    OI  Over 2137  \n",
              "...                                                 ...  ...                                                ...\n",
              "5786  Industry body CII said #discoms are likely to ...  ...  Industry body CII said discoms are likely to s...\n",
              "5787  #Gold prices slip below Rs 46,000 as #investor...  ...  Gold prices slip below Rs 46000 as investors b...\n",
              "5788  Workers at Bajaj Auto have agreed to a 10% wag...  ...  Workers at Bajaj Auto have agreed to a 10 wage...\n",
              "5789  #Sharemarket LIVE: Sensex off day’s high, up 6...  ...  Sharemarket LIVE Sensex off day’s high up 600 ...\n",
              "5790  #Sensex, #Nifty climb off day's highs, still u...  ...  Sensex Nifty climb off days highs still up 2 K...\n",
              "\n",
              "[5791 rows x 3 columns]"
            ]
          },
          "metadata": {
            "tags": []
          },
          "execution_count": 14
        }
      ]
    },
    {
      "cell_type": "code",
      "metadata": {
        "id": "8NcDUBHLQK6D",
        "outputId": "2de586ca-6b88-47d7-db34-1a247014c734",
        "colab": {
          "base_uri": "https://localhost:8080/",
          "height": 35
        }
      },
      "source": [
        "stock_df['Text'][2]"
      ],
      "execution_count": 15,
      "outputs": [
        {
          "output_type": "execute_result",
          "data": {
            "application/vnd.google.colaboratory.intrinsic+json": {
              "type": "string"
            },
            "text/plain": [
              "\"user I'd be afraid to short AMZN - they are looking like a near-monopoly in eBooks and infrastructure-as-a-service\""
            ]
          },
          "metadata": {
            "tags": []
          },
          "execution_count": 15
        }
      ]
    },
    {
      "cell_type": "code",
      "metadata": {
        "id": "7l67F5fpQuqd",
        "outputId": "a7661946-046c-4b0b-cf33-18df4333ed3c",
        "colab": {
          "base_uri": "https://localhost:8080/",
          "height": 35
        }
      },
      "source": [
        "stock_df['Text_new'][2]"
      ],
      "execution_count": 16,
      "outputs": [
        {
          "output_type": "execute_result",
          "data": {
            "application/vnd.google.colaboratory.intrinsic+json": {
              "type": "string"
            },
            "text/plain": [
              "'user Id be afraid to short AMZN  they are looking like a nearmonopoly in eBooks and infrastructureasaservice'"
            ]
          },
          "metadata": {
            "tags": []
          },
          "execution_count": 16
        }
      ]
    },
    {
      "cell_type": "markdown",
      "metadata": {
        "id": "jMA4Dd85Rc4r"
      },
      "source": [
        "PERFORMING DATA CLEANING(1.REMOVE STOPWORDS)"
      ]
    },
    {
      "cell_type": "code",
      "metadata": {
        "id": "EJU0-AdZQydb",
        "outputId": "8c40b82e-4e0a-4ba6-f4d7-fa43a23b1689",
        "colab": {
          "base_uri": "https://localhost:8080/",
          "height": 1000
        }
      },
      "source": [
        "nltk.download('stopwords')\n",
        "stopwords.words('english')"
      ],
      "execution_count": 17,
      "outputs": [
        {
          "output_type": "stream",
          "text": [
            "[nltk_data] Downloading package stopwords to /root/nltk_data...\n",
            "[nltk_data]   Package stopwords is already up-to-date!\n"
          ],
          "name": "stdout"
        },
        {
          "output_type": "execute_result",
          "data": {
            "text/plain": [
              "['i',\n",
              " 'me',\n",
              " 'my',\n",
              " 'myself',\n",
              " 'we',\n",
              " 'our',\n",
              " 'ours',\n",
              " 'ourselves',\n",
              " 'you',\n",
              " \"you're\",\n",
              " \"you've\",\n",
              " \"you'll\",\n",
              " \"you'd\",\n",
              " 'your',\n",
              " 'yours',\n",
              " 'yourself',\n",
              " 'yourselves',\n",
              " 'he',\n",
              " 'him',\n",
              " 'his',\n",
              " 'himself',\n",
              " 'she',\n",
              " \"she's\",\n",
              " 'her',\n",
              " 'hers',\n",
              " 'herself',\n",
              " 'it',\n",
              " \"it's\",\n",
              " 'its',\n",
              " 'itself',\n",
              " 'they',\n",
              " 'them',\n",
              " 'their',\n",
              " 'theirs',\n",
              " 'themselves',\n",
              " 'what',\n",
              " 'which',\n",
              " 'who',\n",
              " 'whom',\n",
              " 'this',\n",
              " 'that',\n",
              " \"that'll\",\n",
              " 'these',\n",
              " 'those',\n",
              " 'am',\n",
              " 'is',\n",
              " 'are',\n",
              " 'was',\n",
              " 'were',\n",
              " 'be',\n",
              " 'been',\n",
              " 'being',\n",
              " 'have',\n",
              " 'has',\n",
              " 'had',\n",
              " 'having',\n",
              " 'do',\n",
              " 'does',\n",
              " 'did',\n",
              " 'doing',\n",
              " 'a',\n",
              " 'an',\n",
              " 'the',\n",
              " 'and',\n",
              " 'but',\n",
              " 'if',\n",
              " 'or',\n",
              " 'because',\n",
              " 'as',\n",
              " 'until',\n",
              " 'while',\n",
              " 'of',\n",
              " 'at',\n",
              " 'by',\n",
              " 'for',\n",
              " 'with',\n",
              " 'about',\n",
              " 'against',\n",
              " 'between',\n",
              " 'into',\n",
              " 'through',\n",
              " 'during',\n",
              " 'before',\n",
              " 'after',\n",
              " 'above',\n",
              " 'below',\n",
              " 'to',\n",
              " 'from',\n",
              " 'up',\n",
              " 'down',\n",
              " 'in',\n",
              " 'out',\n",
              " 'on',\n",
              " 'off',\n",
              " 'over',\n",
              " 'under',\n",
              " 'again',\n",
              " 'further',\n",
              " 'then',\n",
              " 'once',\n",
              " 'here',\n",
              " 'there',\n",
              " 'when',\n",
              " 'where',\n",
              " 'why',\n",
              " 'how',\n",
              " 'all',\n",
              " 'any',\n",
              " 'both',\n",
              " 'each',\n",
              " 'few',\n",
              " 'more',\n",
              " 'most',\n",
              " 'other',\n",
              " 'some',\n",
              " 'such',\n",
              " 'no',\n",
              " 'nor',\n",
              " 'not',\n",
              " 'only',\n",
              " 'own',\n",
              " 'same',\n",
              " 'so',\n",
              " 'than',\n",
              " 'too',\n",
              " 'very',\n",
              " 's',\n",
              " 't',\n",
              " 'can',\n",
              " 'will',\n",
              " 'just',\n",
              " 'don',\n",
              " \"don't\",\n",
              " 'should',\n",
              " \"should've\",\n",
              " 'now',\n",
              " 'd',\n",
              " 'll',\n",
              " 'm',\n",
              " 'o',\n",
              " 're',\n",
              " 've',\n",
              " 'y',\n",
              " 'ain',\n",
              " 'aren',\n",
              " \"aren't\",\n",
              " 'couldn',\n",
              " \"couldn't\",\n",
              " 'didn',\n",
              " \"didn't\",\n",
              " 'doesn',\n",
              " \"doesn't\",\n",
              " 'hadn',\n",
              " \"hadn't\",\n",
              " 'hasn',\n",
              " \"hasn't\",\n",
              " 'haven',\n",
              " \"haven't\",\n",
              " 'isn',\n",
              " \"isn't\",\n",
              " 'ma',\n",
              " 'mightn',\n",
              " \"mightn't\",\n",
              " 'mustn',\n",
              " \"mustn't\",\n",
              " 'needn',\n",
              " \"needn't\",\n",
              " 'shan',\n",
              " \"shan't\",\n",
              " 'shouldn',\n",
              " \"shouldn't\",\n",
              " 'wasn',\n",
              " \"wasn't\",\n",
              " 'weren',\n",
              " \"weren't\",\n",
              " 'won',\n",
              " \"won't\",\n",
              " 'wouldn',\n",
              " \"wouldn't\"]"
            ]
          },
          "metadata": {
            "tags": []
          },
          "execution_count": 17
        }
      ]
    },
    {
      "cell_type": "markdown",
      "metadata": {
        "id": "lh294LyYSBJk"
      },
      "source": [
        "Along with the already available stopwords you can add your custom stopwords using the 'extend' Keyword"
      ]
    },
    {
      "cell_type": "code",
      "metadata": {
        "id": "2hAXzz2GRj6R"
      },
      "source": [
        "from nltk.corpus import stopwords\n",
        "stop_words=stopwords.words('english')\n",
        "stop_words.extend(['https','from','subject','re','edu','use','will','aap','co','day','user','stock','today','week','year'])\n"
      ],
      "execution_count": 18,
      "outputs": []
    },
    {
      "cell_type": "code",
      "metadata": {
        "id": "UVtqjUVBTVJI"
      },
      "source": [
        "def preprocess(text):\n",
        "  result=[]\n",
        "  for token in gensim.utils.simple_preprocess(text):\n",
        "    if token not in stop_words and len(token)>=3:\n",
        "      result.append(token)\n",
        "  return result"
      ],
      "execution_count": 19,
      "outputs": []
    },
    {
      "cell_type": "code",
      "metadata": {
        "id": "yUEHcYozUK_z",
        "outputId": "98fcd85a-d49f-4ab3-b57f-644cdc80e123",
        "colab": {
          "base_uri": "https://localhost:8080/",
          "height": 419
        }
      },
      "source": [
        "stock_df['Text_new2']=stock_df['Text_new'].apply(preprocess)\n",
        "stock_df"
      ],
      "execution_count": 20,
      "outputs": [
        {
          "output_type": "execute_result",
          "data": {
            "text/html": [
              "<div>\n",
              "<style scoped>\n",
              "    .dataframe tbody tr th:only-of-type {\n",
              "        vertical-align: middle;\n",
              "    }\n",
              "\n",
              "    .dataframe tbody tr th {\n",
              "        vertical-align: top;\n",
              "    }\n",
              "\n",
              "    .dataframe thead th {\n",
              "        text-align: right;\n",
              "    }\n",
              "</style>\n",
              "<table border=\"1\" class=\"dataframe\">\n",
              "  <thead>\n",
              "    <tr style=\"text-align: right;\">\n",
              "      <th></th>\n",
              "      <th>Text</th>\n",
              "      <th>Sentiment</th>\n",
              "      <th>Text_new</th>\n",
              "      <th>Text_new2</th>\n",
              "    </tr>\n",
              "  </thead>\n",
              "  <tbody>\n",
              "    <tr>\n",
              "      <th>0</th>\n",
              "      <td>Kickers on my watchlist XIDE TIT SOQ PNK CPW B...</td>\n",
              "      <td>1</td>\n",
              "      <td>Kickers on my watchlist XIDE TIT SOQ PNK CPW B...</td>\n",
              "      <td>[kickers, watchlist, xide, tit, soq, pnk, cpw,...</td>\n",
              "    </tr>\n",
              "    <tr>\n",
              "      <th>1</th>\n",
              "      <td>user: AAP MOVIE. 55% return for the FEA/GEED i...</td>\n",
              "      <td>1</td>\n",
              "      <td>user AAP MOVIE 55 return for the FEAGEED indic...</td>\n",
              "      <td>[movie, return, feageed, indicator, trades, aw...</td>\n",
              "    </tr>\n",
              "    <tr>\n",
              "      <th>2</th>\n",
              "      <td>user I'd be afraid to short AMZN - they are lo...</td>\n",
              "      <td>1</td>\n",
              "      <td>user Id be afraid to short AMZN  they are look...</td>\n",
              "      <td>[afraid, short, amzn, looking, like, nearmonop...</td>\n",
              "    </tr>\n",
              "    <tr>\n",
              "      <th>3</th>\n",
              "      <td>MNTA Over 12.00</td>\n",
              "      <td>1</td>\n",
              "      <td>MNTA Over 1200</td>\n",
              "      <td>[mnta]</td>\n",
              "    </tr>\n",
              "    <tr>\n",
              "      <th>4</th>\n",
              "      <td>OI  Over 21.37</td>\n",
              "      <td>1</td>\n",
              "      <td>OI  Over 2137</td>\n",
              "      <td>[]</td>\n",
              "    </tr>\n",
              "    <tr>\n",
              "      <th>...</th>\n",
              "      <td>...</td>\n",
              "      <td>...</td>\n",
              "      <td>...</td>\n",
              "      <td>...</td>\n",
              "    </tr>\n",
              "    <tr>\n",
              "      <th>5786</th>\n",
              "      <td>Industry body CII said #discoms are likely to ...</td>\n",
              "      <td>0</td>\n",
              "      <td>Industry body CII said discoms are likely to s...</td>\n",
              "      <td>[industry, body, cii, said, discoms, likely, s...</td>\n",
              "    </tr>\n",
              "    <tr>\n",
              "      <th>5787</th>\n",
              "      <td>#Gold prices slip below Rs 46,000 as #investor...</td>\n",
              "      <td>0</td>\n",
              "      <td>Gold prices slip below Rs 46000 as investors b...</td>\n",
              "      <td>[gold, prices, slip, investors, book, profits,...</td>\n",
              "    </tr>\n",
              "    <tr>\n",
              "      <th>5788</th>\n",
              "      <td>Workers at Bajaj Auto have agreed to a 10% wag...</td>\n",
              "      <td>1</td>\n",
              "      <td>Workers at Bajaj Auto have agreed to a 10 wage...</td>\n",
              "      <td>[workers, bajaj, auto, agreed, wage, cut, peri...</td>\n",
              "    </tr>\n",
              "    <tr>\n",
              "      <th>5789</th>\n",
              "      <td>#Sharemarket LIVE: Sensex off day’s high, up 6...</td>\n",
              "      <td>1</td>\n",
              "      <td>Sharemarket LIVE Sensex off day’s high up 600 ...</td>\n",
              "      <td>[sharemarket, live, sensex, high, points, nift...</td>\n",
              "    </tr>\n",
              "    <tr>\n",
              "      <th>5790</th>\n",
              "      <td>#Sensex, #Nifty climb off day's highs, still u...</td>\n",
              "      <td>1</td>\n",
              "      <td>Sensex Nifty climb off days highs still up 2 K...</td>\n",
              "      <td>[sensex, nifty, climb, days, highs, still, key...</td>\n",
              "    </tr>\n",
              "  </tbody>\n",
              "</table>\n",
              "<p>5791 rows × 4 columns</p>\n",
              "</div>"
            ],
            "text/plain": [
              "                                                   Text  ...                                          Text_new2\n",
              "0     Kickers on my watchlist XIDE TIT SOQ PNK CPW B...  ...  [kickers, watchlist, xide, tit, soq, pnk, cpw,...\n",
              "1     user: AAP MOVIE. 55% return for the FEA/GEED i...  ...  [movie, return, feageed, indicator, trades, aw...\n",
              "2     user I'd be afraid to short AMZN - they are lo...  ...  [afraid, short, amzn, looking, like, nearmonop...\n",
              "3                                     MNTA Over 12.00    ...                                             [mnta]\n",
              "4                                      OI  Over 21.37    ...                                                 []\n",
              "...                                                 ...  ...                                                ...\n",
              "5786  Industry body CII said #discoms are likely to ...  ...  [industry, body, cii, said, discoms, likely, s...\n",
              "5787  #Gold prices slip below Rs 46,000 as #investor...  ...  [gold, prices, slip, investors, book, profits,...\n",
              "5788  Workers at Bajaj Auto have agreed to a 10% wag...  ...  [workers, bajaj, auto, agreed, wage, cut, peri...\n",
              "5789  #Sharemarket LIVE: Sensex off day’s high, up 6...  ...  [sharemarket, live, sensex, high, points, nift...\n",
              "5790  #Sensex, #Nifty climb off day's highs, still u...  ...  [sensex, nifty, climb, days, highs, still, key...\n",
              "\n",
              "[5791 rows x 4 columns]"
            ]
          },
          "metadata": {
            "tags": []
          },
          "execution_count": 20
        }
      ]
    },
    {
      "cell_type": "code",
      "metadata": {
        "id": "EOqryc8gUo6D",
        "outputId": "724d70a9-bb26-4664-d553-17585b378644",
        "colab": {
          "base_uri": "https://localhost:8080/",
          "height": 35
        }
      },
      "source": [
        "stock_df['Text'][0]"
      ],
      "execution_count": 21,
      "outputs": [
        {
          "output_type": "execute_result",
          "data": {
            "application/vnd.google.colaboratory.intrinsic+json": {
              "type": "string"
            },
            "text/plain": [
              "'Kickers on my watchlist XIDE TIT SOQ PNK CPW BPZ AJ  trade method 1 or method 2, see prev posts'"
            ]
          },
          "metadata": {
            "tags": []
          },
          "execution_count": 21
        }
      ]
    },
    {
      "cell_type": "code",
      "metadata": {
        "id": "IiaoTdsTU1B3",
        "outputId": "10d154bf-5cbc-4ee9-9656-869e8cc96eb8",
        "colab": {
          "base_uri": "https://localhost:8080/",
          "height": 255
        }
      },
      "source": [
        "stock_df['Text_new2'][0]"
      ],
      "execution_count": 22,
      "outputs": [
        {
          "output_type": "execute_result",
          "data": {
            "text/plain": [
              "['kickers',\n",
              " 'watchlist',\n",
              " 'xide',\n",
              " 'tit',\n",
              " 'soq',\n",
              " 'pnk',\n",
              " 'cpw',\n",
              " 'bpz',\n",
              " 'trade',\n",
              " 'method',\n",
              " 'method',\n",
              " 'see',\n",
              " 'prev',\n",
              " 'posts']"
            ]
          },
          "metadata": {
            "tags": []
          },
          "execution_count": 22
        }
      ]
    },
    {
      "cell_type": "markdown",
      "metadata": {
        "id": "clIMIgQVmokf"
      },
      "source": [
        "**Wordcloud** is a really powerful  way to vitualise\n",
        "  important words ina corpus of documents"
      ]
    },
    {
      "cell_type": "code",
      "metadata": {
        "id": "PeEIcIm1U518"
      },
      "source": [
        "#we need to join the words in text_new2 and save it to text_new3\n",
        "stock_df['Text_new3']=stock_df['Text_new2'].apply(lambda x:' '.join(x))"
      ],
      "execution_count": 23,
      "outputs": []
    },
    {
      "cell_type": "code",
      "metadata": {
        "id": "lYGC9qYknvQP",
        "outputId": "830ba362-e972-4876-d6d3-817217a3ad42",
        "colab": {
          "base_uri": "https://localhost:8080/",
          "height": 555
        }
      },
      "source": [
        "stock_df"
      ],
      "execution_count": 24,
      "outputs": [
        {
          "output_type": "execute_result",
          "data": {
            "text/html": [
              "<div>\n",
              "<style scoped>\n",
              "    .dataframe tbody tr th:only-of-type {\n",
              "        vertical-align: middle;\n",
              "    }\n",
              "\n",
              "    .dataframe tbody tr th {\n",
              "        vertical-align: top;\n",
              "    }\n",
              "\n",
              "    .dataframe thead th {\n",
              "        text-align: right;\n",
              "    }\n",
              "</style>\n",
              "<table border=\"1\" class=\"dataframe\">\n",
              "  <thead>\n",
              "    <tr style=\"text-align: right;\">\n",
              "      <th></th>\n",
              "      <th>Text</th>\n",
              "      <th>Sentiment</th>\n",
              "      <th>Text_new</th>\n",
              "      <th>Text_new2</th>\n",
              "      <th>Text_new3</th>\n",
              "    </tr>\n",
              "  </thead>\n",
              "  <tbody>\n",
              "    <tr>\n",
              "      <th>0</th>\n",
              "      <td>Kickers on my watchlist XIDE TIT SOQ PNK CPW B...</td>\n",
              "      <td>1</td>\n",
              "      <td>Kickers on my watchlist XIDE TIT SOQ PNK CPW B...</td>\n",
              "      <td>[kickers, watchlist, xide, tit, soq, pnk, cpw,...</td>\n",
              "      <td>kickers watchlist xide tit soq pnk cpw bpz tra...</td>\n",
              "    </tr>\n",
              "    <tr>\n",
              "      <th>1</th>\n",
              "      <td>user: AAP MOVIE. 55% return for the FEA/GEED i...</td>\n",
              "      <td>1</td>\n",
              "      <td>user AAP MOVIE 55 return for the FEAGEED indic...</td>\n",
              "      <td>[movie, return, feageed, indicator, trades, aw...</td>\n",
              "      <td>movie return feageed indicator trades awesome</td>\n",
              "    </tr>\n",
              "    <tr>\n",
              "      <th>2</th>\n",
              "      <td>user I'd be afraid to short AMZN - they are lo...</td>\n",
              "      <td>1</td>\n",
              "      <td>user Id be afraid to short AMZN  they are look...</td>\n",
              "      <td>[afraid, short, amzn, looking, like, nearmonop...</td>\n",
              "      <td>afraid short amzn looking like nearmonopoly eb...</td>\n",
              "    </tr>\n",
              "    <tr>\n",
              "      <th>3</th>\n",
              "      <td>MNTA Over 12.00</td>\n",
              "      <td>1</td>\n",
              "      <td>MNTA Over 1200</td>\n",
              "      <td>[mnta]</td>\n",
              "      <td>mnta</td>\n",
              "    </tr>\n",
              "    <tr>\n",
              "      <th>4</th>\n",
              "      <td>OI  Over 21.37</td>\n",
              "      <td>1</td>\n",
              "      <td>OI  Over 2137</td>\n",
              "      <td>[]</td>\n",
              "      <td></td>\n",
              "    </tr>\n",
              "    <tr>\n",
              "      <th>...</th>\n",
              "      <td>...</td>\n",
              "      <td>...</td>\n",
              "      <td>...</td>\n",
              "      <td>...</td>\n",
              "      <td>...</td>\n",
              "    </tr>\n",
              "    <tr>\n",
              "      <th>5786</th>\n",
              "      <td>Industry body CII said #discoms are likely to ...</td>\n",
              "      <td>0</td>\n",
              "      <td>Industry body CII said discoms are likely to s...</td>\n",
              "      <td>[industry, body, cii, said, discoms, likely, s...</td>\n",
              "      <td>industry body cii said discoms likely suffer n...</td>\n",
              "    </tr>\n",
              "    <tr>\n",
              "      <th>5787</th>\n",
              "      <td>#Gold prices slip below Rs 46,000 as #investor...</td>\n",
              "      <td>0</td>\n",
              "      <td>Gold prices slip below Rs 46000 as investors b...</td>\n",
              "      <td>[gold, prices, slip, investors, book, profits,...</td>\n",
              "      <td>gold prices slip investors book profits amid c...</td>\n",
              "    </tr>\n",
              "    <tr>\n",
              "      <th>5788</th>\n",
              "      <td>Workers at Bajaj Auto have agreed to a 10% wag...</td>\n",
              "      <td>1</td>\n",
              "      <td>Workers at Bajaj Auto have agreed to a 10 wage...</td>\n",
              "      <td>[workers, bajaj, auto, agreed, wage, cut, peri...</td>\n",
              "      <td>workers bajaj auto agreed wage cut period apri...</td>\n",
              "    </tr>\n",
              "    <tr>\n",
              "      <th>5789</th>\n",
              "      <td>#Sharemarket LIVE: Sensex off day’s high, up 6...</td>\n",
              "      <td>1</td>\n",
              "      <td>Sharemarket LIVE Sensex off day’s high up 600 ...</td>\n",
              "      <td>[sharemarket, live, sensex, high, points, nift...</td>\n",
              "      <td>sharemarket live sensex high points nifty test...</td>\n",
              "    </tr>\n",
              "    <tr>\n",
              "      <th>5790</th>\n",
              "      <td>#Sensex, #Nifty climb off day's highs, still u...</td>\n",
              "      <td>1</td>\n",
              "      <td>Sensex Nifty climb off days highs still up 2 K...</td>\n",
              "      <td>[sensex, nifty, climb, days, highs, still, key...</td>\n",
              "      <td>sensex nifty climb days highs still key factor...</td>\n",
              "    </tr>\n",
              "  </tbody>\n",
              "</table>\n",
              "<p>5791 rows × 5 columns</p>\n",
              "</div>"
            ],
            "text/plain": [
              "                                                   Text  ...                                          Text_new3\n",
              "0     Kickers on my watchlist XIDE TIT SOQ PNK CPW B...  ...  kickers watchlist xide tit soq pnk cpw bpz tra...\n",
              "1     user: AAP MOVIE. 55% return for the FEA/GEED i...  ...      movie return feageed indicator trades awesome\n",
              "2     user I'd be afraid to short AMZN - they are lo...  ...  afraid short amzn looking like nearmonopoly eb...\n",
              "3                                     MNTA Over 12.00    ...                                               mnta\n",
              "4                                      OI  Over 21.37    ...                                                   \n",
              "...                                                 ...  ...                                                ...\n",
              "5786  Industry body CII said #discoms are likely to ...  ...  industry body cii said discoms likely suffer n...\n",
              "5787  #Gold prices slip below Rs 46,000 as #investor...  ...  gold prices slip investors book profits amid c...\n",
              "5788  Workers at Bajaj Auto have agreed to a 10% wag...  ...  workers bajaj auto agreed wage cut period apri...\n",
              "5789  #Sharemarket LIVE: Sensex off day’s high, up 6...  ...  sharemarket live sensex high points nifty test...\n",
              "5790  #Sensex, #Nifty climb off day's highs, still u...  ...  sensex nifty climb days highs still key factor...\n",
              "\n",
              "[5791 rows x 5 columns]"
            ]
          },
          "metadata": {
            "tags": []
          },
          "execution_count": 24
        }
      ]
    },
    {
      "cell_type": "code",
      "metadata": {
        "id": "bmBj9llTnxEc",
        "outputId": "cf0fd536-adc3-4b84-cd2a-2c6c11462693",
        "colab": {
          "base_uri": "https://localhost:8080/",
          "height": 34
        }
      },
      "source": [
        "plt.figure(figsize=(20,20))\n",
        "wc=WordCloud(max_words=1000,width=1600,height=800).generate(' '.join(stock_df[stock_df['Sentiment']==1]['Text_new3']))\n",
        "#max word is just an arbitrary number i choose"
      ],
      "execution_count": 25,
      "outputs": [
        {
          "output_type": "display_data",
          "data": {
            "text/plain": [
              "<Figure size 1440x1440 with 0 Axes>"
            ]
          },
          "metadata": {
            "tags": []
          }
        }
      ]
    },
    {
      "cell_type": "markdown",
      "metadata": {
        "id": "gcef1P22pvRQ"
      },
      "source": [
        "Displaying the important Words that contribute to  positive sentiments"
      ]
    },
    {
      "cell_type": "code",
      "metadata": {
        "id": "A8HfVIFYoQwE",
        "outputId": "a6b28ac9-e44f-471e-de5c-7c0c9f92adb7",
        "colab": {
          "base_uri": "https://localhost:8080/",
          "height": 236
        }
      },
      "source": [
        "plt.imshow(wc)"
      ],
      "execution_count": 26,
      "outputs": [
        {
          "output_type": "execute_result",
          "data": {
            "text/plain": [
              "<matplotlib.image.AxesImage at 0x7f66dd037e48>"
            ]
          },
          "metadata": {
            "tags": []
          },
          "execution_count": 26
        },
        {
          "output_type": "display_data",
          "data": {
            "image/png": "[encoded data removed]",
            "text/plain": [
              "<Figure size 432x288 with 1 Axes>"
            ]
          },
          "metadata": {
            "tags": [],
            "needs_background": "light"
          }
        }
      ]
    },
    {
      "cell_type": "markdown",
      "metadata": {
        "id": "e0e0KJhrp-o4"
      },
      "source": [
        "Displaying the important Words that contribute to negative sentiments"
      ]
    },
    {
      "cell_type": "code",
      "metadata": {
        "id": "cKO00QZDpFSQ"
      },
      "source": [
        "wc1=WordCloud(max_words=1000,width=1600,height=800).generate(' '.join(stock_df[stock_df['Sentiment']==0]['Text_new3']))"
      ],
      "execution_count": 27,
      "outputs": []
    },
    {
      "cell_type": "code",
      "metadata": {
        "id": "Vo0y6jjSqNBV",
        "outputId": "f1a2c42d-3e04-4147-8863-624785df9aa9",
        "colab": {
          "base_uri": "https://localhost:8080/",
          "height": 236
        }
      },
      "source": [
        "plt.imshow(wc1)"
      ],
      "execution_count": 28,
      "outputs": [
        {
          "output_type": "execute_result",
          "data": {
            "text/plain": [
              "<matplotlib.image.AxesImage at 0x7f66dbfa34e0>"
            ]
          },
          "metadata": {
            "tags": []
          },
          "execution_count": 28
        },
        {
          "output_type": "display_data",
          "data": {
            "image/png": "[encoded data removed]",
            "text/plain": [
              "<Figure size 432x288 with 1 Axes>"
            ]
          },
          "metadata": {
            "tags": [],
            "needs_background": "light"
          }
        }
      ]
    },
    {
      "cell_type": "markdown",
      "metadata": {
        "id": "Q0tD_iCOrOy-"
      },
      "source": [
        "**Now lets visualise the cleaned dataset**"
      ]
    },
    {
      "cell_type": "code",
      "metadata": {
        "id": "tlmg54HKqQVY",
        "outputId": "89d38026-569e-4751-89e3-99f32d674b61",
        "colab": {
          "base_uri": "https://localhost:8080/",
          "height": 35
        }
      },
      "source": [
        "stock_df['Text_new3'][0]"
      ],
      "execution_count": 29,
      "outputs": [
        {
          "output_type": "execute_result",
          "data": {
            "application/vnd.google.colaboratory.intrinsic+json": {
              "type": "string"
            },
            "text/plain": [
              "'kickers watchlist xide tit soq pnk cpw bpz trade method method see prev posts'"
            ]
          },
          "metadata": {
            "tags": []
          },
          "execution_count": 29
        }
      ]
    },
    {
      "cell_type": "code",
      "metadata": {
        "id": "q31zLDhDr28I",
        "outputId": "1439e7b0-734d-4dd7-ad16-8699ce652cd9",
        "colab": {
          "base_uri": "https://localhost:8080/",
          "height": 289
        }
      },
      "source": [
        "nltk.download('punkt')\n",
        "nltk.word_tokenize(stock_df['Text_new3'][0])"
      ],
      "execution_count": 30,
      "outputs": [
        {
          "output_type": "stream",
          "text": [
            "[nltk_data] Downloading package punkt to /root/nltk_data...\n",
            "[nltk_data]   Package punkt is already up-to-date!\n"
          ],
          "name": "stdout"
        },
        {
          "output_type": "execute_result",
          "data": {
            "text/plain": [
              "['kickers',\n",
              " 'watchlist',\n",
              " 'xide',\n",
              " 'tit',\n",
              " 'soq',\n",
              " 'pnk',\n",
              " 'cpw',\n",
              " 'bpz',\n",
              " 'trade',\n",
              " 'method',\n",
              " 'method',\n",
              " 'see',\n",
              " 'prev',\n",
              " 'posts']"
            ]
          },
          "metadata": {
            "tags": []
          },
          "execution_count": 30
        }
      ]
    },
    {
      "cell_type": "code",
      "metadata": {
        "id": "bBAPBNHVsJtf"
      },
      "source": [
        "#we now have to find   the max length sentence\n",
        "maxlen=-1\n",
        "for doc in stock_df['Text_new3']:\n",
        "  tokens=nltk.word_tokenize(doc)\n",
        "  if (len(tokens)>maxlen):\n",
        "    maxlen=len(tokens)\n",
        "\n",
        "    "
      ],
      "execution_count": 31,
      "outputs": []
    },
    {
      "cell_type": "code",
      "metadata": {
        "id": "FTCbsNi-tV_D",
        "outputId": "3b2141dc-c1d8-4dd4-9c09-03eebd66a2df",
        "colab": {
          "base_uri": "https://localhost:8080/",
          "height": 34
        }
      },
      "source": [
        "maxlen\n",
        "#max no. of words in any  document is "
      ],
      "execution_count": 32,
      "outputs": [
        {
          "output_type": "execute_result",
          "data": {
            "text/plain": [
              "20"
            ]
          },
          "metadata": {
            "tags": []
          },
          "execution_count": 32
        }
      ]
    },
    {
      "cell_type": "code",
      "metadata": {
        "id": "XO20aIjptcLW",
        "outputId": "76259550-eab7-406c-b079-8f8f3e3813fc",
        "colab": {
          "base_uri": "https://localhost:8080/",
          "height": 34
        }
      },
      "source": [
        "t_length=[len(nltk.word_tokenize(x))  for x in stock_df['Text_new3']]\n",
        "t_length[:10]"
      ],
      "execution_count": 33,
      "outputs": [
        {
          "output_type": "execute_result",
          "data": {
            "text/plain": [
              "[14, 6, 7, 1, 0, 1, 8, 13, 8, 4]"
            ]
          },
          "metadata": {
            "tags": []
          },
          "execution_count": 33
        }
      ]
    },
    {
      "cell_type": "code",
      "metadata": {
        "id": "gtZfWpfluIhG",
        "outputId": "2c8a1d61-0de3-4ea1-c037-dbd29855d166",
        "colab": {
          "base_uri": "https://localhost:8080/",
          "height": 542
        }
      },
      "source": [
        "fig=px.histogram(x=t_length,nbins=50)\n",
        "fig.show()"
      ],
      "execution_count": 34,
      "outputs": [
        {
          "output_type": "display_data",
          "data": {
            "text/html": [
              "<html>\n",
              "<head><meta charset=\"utf-8\" /></head>\n",
              "<body>\n",
              "    <div>\n",
              "            <script src=\"https://cdnjs.cloudflare.com/ajax/libs/mathjax/2.7.5/MathJax.js?config=TeX-AMS-MML_SVG\"></script><script type=\"text/javascript\">if (window.MathJax) {MathJax.Hub.Config({SVG: {font: \"STIX-Web\"}});}</script>\n",
              "                <script type=\"text/javascript\">window.PlotlyConfig = {MathJaxConfig: 'local'};</script>\n",
              "        <script src=\"https://cdn.plot.ly/plotly-latest.min.js\"></script>    \n",
              "            <div id=\"c645e14b-0fe3-4f7d-97b9-17715817539d\" class=\"plotly-graph-div\" style=\"height:525px; width:100%;\"></div>\n",
              "            <script type=\"text/javascript\">\n",
              "                \n",
              "                    window.PLOTLYENV=window.PLOTLYENV || {};\n",
              "                    \n",
              "                if (document.getElementById(\"c645e14b-0fe3-4f7d-97b9-17715817539d\")) {\n",
              "                    Plotly.newPlot(\n",
              "                        'c645e14b-0fe3-4f7d-97b9-17715817539d',\n",
              "                        [{\"alignmentgroup\": \"True\", \"bingroup\": \"x\", \"hoverlabel\": {\"namelength\": 0}, \"hovertemplate\": \"x=%{x}<br>count=%{y}\", \"legendgroup\": \"\", \"marker\": {\"color\": \"#636efa\"}, \"name\": \"\", \"nbinsx\": 50, \"offsetgroup\": \"\", \"orientation\": \"v\", \"showlegend\": false, \"type\": \"histogram\", \"x\": [14, 6, 7, 1, 0, 1, 8, 13, 8, 4, 10, 18, 8, 8, 11, 5, 12, 10, 12, 4, 6, 5, 2, 5, 3, 10, 3, 3, 9, 6, 8, 10, 8, 3, 10, 11, 4, 8, 11, 10, 10, 7, 9, 8, 4, 10, 8, 7, 7, 9, 10, 10, 8, 2, 14, 12, 9, 8, 1, 14, 7, 11, 5, 13, 6, 6, 7, 6, 6, 10, 9, 4, 10, 13, 16, 6, 9, 6, 2, 11, 5, 4, 9, 11, 16, 4, 9, 5, 6, 2, 1, 5, 9, 4, 7, 6, 7, 10, 1, 3, 9, 4, 16, 8, 10, 11, 18, 6, 7, 13, 12, 9, 3, 3, 10, 10, 8, 6, 8, 5, 5, 8, 9, 15, 3, 5, 9, 18, 13, 11, 3, 1, 1, 2, 7, 12, 12, 8, 8, 10, 9, 10, 15, 8, 9, 9, 12, 10, 6, 10, 13, 4, 11, 8, 15, 13, 8, 12, 5, 5, 3, 7, 2, 4, 10, 5, 6, 10, 6, 16, 9, 6, 5, 10, 9, 10, 8, 2, 10, 9, 10, 12, 7, 10, 7, 3, 6, 5, 9, 9, 4, 6, 5, 4, 4, 8, 10, 8, 8, 13, 9, 7, 10, 12, 8, 6, 5, 3, 10, 11, 6, 9, 10, 13, 10, 7, 12, 7, 11, 10, 4, 4, 3, 10, 2, 9, 10, 15, 12, 10, 13, 9, 8, 2, 1, 12, 12, 6, 9, 9, 12, 5, 2, 3, 8, 6, 14, 5, 6, 7, 9, 1, 1, 11, 7, 14, 4, 4, 9, 5, 4, 9, 9, 10, 13, 5, 11, 4, 4, 6, 1, 8, 4, 11, 4, 6, 11, 4, 10, 8, 8, 6, 10, 3, 10, 10, 2, 9, 10, 13, 9, 10, 3, 2, 8, 4, 6, 14, 5, 4, 1, 6, 11, 11, 9, 5, 7, 7, 11, 13, 9, 5, 6, 10, 5, 11, 8, 17, 14, 10, 3, 3, 5, 6, 3, 5, 4, 5, 13, 13, 5, 9, 10, 6, 5, 4, 10, 8, 11, 6, 9, 9, 6, 8, 3, 7, 3, 3, 10, 8, 4, 5, 12, 10, 2, 10, 2, 1, 12, 13, 5, 6, 3, 13, 15, 5, 11, 10, 4, 14, 11, 4, 6, 11, 8, 6, 7, 12, 4, 12, 4, 2, 5, 14, 15, 13, 10, 15, 4, 10, 5, 11, 1, 6, 4, 6, 8, 4, 13, 7, 10, 13, 8, 10, 8, 8, 2, 10, 10, 12, 11, 1, 7, 9, 13, 10, 12, 3, 3, 4, 10, 7, 4, 9, 2, 7, 11, 5, 11, 3, 14, 7, 7, 13, 4, 11, 5, 6, 7, 11, 5, 9, 9, 8, 9, 9, 6, 7, 4, 11, 10, 9, 2, 2, 4, 9, 4, 12, 12, 1, 9, 12, 4, 9, 4, 6, 10, 13, 1, 0, 1, 2, 13, 3, 8, 9, 6, 6, 4, 6, 9, 6, 5, 3, 5, 12, 6, 3, 14, 11, 15, 2, 4, 14, 5, 6, 6, 6, 13, 5, 9, 9, 10, 3, 7, 12, 4, 3, 10, 2, 3, 2, 9, 3, 3, 4, 9, 3, 7, 4, 5, 14, 8, 5, 4, 6, 5, 10, 5, 11, 4, 4, 7, 5, 4, 12, 4, 2, 12, 4, 12, 13, 5, 7, 4, 10, 5, 8, 6, 5, 12, 11, 11, 13, 4, 2, 12, 8, 4, 1, 2, 4, 14, 7, 9, 13, 5, 8, 10, 5, 10, 5, 6, 9, 9, 10, 5, 10, 13, 2, 9, 6, 11, 5, 8, 8, 12, 8, 7, 2, 6, 6, 7, 2, 11, 10, 9, 3, 11, 4, 8, 5, 11, 10, 4, 3, 10, 6, 11, 2, 5, 5, 6, 9, 15, 11, 7, 8, 11, 5, 15, 3, 10, 9, 6, 4, 8, 8, 3, 2, 12, 7, 4, 7, 10, 1, 1, 4, 11, 16, 12, 5, 13, 8, 4, 7, 14, 12, 9, 2, 4, 9, 10, 6, 11, 12, 5, 6, 2, 9, 9, 12, 1, 2, 10, 5, 9, 2, 2, 8, 6, 11, 5, 6, 9, 5, 11, 3, 13, 5, 6, 5, 12, 9, 2, 7, 11, 7, 5, 9, 10, 3, 8, 9, 10, 11, 11, 5, 12, 5, 4, 11, 11, 13, 12, 1, 8, 7, 12, 3, 7, 12, 1, 3, 7, 7, 5, 5, 6, 7, 3, 5, 13, 8, 12, 9, 1, 4, 11, 7, 5, 7, 16, 9, 8, 13, 13, 14, 7, 2, 10, 10, 6, 13, 1, 12, 4, 4, 4, 5, 8, 3, 5, 13, 3, 10, 3, 13, 7, 8, 4, 1, 8, 7, 6, 12, 12, 5, 6, 6, 10, 11, 10, 7, 3, 10, 11, 11, 15, 12, 12, 7, 6, 12, 15, 9, 9, 10, 2, 7, 6, 7, 11, 10, 9, 4, 5, 5, 8, 7, 10, 1, 7, 6, 4, 3, 9, 8, 10, 7, 6, 6, 10, 8, 5, 7, 7, 6, 8, 4, 7, 9, 9, 7, 4, 10, 9, 4, 1, 3, 4, 1, 13, 8, 4, 7, 4, 9, 12, 7, 4, 9, 3, 1, 3, 10, 11, 3, 7, 4, 12, 4, 5, 7, 12, 7, 13, 4, 12, 2, 8, 4, 7, 5, 6, 13, 14, 8, 9, 3, 1, 9, 0, 9, 7, 11, 5, 14, 3, 6, 8, 8, 11, 3, 5, 3, 2, 2, 2, 8, 4, 5, 5, 4, 9, 3, 3, 6, 6, 5, 15, 8, 1, 10, 11, 8, 7, 7, 6, 5, 5, 5, 8, 11, 6, 10, 7, 4, 10, 1, 6, 6, 7, 12, 4, 4, 7, 9, 6, 12, 15, 9, 8, 10, 7, 8, 5, 11, 10, 6, 10, 6, 8, 7, 8, 4, 9, 7, 12, 10, 14, 8, 3, 5, 0, 13, 14, 11, 7, 7, 2, 6, 7, 9, 7, 5, 10, 13, 9, 3, 2, 11, 12, 4, 4, 7, 14, 7, 14, 7, 3, 7, 8, 17, 9, 14, 11, 10, 6, 10, 2, 15, 10, 4, 3, 4, 6, 10, 10, 11, 8, 4, 8, 10, 5, 10, 10, 9, 2, 8, 8, 10, 1, 1, 6, 1, 7, 10, 10, 13, 11, 11, 11, 11, 10, 10, 6, 7, 6, 8, 10, 7, 12, 3, 6, 6, 9, 7, 9, 7, 1, 13, 10, 11, 5, 5, 2, 8, 11, 14, 4, 11, 15, 6, 9, 6, 13, 9, 4, 3, 5, 5, 13, 5, 2, 11, 4, 9, 2, 10, 15, 16, 5, 10, 4, 6, 7, 10, 9, 5, 6, 4, 4, 6, 2, 4, 10, 3, 14, 8, 8, 9, 9, 6, 9, 8, 12, 9, 13, 2, 6, 8, 1, 7, 9, 10, 10, 14, 11, 4, 13, 3, 3, 9, 13, 4, 6, 14, 5, 2, 2, 4, 10, 5, 7, 10, 3, 5, 7, 3, 4, 4, 8, 2, 14, 7, 5, 7, 12, 8, 7, 3, 13, 9, 3, 9, 7, 8, 11, 7, 5, 7, 5, 6, 11, 11, 5, 6, 10, 7, 6, 16, 11, 3, 9, 12, 11, 9, 15, 10, 9, 4, 3, 3, 3, 10, 2, 17, 4, 6, 9, 4, 0, 3, 3, 2, 8, 11, 3, 3, 6, 13, 10, 6, 8, 3, 9, 9, 5, 2, 8, 6, 8, 10, 8, 10, 8, 10, 7, 11, 0, 9, 6, 4, 7, 12, 1, 8, 4, 9, 7, 15, 15, 2, 2, 4, 10, 8, 4, 11, 7, 5, 12, 14, 2, 13, 11, 8, 13, 8, 4, 2, 6, 6, 6, 7, 4, 2, 8, 6, 2, 6, 10, 10, 2, 1, 6, 8, 10, 14, 2, 2, 12, 2, 13, 2, 4, 7, 5, 0, 13, 10, 11, 15, 10, 4, 7, 5, 5, 12, 10, 10, 5, 13, 5, 9, 13, 1, 11, 8, 9, 15, 10, 5, 9, 2, 8, 4, 4, 9, 6, 4, 8, 13, 9, 12, 7, 2, 8, 12, 3, 5, 7, 16, 5, 11, 12, 11, 8, 2, 6, 8, 9, 15, 16, 11, 7, 9, 8, 7, 8, 15, 7, 6, 14, 5, 8, 8, 6, 9, 4, 1, 14, 8, 13, 11, 4, 10, 10, 5, 12, 9, 4, 5, 10, 10, 3, 1, 7, 5, 1, 14, 10, 3, 10, 2, 8, 3, 1, 7, 2, 12, 3, 1, 4, 1, 8, 9, 8, 6, 10, 10, 6, 9, 10, 8, 2, 4, 13, 5, 5, 12, 11, 13, 10, 1, 10, 3, 8, 11, 11, 10, 14, 13, 15, 13, 16, 19, 20, 9, 6, 9, 9, 7, 9, 10, 10, 14, 14, 13, 10, 20, 15, 14, 3, 14, 11, 7, 8, 13, 8, 8, 12, 6, 11, 12, 12, 14, 10, 7, 6, 7, 4, 5, 9, 6, 5, 3, 5, 17, 16, 2, 6, 8, 14, 13, 12, 6, 10, 9, 8, 4, 8, 14, 2, 10, 14, 10, 6, 5, 6, 15, 9, 5, 1, 3, 2, 4, 13, 6, 12, 7, 10, 11, 11, 4, 10, 9, 4, 8, 5, 7, 10, 8, 10, 3, 14, 11, 8, 7, 6, 9, 3, 3, 6, 2, 3, 6, 5, 8, 9, 11, 11, 10, 14, 5, 9, 9, 10, 5, 12, 11, 1, 4, 6, 3, 6, 9, 10, 4, 14, 9, 11, 15, 6, 4, 6, 6, 12, 17, 11, 6, 5, 7, 5, 4, 9, 6, 8, 7, 13, 1, 12, 9, 5, 12, 4, 2, 6, 5, 2, 6, 3, 4, 6, 7, 6, 7, 8, 7, 10, 2, 9, 2, 7, 10, 1, 7, 5, 10, 3, 3, 13, 8, 5, 8, 9, 4, 11, 11, 12, 7, 9, 14, 10, 8, 11, 10, 7, 7, 8, 6, 6, 2, 4, 11, 9, 5, 7, 10, 4, 5, 12, 14, 3, 7, 15, 9, 7, 7, 7, 3, 9, 12, 9, 5, 4, 2, 7, 5, 9, 4, 9, 7, 6, 4, 6, 5, 5, 9, 6, 7, 11, 10, 6, 4, 7, 3, 3, 6, 2, 6, 5, 7, 7, 4, 11, 6, 1, 4, 0, 0, 9, 6, 12, 12, 6, 12, 6, 8, 9, 6, 17, 8, 12, 5, 8, 10, 9, 4, 7, 5, 6, 8, 9, 16, 13, 8, 9, 7, 5, 4, 8, 8, 3, 1, 5, 8, 13, 8, 10, 6, 4, 9, 3, 9, 7, 11, 9, 11, 11, 8, 7, 10, 5, 5, 15, 14, 10, 7, 5, 11, 5, 4, 9, 12, 9, 1, 10, 19, 9, 5, 9, 5, 6, 8, 6, 4, 5, 11, 4, 5, 6, 9, 8, 9, 10, 11, 8, 6, 5, 6, 11, 1, 3, 2, 9, 9, 8, 6, 4, 5, 2, 4, 6, 8, 3, 8, 10, 8, 8, 3, 8, 4, 13, 7, 3, 3, 9, 4, 7, 4, 10, 5, 9, 10, 3, 3, 7, 11, 6, 5, 2, 5, 10, 7, 9, 3, 6, 11, 10, 8, 10, 10, 7, 9, 8, 9, 10, 11, 3, 6, 7, 14, 9, 10, 9, 7, 11, 4, 8, 12, 8, 14, 3, 5, 6, 5, 9, 2, 3, 2, 6, 12, 6, 6, 4, 8, 7, 4, 13, 2, 6, 2, 17, 14, 7, 9, 4, 9, 4, 4, 14, 9, 4, 7, 16, 9, 14, 11, 3, 4, 5, 0, 12, 0, 1, 7, 13, 7, 8, 1, 8, 2, 3, 6, 7, 5, 4, 2, 4, 10, 11, 4, 3, 3, 10, 10, 4, 3, 8, 6, 6, 3, 6, 1, 6, 10, 6, 8, 5, 10, 9, 4, 5, 8, 2, 12, 13, 8, 5, 6, 6, 2, 12, 10, 15, 7, 6, 7, 9, 4, 5, 13, 5, 3, 2, 3, 7, 3, 9, 3, 4, 9, 10, 7, 6, 10, 9, 4, 6, 8, 1, 13, 13, 2, 2, 2, 11, 3, 14, 2, 6, 7, 7, 4, 5, 2, 1, 3, 2, 5, 2, 1, 7, 7, 7, 11, 10, 9, 7, 1, 6, 4, 4, 12, 7, 3, 6, 11, 4, 3, 6, 10, 9, 3, 6, 7, 1, 13, 8, 4, 13, 13, 5, 1, 5, 2, 12, 2, 4, 13, 9, 8, 5, 9, 3, 4, 15, 8, 4, 10, 3, 4, 7, 4, 4, 11, 7, 12, 2, 12, 14, 5, 5, 9, 5, 9, 15, 11, 1, 8, 14, 7, 6, 6, 7, 6, 3, 2, 3, 4, 4, 13, 8, 12, 3, 8, 6, 2, 9, 9, 10, 5, 15, 9, 11, 6, 3, 11, 8, 9, 3, 9, 9, 3, 3, 3, 4, 2, 3, 10, 4, 3, 3, 13, 7, 5, 8, 6, 8, 5, 5, 10, 4, 4, 12, 11, 10, 15, 11, 14, 10, 13, 14, 4, 13, 15, 3, 8, 8, 7, 5, 7, 15, 10, 12, 3, 3, 10, 3, 2, 10, 12, 8, 5, 10, 3, 15, 14, 4, 12, 2, 6, 16, 9, 4, 5, 4, 8, 3, 11, 10, 9, 6, 8, 5, 6, 14, 2, 2, 11, 3, 10, 8, 4, 9, 5, 13, 3, 6, 5, 3, 8, 12, 3, 6, 14, 5, 6, 7, 5, 11, 9, 3, 7, 7, 3, 5, 13, 9, 10, 10, 7, 12, 10, 9, 8, 11, 7, 8, 4, 15, 6, 10, 13, 12, 10, 6, 5, 0, 7, 6, 6, 10, 7, 10, 6, 6, 9, 12, 7, 5, 9, 10, 12, 4, 3, 4, 7, 7, 9, 10, 4, 6, 3, 12, 6, 3, 6, 3, 2, 4, 5, 7, 4, 13, 10, 9, 6, 6, 5, 8, 9, 12, 2, 9, 9, 10, 5, 10, 1, 2, 1, 3, 4, 14, 2, 5, 1, 4, 3, 10, 9, 2, 6, 13, 13, 10, 7, 11, 12, 9, 6, 5, 12, 10, 6, 1, 10, 3, 8, 13, 9, 11, 3, 5, 9, 11, 1, 5, 6, 9, 5, 2, 6, 7, 3, 5, 8, 6, 3, 2, 7, 7, 12, 5, 5, 5, 5, 6, 4, 5, 5, 1, 12, 11, 13, 6, 14, 10, 5, 7, 11, 2, 13, 3, 8, 9, 6, 8, 11, 6, 6, 3, 7, 3, 9, 5, 9, 6, 11, 6, 10, 4, 5, 9, 5, 7, 11, 11, 9, 7, 7, 6, 5, 13, 6, 11, 11, 13, 11, 14, 14, 13, 7, 6, 7, 7, 9, 9, 5, 3, 11, 6, 10, 8, 4, 4, 10, 12, 10, 2, 7, 10, 7, 6, 6, 11, 2, 13, 9, 3, 3, 3, 4, 12, 8, 4, 14, 11, 10, 6, 1, 9, 11, 9, 6, 4, 4, 16, 12, 12, 6, 13, 13, 8, 9, 4, 4, 2, 3, 2, 8, 8, 10, 5, 8, 3, 7, 10, 8, 3, 4, 6, 3, 16, 4, 5, 4, 10, 7, 10, 6, 9, 11, 10, 7, 12, 10, 14, 12, 11, 10, 9, 9, 16, 7, 2, 12, 12, 2, 8, 6, 7, 4, 9, 4, 7, 17, 6, 8, 10, 1, 5, 10, 2, 7, 2, 8, 4, 4, 6, 6, 12, 3, 3, 10, 2, 4, 3, 12, 3, 5, 7, 3, 6, 10, 6, 10, 13, 5, 2, 2, 8, 8, 2, 5, 4, 9, 8, 2, 2, 3, 13, 3, 11, 9, 4, 8, 12, 9, 8, 4, 5, 8, 8, 11, 6, 9, 6, 5, 2, 11, 7, 10, 15, 5, 12, 8, 11, 5, 3, 3, 12, 11, 3, 4, 6, 4, 8, 8, 8, 3, 5, 10, 3, 8, 3, 9, 3, 3, 4, 3, 3, 7, 5, 8, 8, 4, 9, 5, 13, 6, 11, 6, 7, 9, 4, 13, 7, 6, 12, 6, 7, 5, 14, 7, 5, 4, 6, 5, 9, 10, 9, 8, 10, 8, 3, 9, 7, 6, 7, 10, 9, 6, 15, 9, 2, 14, 13, 11, 8, 5, 17, 8, 9, 4, 8, 6, 6, 8, 8, 7, 12, 5, 13, 7, 11, 1, 1, 4, 10, 9, 9, 5, 9, 9, 3, 5, 6, 5, 3, 4, 16, 6, 6, 4, 13, 4, 4, 4, 6, 4, 3, 3, 5, 5, 4, 4, 4, 5, 12, 10, 11, 2, 4, 5, 5, 2, 8, 12, 10, 5, 8, 9, 6, 8, 12, 4, 9, 4, 2, 4, 6, 7, 4, 12, 3, 6, 4, 5, 9, 6, 2, 3, 12, 6, 3, 2, 2, 5, 10, 13, 10, 6, 9, 14, 8, 11, 14, 13, 14, 10, 10, 8, 7, 8, 8, 13, 2, 5, 7, 8, 6, 2, 1, 10, 10, 9, 9, 8, 2, 6, 3, 5, 6, 3, 15, 8, 8, 5, 7, 7, 8, 7, 8, 4, 12, 13, 4, 11, 4, 4, 15, 11, 8, 6, 6, 6, 5, 6, 3, 1, 4, 11, 2, 10, 15, 5, 1, 9, 9, 8, 5, 2, 5, 9, 16, 5, 7, 6, 7, 7, 14, 7, 11, 10, 3, 12, 10, 6, 13, 14, 7, 4, 9, 10, 13, 7, 12, 12, 3, 6, 7, 6, 9, 10, 5, 8, 10, 13, 10, 10, 7, 6, 3, 3, 6, 7, 4, 9, 3, 4, 2, 8, 11, 6, 4, 3, 8, 4, 3, 7, 7, 7, 3, 4, 8, 7, 14, 5, 4, 8, 12, 3, 4, 6, 4, 8, 3, 7, 6, 7, 4, 4, 6, 14, 7, 3, 14, 8, 6, 5, 7, 8, 6, 11, 7, 4, 6, 6, 12, 19, 9, 9, 6, 14, 7, 6, 8, 9, 6, 7, 10, 6, 5, 3, 6, 7, 5, 10, 11, 16, 9, 5, 13, 4, 10, 6, 7, 2, 11, 5, 6, 3, 9, 5, 11, 9, 4, 9, 5, 6, 10, 5, 12, 5, 8, 15, 12, 11, 10, 6, 8, 6, 6, 8, 11, 14, 10, 7, 13, 7, 8, 6, 5, 5, 8, 7, 11, 8, 8, 13, 9, 14, 8, 8, 12, 9, 8, 3, 9, 11, 5, 5, 15, 5, 9, 5, 4, 5, 7, 8, 11, 12, 3, 3, 4, 8, 4, 8, 11, 10, 9, 7, 3, 9, 9, 5, 4, 9, 12, 6, 3, 11, 13, 9, 4, 13, 6, 12, 10, 5, 2, 8, 4, 6, 12, 3, 3, 15, 10, 4, 12, 5, 11, 12, 16, 4, 13, 7, 4, 3, 7, 7, 9, 10, 10, 6, 6, 7, 13, 9, 8, 6, 14, 5, 4, 9, 12, 12, 9, 5, 13, 14, 7, 7, 7, 5, 8, 3, 13, 16, 3, 11, 1, 8, 10, 4, 3, 11, 11, 9, 16, 15, 6, 11, 2, 5, 16, 6, 14, 14, 8, 9, 1, 0, 1, 1, 10, 3, 2, 7, 5, 8, 3, 15, 7, 5, 8, 7, 5, 7, 6, 8, 8, 10, 1, 12, 5, 4, 10, 7, 3, 5, 9, 10, 11, 4, 4, 10, 2, 1, 4, 2, 1, 3, 11, 10, 8, 11, 10, 10, 6, 8, 12, 2, 5, 4, 11, 6, 9, 7, 5, 10, 4, 2, 2, 10, 6, 6, 12, 5, 4, 8, 8, 1, 10, 7, 4, 5, 14, 4, 7, 13, 6, 13, 11, 16, 9, 3, 9, 4, 4, 7, 11, 8, 3, 8, 10, 4, 9, 16, 10, 8, 7, 5, 7, 3, 10, 6, 10, 6, 11, 10, 2, 2, 14, 4, 6, 7, 6, 7, 8, 7, 7, 10, 9, 4, 11, 7, 9, 6, 4, 3, 4, 6, 5, 3, 9, 4, 5, 3, 2, 7, 2, 1, 1, 3, 6, 3, 10, 13, 4, 2, 6, 2, 6, 12, 13, 9, 3, 11, 9, 9, 10, 15, 6, 17, 7, 5, 16, 11, 6, 5, 11, 1, 10, 16, 13, 16, 10, 14, 5, 10, 9, 3, 14, 5, 11, 6, 4, 10, 7, 7, 3, 10, 9, 8, 4, 6, 3, 7, 9, 8, 7, 5, 3, 3, 6, 8, 9, 2, 16, 14, 7, 4, 6, 14, 9, 6, 12, 1, 12, 5, 6, 10, 6, 2, 4, 11, 7, 5, 5, 11, 7, 6, 6, 4, 11, 14, 14, 11, 10, 10, 5, 10, 3, 11, 12, 9, 4, 10, 6, 9, 5, 3, 14, 9, 14, 5, 3, 3, 3, 3, 3, 12, 10, 8, 11, 8, 3, 3, 10, 2, 8, 7, 9, 3, 5, 10, 5, 6, 14, 4, 8, 9, 17, 15, 7, 14, 7, 12, 12, 12, 3, 3, 9, 9, 4, 11, 4, 3, 4, 4, 4, 8, 2, 4, 12, 6, 13, 4, 2, 3, 6, 5, 6, 2, 5, 10, 8, 2, 4, 12, 6, 7, 6, 7, 9, 4, 10, 9, 16, 9, 9, 7, 6, 10, 4, 4, 10, 3, 4, 2, 12, 3, 10, 2, 5, 4, 8, 2, 9, 15, 3, 3, 10, 10, 8, 8, 3, 8, 8, 14, 4, 3, 8, 10, 8, 12, 4, 3, 5, 7, 11, 11, 4, 2, 10, 13, 11, 5, 13, 13, 10, 14, 3, 5, 9, 11, 17, 8, 11, 10, 8, 14, 9, 12, 4, 8, 12, 5, 12, 13, 7, 9, 6, 6, 4, 3, 4, 1, 6, 10, 7, 3, 8, 7, 3, 5, 15, 10, 7, 2, 9, 5, 8, 6, 5, 5, 6, 3, 10, 4, 12, 1, 1, 2, 2, 7, 8, 3, 8, 2, 8, 10, 2, 5, 3, 3, 10, 8, 5, 5, 12, 6, 6, 6, 3, 10, 6, 5, 8, 11, 2, 5, 5, 5, 6, 8, 4, 2, 1, 10, 1, 9, 5, 10, 3, 13, 12, 15, 11, 12, 10, 11, 10, 3, 2, 6, 9, 8, 7, 5, 11, 12, 6, 4, 9, 2, 5, 12, 3, 8, 11, 6, 8, 7, 10, 3, 13, 3, 10, 8, 7, 11, 7, 5, 4, 10, 8, 9, 6, 15, 8, 6, 8, 2, 9, 4, 12, 4, 4, 5, 11, 2, 12, 8, 3, 9, 10, 6, 16, 10, 14, 5, 12, 4, 3, 8, 8, 16, 9, 10, 6, 11, 0, 8, 7, 4, 4, 8, 3, 4, 4, 6, 15, 8, 10, 6, 6, 2, 7, 7, 9, 3, 4, 7, 4, 2, 11, 11, 2, 3, 3, 4, 2, 5, 8, 8, 7, 4, 3, 3, 5, 7, 4, 14, 7, 4, 3, 8, 2, 2, 4, 7, 8, 7, 4, 6, 2, 5, 7, 1, 6, 5, 3, 2, 5, 8, 11, 2, 5, 8, 12, 2, 4, 9, 3, 2, 3, 8, 9, 7, 8, 4, 4, 7, 6, 4, 2, 9, 5, 4, 2, 3, 13, 7, 2, 7, 7, 4, 6, 3, 6, 5, 7, 9, 13, 9, 9, 6, 7, 6, 7, 9, 8, 10, 10, 6, 14, 14, 8, 7, 6, 14, 1, 11, 12, 15, 14, 8, 9, 5, 5, 7, 11, 13, 6, 12, 8, 8, 7, 10, 6, 5, 5, 9, 4, 2, 8, 14, 6, 3, 5, 4, 5, 2, 10, 8, 6, 4, 12, 9, 1, 6, 5, 5, 3, 7, 6, 7, 2, 7, 10, 8, 2, 6, 11, 2, 2, 6, 2, 10, 3, 7, 12, 8, 10, 3, 6, 13, 11, 4, 8, 4, 7, 4, 4, 5, 4, 7, 2, 7, 7, 11, 13, 4, 9, 2, 7, 5, 3, 2, 11, 7, 8, 5, 5, 2, 8, 8, 4, 10, 3, 3, 14, 13, 7, 15, 7, 7, 8, 8, 7, 4, 5, 4, 5, 7, 2, 17, 7, 7, 11, 2, 12, 3, 3, 14, 13, 5, 9, 4, 10, 7, 5, 4, 11, 3, 1, 5, 10, 11, 5, 12, 7, 3, 7, 12, 11, 7, 3, 8, 13, 6, 7, 12, 16, 13, 1, 4, 4, 1, 6, 6, 13, 6, 10, 14, 11, 5, 12, 14, 10, 2, 4, 11, 11, 4, 4, 6, 4, 4, 6, 2, 5, 5, 11, 11, 11, 2, 12, 1, 10, 7, 6, 2, 11, 11, 2, 10, 4, 8, 2, 8, 6, 9, 5, 6, 5, 10, 1, 11, 3, 9, 9, 7, 10, 10, 4, 7, 11, 6, 8, 5, 2, 4, 4, 4, 4, 3, 11, 8, 9, 8, 6, 6, 7, 9, 3, 8, 13, 11, 10, 4, 4, 4, 15, 14, 12, 6, 11, 4, 11, 2, 2, 5, 11, 10, 16, 5, 4, 11, 2, 12, 1, 7, 11, 12, 12, 2, 5, 7, 3, 7, 13, 7, 11, 3, 15, 2, 11, 2, 4, 10, 9, 14, 2, 12, 12, 9, 11, 13, 8, 7, 17, 3, 9, 14, 14, 10, 5, 6, 11, 6, 4, 10, 5, 9, 8, 8, 9, 3, 4, 7, 8, 14, 3, 10, 4, 12, 9, 7, 11, 12, 9, 8, 1, 15, 18, 7, 7, 10, 10, 2, 6, 2, 9, 14, 2, 8, 10, 4, 9, 6, 3, 5, 5, 5, 3, 6, 9, 3, 4, 7, 4, 4, 10, 7, 4, 6, 2, 6, 10, 3, 1, 2, 2, 1, 4, 2, 2, 6, 7, 1, 2, 4, 9, 2, 2, 6, 3, 1, 4, 3, 2, 7, 3, 8, 1, 7, 8, 5, 9, 11, 2, 3, 6, 0, 11, 12, 5, 5, 2, 4, 5, 6, 7, 12, 9, 3, 8, 3, 9, 3, 2, 10, 9, 3, 2, 8, 2, 7, 4, 7, 5, 3, 4, 11, 2, 2, 2, 6, 6, 2, 10, 9, 2, 2, 4, 1, 8, 2, 7, 3, 3, 2, 4, 15, 2, 14, 13, 5, 4, 7, 4, 6, 7, 7, 8, 12, 10, 4, 5, 2, 3, 9, 12, 10, 8, 3, 8, 17, 2, 1, 4, 13, 6, 8, 4, 4, 1, 8, 13, 7, 2, 9, 6, 9, 5, 6, 10, 8, 2, 8, 3, 11, 3, 7, 9, 7, 4, 11, 5, 2, 11, 2, 8, 6, 5, 2, 3, 4, 3, 5, 7, 6, 3, 2, 7, 6, 2, 3, 15, 8, 11, 1, 5, 13, 4, 11, 14, 9, 7, 8, 11, 4, 2, 3, 6, 8, 12, 9, 1, 2, 2, 12, 4, 5, 14, 6, 10, 5, 4, 9, 2, 19, 3, 12, 3, 7, 13, 7, 1, 2, 10, 7, 7, 2, 1, 4, 8, 7, 7, 9, 3, 10, 4, 6, 12, 9, 15, 1, 6, 8, 6, 5, 1, 2, 10, 7, 9, 7, 15, 10, 9, 3, 9, 12, 11, 7, 2, 10, 4, 4, 5, 13, 5, 5, 11, 8, 8, 8, 14, 8, 9, 2, 3, 12, 7, 4, 8, 10, 10, 9, 13, 9, 5, 14, 5, 13, 6, 3, 6, 6, 7, 3, 6, 7, 3, 1, 10, 1, 1, 3, 7, 12, 3, 6, 14, 5, 8, 13, 6, 9, 12, 10, 11, 9, 3, 9, 5, 10, 11, 4, 10, 13, 6, 13, 9, 9, 10, 11, 7, 12, 6, 12, 11, 6, 5, 9, 6, 2, 6, 2, 2, 2, 7, 16, 5, 9, 9, 6, 8, 5, 2, 11, 9, 10, 10, 3, 7, 2, 8, 14, 5, 5, 13, 3, 2, 9, 3, 2, 3, 11, 3, 6, 13, 12, 13, 13, 14, 12, 11, 7, 6, 11, 10, 13, 3, 5, 3, 3, 1, 18, 11, 12, 9, 1, 2, 3, 13, 3, 2, 12, 6, 5, 7, 7, 8, 5, 8, 2, 9, 2, 3, 3, 11, 4, 15, 12, 5, 12, 16, 15, 4, 7, 2, 8, 10, 5, 4, 5, 4, 3, 2, 15, 9, 16, 10, 7, 11, 11, 14, 12, 9, 9, 7, 9, 11, 10, 10, 8, 13, 7, 9, 10, 11, 3, 4, 11, 7, 7, 5, 5, 9, 2, 2, 1, 3, 5, 2, 3, 11, 3, 1, 7, 3, 9, 3, 4, 2, 3, 4, 2, 2, 3, 6, 4, 4, 8, 6, 13, 2, 5, 5, 6, 2, 11, 9, 2, 9, 7, 4, 4, 8, 11, 5, 5, 3, 2, 4, 4, 2, 3, 4, 9, 4, 5, 2, 7, 3, 2, 12, 3, 9, 5, 5, 8, 4, 2, 9, 3, 6, 2, 7, 7, 6, 4, 4, 7, 13, 6, 7, 6, 5, 8, 12, 8, 9, 5, 11, 10, 4, 9, 9, 9, 10, 12, 10, 6, 5, 9, 4, 2, 5, 3, 10, 4, 10, 9, 1, 7, 2, 3, 4, 5, 5, 4, 2, 7, 9, 5, 10, 11, 14, 3, 5, 3, 15, 4, 8, 9, 11, 14, 7, 7, 5, 5, 2, 14, 3, 13, 9, 7, 2, 4, 7, 2, 6, 3, 3, 11, 7, 12, 11, 12, 5, 6, 10, 4, 7, 2, 6, 6, 10, 11, 7, 7, 9, 10, 3, 13, 13, 7, 10, 8, 13, 8, 11, 3, 6, 6, 3, 8, 2, 7, 6, 3, 4, 8, 9, 6, 3, 2, 7, 5, 4, 5, 5, 6, 5, 12, 10, 4, 12, 11, 7, 4, 13, 4, 4, 3, 19, 3, 8, 4, 13, 6, 6, 3, 14, 13, 4, 1, 5, 9, 12, 13, 4, 2, 8, 4, 3, 4, 4, 4, 12, 3, 6, 13, 12, 4, 2, 10, 8, 4, 1, 7, 4, 3, 8, 8, 6, 7, 10, 2, 11, 2, 12, 6, 9, 9, 6, 3, 14, 3, 6, 9, 4, 9, 9, 6, 12, 4, 12, 6, 4, 7, 10, 15, 13, 3, 3, 6, 13, 14, 5, 9, 10, 7, 9, 13, 13, 2, 11, 11, 20, 3, 14, 8, 9, 7, 5, 2, 6, 2, 4, 12, 1, 8, 2, 10, 5, 8, 10, 11, 4, 7, 10, 9, 13, 6, 3, 3, 3, 3, 11, 8, 3, 5, 4, 6, 4, 8, 3, 5, 4, 6, 6, 5, 3, 2, 8, 2, 4, 4, 3, 8, 2, 2, 6, 7, 11, 7, 6, 2, 4, 5, 10, 2, 15, 6, 6, 10, 5, 6, 7, 6, 13, 11, 4, 7, 9, 16, 4, 7, 12, 15, 11, 2, 8, 6, 6, 6, 4, 5, 6, 3, 17, 7, 7, 6, 7, 3, 3, 1, 7, 10, 9, 3, 10, 8, 14, 8, 12, 8, 10, 9, 7, 7, 11, 9, 15, 9, 11, 12, 7, 10, 8, 8, 10, 9, 7, 5, 10, 10, 10, 6, 12, 11, 11, 11, 8, 1, 3, 10, 9, 11, 11, 6, 7, 6, 4, 8, 8, 10, 4, 8, 9, 9, 14, 14, 12, 12, 12, 9, 16, 13, 11, 14, 13, 14, 13, 7, 14, 13, 14, 11, 11, 13, 9, 11, 6, 13, 7, 14, 9, 14, 10, 14, 11, 14, 13, 14, 12, 13, 9, 6, 16, 15, 14, 14, 12, 12, 13, 15, 13, 12, 12, 11, 16, 12, 15, 8, 12, 9, 15, 9, 13, 13, 12, 11, 12, 11, 15, 7, 6, 14, 16, 8, 15, 15, 16, 13, 14, 15, 10, 12, 12, 13, 12, 13, 11, 14, 13, 14, 8, 16, 14, 10, 13, 7, 12, 12, 11, 12, 10, 8, 14, 13, 8, 11, 14, 16, 12, 11, 17, 12, 3, 10, 15, 13, 11, 8, 12, 14, 12, 14, 9, 11, 11, 16, 14, 9, 13, 6, 14, 10, 13, 12, 16, 9, 14, 8, 15, 6, 8, 12, 12, 11, 12, 13, 11, 14, 13, 14, 14, 9, 13, 10, 14, 10, 14, 10, 12, 14, 13, 12, 7, 14, 6, 11, 13, 14, 14, 12, 15, 13, 13, 16, 13, 15, 13, 13, 11, 14, 9, 13, 16, 11, 12, 13, 15, 11, 8, 14, 12, 13, 12, 11, 11, 12, 14, 14, 13, 13, 12, 9, 10, 12, 13, 14, 15, 11, 7, 12, 11, 14, 12, 8, 11, 11, 13, 15, 14, 14, 13, 15, 11, 15, 9, 8, 10, 13, 14, 15, 11, 12, 14, 12, 14, 13, 10, 15, 9, 14, 12, 12, 17, 11, 13, 11, 14, 13, 13, 14, 13, 12, 15, 12, 15, 11, 14, 12, 12, 13, 8, 13, 12, 12, 11, 13, 16, 15, 10, 12, 13, 9, 13, 11, 15, 14, 13, 11, 7, 11, 12, 7, 9, 10, 8, 12, 12, 10, 10, 14, 10, 15, 9, 9, 15, 11, 11, 11, 14, 9, 13, 10, 10, 13, 9, 12, 15, 11, 13, 13, 13, 13, 14, 15, 10, 9, 8, 13, 11, 9, 11, 8, 10, 11, 7, 13, 8, 15, 12, 9, 11, 7, 12, 13, 10, 12, 11, 13, 12, 11, 12, 11, 12, 11, 14, 5, 13, 9, 11, 15, 15, 14, 14, 13, 14, 11, 13, 11, 12, 14, 11, 13, 10, 11, 10, 12, 13, 14, 15, 12, 11, 9, 13, 14, 9, 9, 17, 13, 6, 13, 15, 14, 12, 13, 10, 13, 14, 14, 11, 11, 12, 15, 13, 14, 12, 15, 14, 13, 15, 9, 7, 11, 12, 14, 12, 13, 14, 9, 4, 14, 13, 11, 14, 12, 8, 12, 12, 12, 10, 13, 13, 12, 12, 14, 13, 9, 9, 14, 13, 12, 11, 13, 11, 10, 13, 5, 11, 14, 13, 10, 11, 9, 13, 10, 14, 12, 16, 8, 10, 11, 10, 11, 11, 12, 11, 12, 11, 8, 15, 12, 10, 13, 13, 5, 13, 9, 16, 9, 10, 15, 8, 8, 6, 7, 6, 13, 10, 9, 7, 7, 6, 8, 14, 7, 8, 9, 13, 8, 11, 6, 9, 9, 7, 7, 6, 10, 13, 11, 12, 6, 10, 9, 14, 13, 11, 11, 7, 8, 8, 10, 13, 9, 12, 8, 5, 14, 10, 17, 10, 10, 4, 8, 10, 11, 7, 13, 7, 9, 7, 10, 8, 9, 14, 7, 7, 5, 6, 12, 11, 13, 10, 11, 13, 9, 8, 8, 8, 11, 9, 13, 9, 13, 8, 9, 12, 12, 8, 10, 11, 11, 11, 7, 10, 10, 11, 13, 13, 9, 9, 8, 10, 14, 9, 10, 10, 11, 8, 10, 10, 8, 10, 10, 10, 16, 12, 8, 11, 11, 9, 14, 7, 10, 11, 9, 9, 11, 8, 11, 13, 17, 8, 6, 8, 14, 7, 11, 9, 15, 12, 9, 8, 13, 9, 11, 11, 10, 10, 9, 10, 10, 9, 12, 9, 7, 9, 7, 6, 11, 11, 11, 13, 7, 12, 16, 11, 7, 6, 7, 7, 9, 8, 9, 10, 13, 7, 11, 7, 10, 5, 14, 10, 8, 9, 13, 12, 16, 11, 8, 13, 8, 6, 10, 9, 13, 7, 8, 8, 10, 11, 12, 14, 16, 12, 16, 10, 13, 9, 7, 8, 10, 13, 10, 12, 10, 12, 9, 8, 13, 9, 10, 9, 10, 15, 10, 11, 12, 11, 13, 8, 12, 11, 13, 13, 7, 10, 10, 9, 8, 10, 9, 10, 9, 13, 6, 14, 6, 9, 8, 9, 14, 8, 11, 8, 11, 15, 8, 9, 12, 11, 11, 11, 10, 8, 10, 7, 10, 8, 10, 11, 9, 8, 8, 11, 13, 12, 9, 10, 8, 8, 14, 9, 10, 12, 10, 14, 5, 6, 9, 9, 12, 12, 5, 4, 9, 7, 9, 13, 10, 14, 8, 13, 11, 9, 10, 13, 10, 10, 8, 12, 10, 8, 13, 12, 7, 7, 8, 6, 5, 10, 4, 6, 9, 10, 9, 14, 13, 12, 11, 8, 8, 11, 15, 11, 12, 9, 11, 9, 14, 11, 8, 12, 11, 9, 13, 14, 10, 14, 10, 11, 14, 11], \"xaxis\": \"x\", \"yaxis\": \"y\"}],\n",
              "                        {\"barmode\": \"relative\", \"legend\": {\"tracegroupgap\": 0}, \"margin\": {\"t\": 60}, \"template\": {\"data\": {\"bar\": [{\"error_x\": {\"color\": \"#2a3f5f\"}, \"error_y\": {\"color\": \"#2a3f5f\"}, \"marker\": {\"line\": {\"color\": \"#E5ECF6\", \"width\": 0.5}}, \"type\": \"bar\"}], \"barpolar\": [{\"marker\": {\"line\": {\"color\": \"#E5ECF6\", \"width\": 0.5}}, \"type\": \"barpolar\"}], \"carpet\": [{\"aaxis\": {\"endlinecolor\": \"#2a3f5f\", \"gridcolor\": \"white\", \"linecolor\": \"white\", \"minorgridcolor\": \"white\", \"startlinecolor\": \"#2a3f5f\"}, \"baxis\": {\"endlinecolor\": \"#2a3f5f\", \"gridcolor\": \"white\", \"linecolor\": \"white\", \"minorgridcolor\": \"white\", \"startlinecolor\": \"#2a3f5f\"}, \"type\": \"carpet\"}], \"choropleth\": [{\"colorbar\": {\"outlinewidth\": 0, \"ticks\": \"\"}, \"type\": \"choropleth\"}], \"contour\": [{\"colorbar\": {\"outlinewidth\": 0, \"ticks\": \"\"}, \"colorscale\": [[0.0, \"#0d0887\"], [0.1111111111111111, \"#46039f\"], [0.2222222222222222, \"#7201a8\"], [0.3333333333333333, \"#9c179e\"], [0.4444444444444444, \"#bd3786\"], [0.5555555555555556, \"#d8576b\"], [0.6666666666666666, \"#ed7953\"], [0.7777777777777778, \"#fb9f3a\"], [0.8888888888888888, \"#fdca26\"], [1.0, \"#f0f921\"]], \"type\": \"contour\"}], \"contourcarpet\": [{\"colorbar\": {\"outlinewidth\": 0, \"ticks\": \"\"}, \"type\": \"contourcarpet\"}], \"heatmap\": [{\"colorbar\": {\"outlinewidth\": 0, \"ticks\": \"\"}, \"colorscale\": [[0.0, \"#0d0887\"], [0.1111111111111111, \"#46039f\"], [0.2222222222222222, \"#7201a8\"], [0.3333333333333333, \"#9c179e\"], [0.4444444444444444, \"#bd3786\"], [0.5555555555555556, \"#d8576b\"], [0.6666666666666666, \"#ed7953\"], [0.7777777777777778, \"#fb9f3a\"], [0.8888888888888888, \"#fdca26\"], [1.0, \"#f0f921\"]], \"type\": \"heatmap\"}], \"heatmapgl\": [{\"colorbar\": {\"outlinewidth\": 0, \"ticks\": \"\"}, \"colorscale\": [[0.0, \"#0d0887\"], [0.1111111111111111, \"#46039f\"], [0.2222222222222222, \"#7201a8\"], [0.3333333333333333, \"#9c179e\"], [0.4444444444444444, \"#bd3786\"], [0.5555555555555556, \"#d8576b\"], [0.6666666666666666, \"#ed7953\"], [0.7777777777777778, \"#fb9f3a\"], [0.8888888888888888, \"#fdca26\"], [1.0, \"#f0f921\"]], \"type\": \"heatmapgl\"}], \"histogram\": [{\"marker\": {\"colorbar\": {\"outlinewidth\": 0, \"ticks\": \"\"}}, \"type\": \"histogram\"}], \"histogram2d\": [{\"colorbar\": {\"outlinewidth\": 0, \"ticks\": \"\"}, \"colorscale\": [[0.0, \"#0d0887\"], [0.1111111111111111, \"#46039f\"], [0.2222222222222222, \"#7201a8\"], [0.3333333333333333, \"#9c179e\"], [0.4444444444444444, \"#bd3786\"], [0.5555555555555556, \"#d8576b\"], [0.6666666666666666, \"#ed7953\"], [0.7777777777777778, \"#fb9f3a\"], [0.8888888888888888, \"#fdca26\"], [1.0, \"#f0f921\"]], \"type\": \"histogram2d\"}], \"histogram2dcontour\": [{\"colorbar\": {\"outlinewidth\": 0, \"ticks\": \"\"}, \"colorscale\": [[0.0, \"#0d0887\"], [0.1111111111111111, \"#46039f\"], [0.2222222222222222, \"#7201a8\"], [0.3333333333333333, \"#9c179e\"], [0.4444444444444444, \"#bd3786\"], [0.5555555555555556, \"#d8576b\"], [0.6666666666666666, \"#ed7953\"], [0.7777777777777778, \"#fb9f3a\"], [0.8888888888888888, \"#fdca26\"], [1.0, \"#f0f921\"]], \"type\": \"histogram2dcontour\"}], \"mesh3d\": [{\"colorbar\": {\"outlinewidth\": 0, \"ticks\": \"\"}, \"type\": \"mesh3d\"}], \"parcoords\": [{\"line\": {\"colorbar\": {\"outlinewidth\": 0, \"ticks\": \"\"}}, \"type\": \"parcoords\"}], \"pie\": [{\"automargin\": true, \"type\": \"pie\"}], \"scatter\": [{\"marker\": {\"colorbar\": {\"outlinewidth\": 0, \"ticks\": \"\"}}, \"type\": \"scatter\"}], \"scatter3d\": [{\"line\": {\"colorbar\": {\"outlinewidth\": 0, \"ticks\": \"\"}}, \"marker\": {\"colorbar\": {\"outlinewidth\": 0, \"ticks\": \"\"}}, \"type\": \"scatter3d\"}], \"scattercarpet\": [{\"marker\": {\"colorbar\": {\"outlinewidth\": 0, \"ticks\": \"\"}}, \"type\": \"scattercarpet\"}], \"scattergeo\": [{\"marker\": {\"colorbar\": {\"outlinewidth\": 0, \"ticks\": \"\"}}, \"type\": \"scattergeo\"}], \"scattergl\": [{\"marker\": {\"colorbar\": {\"outlinewidth\": 0, \"ticks\": \"\"}}, \"type\": \"scattergl\"}], \"scattermapbox\": [{\"marker\": {\"colorbar\": {\"outlinewidth\": 0, \"ticks\": \"\"}}, \"type\": \"scattermapbox\"}], \"scatterpolar\": [{\"marker\": {\"colorbar\": {\"outlinewidth\": 0, \"ticks\": \"\"}}, \"type\": \"scatterpolar\"}], \"scatterpolargl\": [{\"marker\": {\"colorbar\": {\"outlinewidth\": 0, \"ticks\": \"\"}}, \"type\": \"scatterpolargl\"}], \"scatterternary\": [{\"marker\": {\"colorbar\": {\"outlinewidth\": 0, \"ticks\": \"\"}}, \"type\": \"scatterternary\"}], \"surface\": [{\"colorbar\": {\"outlinewidth\": 0, \"ticks\": \"\"}, \"colorscale\": [[0.0, \"#0d0887\"], [0.1111111111111111, \"#46039f\"], [0.2222222222222222, \"#7201a8\"], [0.3333333333333333, \"#9c179e\"], [0.4444444444444444, \"#bd3786\"], [0.5555555555555556, \"#d8576b\"], [0.6666666666666666, \"#ed7953\"], [0.7777777777777778, \"#fb9f3a\"], [0.8888888888888888, \"#fdca26\"], [1.0, \"#f0f921\"]], \"type\": \"surface\"}], \"table\": [{\"cells\": {\"fill\": {\"color\": \"#EBF0F8\"}, \"line\": {\"color\": \"white\"}}, \"header\": {\"fill\": {\"color\": \"#C8D4E3\"}, \"line\": {\"color\": \"white\"}}, \"type\": \"table\"}]}, \"layout\": {\"annotationdefaults\": {\"arrowcolor\": \"#2a3f5f\", \"arrowhead\": 0, \"arrowwidth\": 1}, \"coloraxis\": {\"colorbar\": {\"outlinewidth\": 0, \"ticks\": \"\"}}, \"colorscale\": {\"diverging\": [[0, \"#8e0152\"], [0.1, \"#c51b7d\"], [0.2, \"#de77ae\"], [0.3, \"#f1b6da\"], [0.4, \"#fde0ef\"], [0.5, \"#f7f7f7\"], [0.6, \"#e6f5d0\"], [0.7, \"#b8e186\"], [0.8, \"#7fbc41\"], [0.9, \"#4d9221\"], [1, \"#276419\"]], \"sequential\": [[0.0, \"#0d0887\"], [0.1111111111111111, \"#46039f\"], [0.2222222222222222, \"#7201a8\"], [0.3333333333333333, \"#9c179e\"], [0.4444444444444444, \"#bd3786\"], [0.5555555555555556, \"#d8576b\"], [0.6666666666666666, \"#ed7953\"], [0.7777777777777778, \"#fb9f3a\"], [0.8888888888888888, \"#fdca26\"], [1.0, \"#f0f921\"]], \"sequentialminus\": [[0.0, \"#0d0887\"], [0.1111111111111111, \"#46039f\"], [0.2222222222222222, \"#7201a8\"], [0.3333333333333333, \"#9c179e\"], [0.4444444444444444, \"#bd3786\"], [0.5555555555555556, \"#d8576b\"], [0.6666666666666666, \"#ed7953\"], [0.7777777777777778, \"#fb9f3a\"], [0.8888888888888888, \"#fdca26\"], [1.0, \"#f0f921\"]]}, \"colorway\": [\"#636efa\", \"#EF553B\", \"#00cc96\", \"#ab63fa\", \"#FFA15A\", \"#19d3f3\", \"#FF6692\", \"#B6E880\", \"#FF97FF\", \"#FECB52\"], \"font\": {\"color\": \"#2a3f5f\"}, \"geo\": {\"bgcolor\": \"white\", \"lakecolor\": \"white\", \"landcolor\": \"#E5ECF6\", \"showlakes\": true, \"showland\": true, \"subunitcolor\": \"white\"}, \"hoverlabel\": {\"align\": \"left\"}, \"hovermode\": \"closest\", \"mapbox\": {\"style\": \"light\"}, \"paper_bgcolor\": \"white\", \"plot_bgcolor\": \"#E5ECF6\", \"polar\": {\"angularaxis\": {\"gridcolor\": \"white\", \"linecolor\": \"white\", \"ticks\": \"\"}, \"bgcolor\": \"#E5ECF6\", \"radialaxis\": {\"gridcolor\": \"white\", \"linecolor\": \"white\", \"ticks\": \"\"}}, \"scene\": {\"xaxis\": {\"backgroundcolor\": \"#E5ECF6\", \"gridcolor\": \"white\", \"gridwidth\": 2, \"linecolor\": \"white\", \"showbackground\": true, \"ticks\": \"\", \"zerolinecolor\": \"white\"}, \"yaxis\": {\"backgroundcolor\": \"#E5ECF6\", \"gridcolor\": \"white\", \"gridwidth\": 2, \"linecolor\": \"white\", \"showbackground\": true, \"ticks\": \"\", \"zerolinecolor\": \"white\"}, \"zaxis\": {\"backgroundcolor\": \"#E5ECF6\", \"gridcolor\": \"white\", \"gridwidth\": 2, \"linecolor\": \"white\", \"showbackground\": true, \"ticks\": \"\", \"zerolinecolor\": \"white\"}}, \"shapedefaults\": {\"line\": {\"color\": \"#2a3f5f\"}}, \"ternary\": {\"aaxis\": {\"gridcolor\": \"white\", \"linecolor\": \"white\", \"ticks\": \"\"}, \"baxis\": {\"gridcolor\": \"white\", \"linecolor\": \"white\", \"ticks\": \"\"}, \"bgcolor\": \"#E5ECF6\", \"caxis\": {\"gridcolor\": \"white\", \"linecolor\": \"white\", \"ticks\": \"\"}}, \"title\": {\"x\": 0.05}, \"xaxis\": {\"automargin\": true, \"gridcolor\": \"white\", \"linecolor\": \"white\", \"ticks\": \"\", \"title\": {\"standoff\": 15}, \"zerolinecolor\": \"white\", \"zerolinewidth\": 2}, \"yaxis\": {\"automargin\": true, \"gridcolor\": \"white\", \"linecolor\": \"white\", \"ticks\": \"\", \"title\": {\"standoff\": 15}, \"zerolinecolor\": \"white\", \"zerolinewidth\": 2}}}, \"xaxis\": {\"anchor\": \"y\", \"domain\": [0.0, 1.0], \"title\": {\"text\": \"x\"}}, \"yaxis\": {\"anchor\": \"x\", \"domain\": [0.0, 1.0], \"title\": {\"text\": \"count\"}}},\n",
              "                        {\"responsive\": true}\n",
              "                    ).then(function(){\n",
              "                            \n",
              "var gd = document.getElementById('c645e14b-0fe3-4f7d-97b9-17715817539d');\n",
              "var x = new MutationObserver(function (mutations, observer) {{\n",
              "        var display = window.getComputedStyle(gd).display;\n",
              "        if (!display || display === 'none') {{\n",
              "            console.log([gd, 'removed!']);\n",
              "            Plotly.purge(gd);\n",
              "            observer.disconnect();\n",
              "        }}\n",
              "}});\n",
              "\n",
              "// Listen for the removal of the full notebook cells\n",
              "var notebookContainer = gd.closest('#notebook-container');\n",
              "if (notebookContainer) {{\n",
              "    x.observe(notebookContainer, {childList: true});\n",
              "}}\n",
              "\n",
              "// Listen for the clearing of the current output cell\n",
              "var outputEl = gd.closest('.output');\n",
              "if (outputEl) {{\n",
              "    x.observe(outputEl, {childList: true});\n",
              "}}\n",
              "\n",
              "                        })\n",
              "                };\n",
              "                \n",
              "            </script>\n",
              "        </div>\n",
              "</body>\n",
              "</html>"
            ]
          },
          "metadata": {
            "tags": []
          }
        }
      ]
    },
    {
      "cell_type": "markdown",
      "metadata": {
        "id": "prBGRhajvUkl"
      },
      "source": [
        "Now lets prepare the data by performing tokenisation and padding"
      ]
    },
    {
      "cell_type": "code",
      "metadata": {
        "id": "HGROIcTiupEd"
      },
      "source": [
        "#tokeniser vectorises our text corpus\n",
        "#tokenisation works turning each text into a sequence of integers\n",
        "list_of_words=[]\n",
        "\n",
        "for i in stock_df['Text_new2']:\n",
        "  for j in i:\n",
        "    list_of_words.append(j)#total words in the dataset"
      ],
      "execution_count": 35,
      "outputs": []
    },
    {
      "cell_type": "code",
      "metadata": {
        "id": "zjRb1ok8ydRK",
        "outputId": "0c4bb163-9498-46c8-fc79-3ecd5a7d6be8",
        "colab": {
          "base_uri": "https://localhost:8080/",
          "height": 34
        }
      },
      "source": [
        "total_words=len(list_of_words)#total number of words including rep\n",
        "total_words"
      ],
      "execution_count": 36,
      "outputs": [
        {
          "output_type": "execute_result",
          "data": {
            "text/plain": [
              "45099"
            ]
          },
          "metadata": {
            "tags": []
          },
          "execution_count": 36
        }
      ]
    },
    {
      "cell_type": "code",
      "metadata": {
        "id": "Q6RZbnWcx4bO"
      },
      "source": [
        "unique_words=len(list(set(list_of_words)))#total number of unique words"
      ],
      "execution_count": 37,
      "outputs": []
    },
    {
      "cell_type": "markdown",
      "metadata": {
        "id": "fQKIKx9LzB0E"
      },
      "source": [
        "now lets split the data to train and test set"
      ]
    },
    {
      "cell_type": "code",
      "metadata": {
        "id": "q48wyWnwyVft"
      },
      "source": [
        "x=stock_df['Text_new2']\n",
        "y=stock_df['Sentiment']\n",
        "from sklearn.model_selection import train_test_split\n",
        "x_train,x_test,y_train,y_test=train_test_split(x,y,test_size=0.1,random_state=0)\n"
      ],
      "execution_count": 38,
      "outputs": []
    },
    {
      "cell_type": "code",
      "metadata": {
        "id": "Z8X-NQq_zhVJ"
      },
      "source": [
        "#now lets convert text data into integers\n",
        "tokenizer=Tokenizer(num_words=total_words)\n",
        "tokenizer.fit_on_texts(x_train)\n",
        "\n",
        "train_sequences=tokenizer.texts_to_sequences(x_train)\n",
        "test_sequences=tokenizer.texts_to_sequences(x_test)"
      ],
      "execution_count": 39,
      "outputs": []
    },
    {
      "cell_type": "code",
      "metadata": {
        "id": "s6Or8sVO041-",
        "outputId": "87f4778d-8a42-4e36-95bb-649f0b6b17cc",
        "colab": {
          "base_uri": "https://localhost:8080/",
          "height": 1000
        }
      },
      "source": [
        "train_sequences"
      ],
      "execution_count": 40,
      "outputs": [
        {
          "output_type": "execute_result",
          "data": {
            "text/plain": [
              "[[3621, 862, 762, 699, 700, 1104, 38, 8],\n",
              " [1298, 414, 270, 701, 72, 5, 243, 86],\n",
              " [1534,\n",
              "  1535,\n",
              "  863,\n",
              "  1536,\n",
              "  3622,\n",
              "  2482,\n",
              "  3623,\n",
              "  62,\n",
              "  1537,\n",
              "  3624,\n",
              "  114,\n",
              "  3625,\n",
              "  1538,\n",
              "  3626],\n",
              " [386, 5, 2, 118, 91, 9],\n",
              " [78, 864, 1891],\n",
              " [387, 1105, 98, 970, 1539, 7, 41],\n",
              " [6, 1892, 2483, 1893, 25],\n",
              " [167, 3627, 1299, 763, 114, 865, 39, 3, 114, 1894, 70, 1540, 3628, 2484],\n",
              " [1895, 153, 1541, 702, 764, 3629, 25, 388, 1541, 1896, 1897, 126],\n",
              " [204, 971, 1542, 3630, 2485, 3631, 3632, 11, 135, 1543],\n",
              " [115, 236, 3633, 389, 1],\n",
              " [2486, 140, 363, 2487, 187, 1898, 3634],\n",
              " [83, 549, 1106, 1107, 141, 550, 1899, 866, 154, 2488, 3635, 3636],\n",
              " [606, 867, 972, 3637, 324, 650, 244, 301, 1900, 415, 1300, 3638, 3639],\n",
              " [249, 507, 435],\n",
              " [344, 868, 607, 142],\n",
              " [1901, 16, 1544, 188, 3640, 21, 271],\n",
              " [3641, 3642, 1108, 109, 551, 2489, 17, 13, 26],\n",
              " [2490, 11, 250, 38, 5, 2],\n",
              " [10, 2491, 9, 121],\n",
              " [37, 34, 1, 345, 118, 42, 2492, 869, 18, 703, 436, 704],\n",
              " [10, 1301],\n",
              " [3643, 475, 3644, 1302, 3645, 3646, 3647, 3648, 3649],\n",
              " [42, 30, 23, 3650, 437, 262],\n",
              " [1303, 251, 705, 438, 1304],\n",
              " [6, 34, 5, 160, 8, 31],\n",
              " [3651, 251, 870, 346, 3652, 3653, 3654, 288, 1902, 2493, 53],\n",
              " [1545, 765, 87, 289, 439, 61, 390],\n",
              " [228, 75, 766],\n",
              " [29, 347, 16, 20, 48, 244],\n",
              " [1109, 651, 508, 2494],\n",
              " [3655, 3656, 764, 767, 19, 168, 552, 122, 3657, 3658, 3659],\n",
              " [237, 174, 2495],\n",
              " [39, 3, 229, 869, 1110, 25, 416, 155, 155],\n",
              " [205, 104, 3660, 3661, 62, 1105, 2496, 973, 706, 415, 196, 46, 3662],\n",
              " [1546, 5, 707, 652, 1903, 156, 653],\n",
              " [32, 136, 211, 15, 871, 348, 105, 49, 20, 872, 212, 768, 1904, 147, 4],\n",
              " [3663, 302, 101, 387, 47, 873, 263, 389, 237],\n",
              " [344, 92, 3664, 65, 175, 1547, 43],\n",
              " [364, 1111, 3665, 15, 1905, 608, 3, 3666, 654, 3667],\n",
              " [37, 3668],\n",
              " [10, 21, 509, 9, 197],\n",
              " [71, 974, 3669],\n",
              " [1548, 975, 119, 90, 349, 476, 57, 19, 3670, 3671],\n",
              " [1305, 1906, 1907, 3672, 1908, 9, 197],\n",
              " [10, 3673, 553, 976, 3674, 3675, 554],\n",
              " [137, 1909, 138, 440, 161, 1549],\n",
              " [2497, 179, 1910, 3676, 1911, 19, 196, 3677, 3678, 1112, 46, 3679],\n",
              " [24, 252, 50, 43, 28, 325, 477, 2498, 417, 708, 3680, 3681, 3682],\n",
              " [37, 243, 2499, 509, 303, 20, 555, 3683],\n",
              " [874, 176, 709, 977, 2500, 1306, 70, 875, 3684, 3685, 3686, 3687],\n",
              " [769, 204, 70, 15, 556, 1912, 157],\n",
              " [18, 1913, 655],\n",
              " [3688, 1113, 35, 206, 1307, 131, 978, 83, 1, 206, 249, 510, 31],\n",
              " [2501, 478],\n",
              " [1550, 25, 979, 213, 32, 2, 68, 49, 418, 48],\n",
              " [3689, 75, 4],\n",
              " [980, 557, 93, 198, 76],\n",
              " [876, 1914, 3690, 3691, 2502, 770, 710, 1915, 156],\n",
              " [3692, 511, 1114, 1551, 230, 418, 417],\n",
              " [558, 34, 5, 80, 105, 41],\n",
              " [271, 1308],\n",
              " [1916, 1115, 49, 1552, 656, 183, 1553, 3693, 245, 1309, 301, 1917, 872, 290],\n",
              " [214, 99, 9, 215, 512],\n",
              " [1, 657, 1554, 15, 508, 184, 2503, 1555, 264, 1556, 365, 2504],\n",
              " [366, 304, 25],\n",
              " [2505, 288, 92, 3694, 1557, 16, 2505, 1116, 127, 2506, 73, 176],\n",
              " [1558, 326, 609, 877, 3695, 699, 3696, 32, 559, 1918, 981],\n",
              " [114, 169, 278, 479, 982, 76, 216, 56, 1117, 222, 179, 278, 128, 3697, 3698],\n",
              " [265, 610, 437, 441, 367, 99, 560, 3699, 368],\n",
              " [65, 870, 2507, 3700, 561],\n",
              " [80, 5, 658, 154, 87, 562],\n",
              " [1919, 563, 177, 564, 1310, 230, 3701, 3702],\n",
              " [1559, 217, 153, 1920, 983, 3703, 116, 3704, 137, 983],\n",
              " [513, 25, 607, 3705, 771, 1, 71, 262, 6, 1, 106, 21, 984, 13, 43],\n",
              " [93, 611, 1560, 81, 514],\n",
              " [1921, 2508, 2509, 2510, 763, 1561, 475, 3706, 147, 2510, 180, 2511],\n",
              " [78, 1311, 3707, 3708, 3709, 222, 1311, 107, 1118, 3710],\n",
              " [1922, 419, 218, 66, 711, 246, 12, 3],\n",
              " [129, 207, 565, 2512, 1312, 1119],\n",
              " [420, 652, 42, 148, 659, 25],\n",
              " [6, 207, 421, 49],\n",
              " [279, 67, 253, 515, 90, 350, 515, 327],\n",
              " [1923,\n",
              "  254,\n",
              "  3711,\n",
              "  606,\n",
              "  3712,\n",
              "  3713,\n",
              "  280,\n",
              "  3714,\n",
              "  2493,\n",
              "  351,\n",
              "  2513,\n",
              "  223,\n",
              "  1924,\n",
              "  236,\n",
              "  2514],\n",
              " [3715, 156, 2515, 90, 3716, 3717, 230, 305, 3718, 3719, 3720],\n",
              " [11, 2, 79, 566, 5, 1120, 516],\n",
              " [2516, 10, 170, 3721, 612, 3722, 1925, 63, 3723, 3724, 3725],\n",
              " [171, 3726, 1313, 255, 20, 122, 92, 96, 181, 2491],\n",
              " [1562, 651, 246, 88, 1563, 94],\n",
              " [24, 252, 50, 13, 28, 51, 162, 1118, 517, 57, 518, 108, 1564, 1926],\n",
              " [10, 15, 38, 772, 878, 519, 102],\n",
              " [1927, 81, 1, 437, 15, 99],\n",
              " [3727, 442, 3728, 1121, 3729, 52, 985, 3730, 1565, 3731, 3732],\n",
              " [1566, 2517, 1122, 328, 272, 249, 139, 69, 199, 865, 2518],\n",
              " [1, 123, 480, 3733, 243, 1928, 3734, 3735, 21],\n",
              " [163, 71, 164, 78, 158, 177],\n",
              " [2519, 178, 75, 147, 329],\n",
              " [1314, 64, 303],\n",
              " [12, 330, 124, 2, 17, 13],\n",
              " [1929, 3736, 1928, 3737, 3738, 159, 71, 2520],\n",
              " [1315, 3739, 2521, 478, 1123, 712, 3740, 2522, 247, 44, 37, 65, 172],\n",
              " [77],\n",
              " [3741, 879, 1930, 3742, 2486, 20, 224, 660, 1553, 2523],\n",
              " [3743, 3744, 79, 3745, 1931, 701, 2524, 3746, 3747, 2525, 3748, 3749, 3750],\n",
              " [2526, 132, 3751, 132, 170],\n",
              " [1567, 880, 986, 773, 140, 774, 41],\n",
              " [21, 1932, 266, 3752, 3753, 1933, 3754, 2527, 1568, 3755],\n",
              " [520, 3756, 1569, 700, 2528, 256, 63, 120, 229, 66, 174, 189, 29, 3757, 1570],\n",
              " [1, 2529, 1934, 555, 351, 231],\n",
              " [422, 423, 231, 1316, 2, 137, 458, 17, 3758, 369],\n",
              " [3759, 56, 122, 105],\n",
              " [68, 1124, 3760, 613, 567, 92, 87, 44, 75],\n",
              " [987, 11, 614],\n",
              " [459, 1571, 22, 61, 3761, 881, 200],\n",
              " [775, 7, 3762, 41],\n",
              " [776, 47, 1572, 1935, 3763, 15, 1573, 49],\n",
              " [1317, 1535, 2530, 1936, 3764, 882, 245, 2531, 391, 3765, 291, 177, 3766],\n",
              " [765, 2, 328, 3767, 777, 163, 2532, 3768, 292, 169, 3769],\n",
              " [1937, 481, 1125, 564, 778, 273],\n",
              " [232, 3770, 661, 481, 883, 143, 553, 1893, 263, 3771, 3772],\n",
              " [662,\n",
              "  2533,\n",
              "  352,\n",
              "  256,\n",
              "  45,\n",
              "  663,\n",
              "  614,\n",
              "  521,\n",
              "  3773,\n",
              "  2534,\n",
              "  521,\n",
              "  3774,\n",
              "  3775,\n",
              "  3776,\n",
              "  2535],\n",
              " [225, 3, 2536, 40, 82, 565, 1938, 1574, 92, 230],\n",
              " [1934, 31, 568, 2537],\n",
              " [10, 2538, 2539, 1575, 135],\n",
              " [1318, 129, 11, 31, 59, 2],\n",
              " [10, 552, 15],\n",
              " [3777, 171, 32, 53, 2, 3778, 1576, 3779],\n",
              " [45, 3780, 306, 1110, 569, 2540],\n",
              " [110, 3781, 83, 1939, 126, 988],\n",
              " [11, 392, 393, 38, 3782],\n",
              " [1, 1940, 103, 2541],\n",
              " [129, 34, 5, 68, 135, 144, 145],\n",
              " [615, 154, 370, 1123, 118, 1941, 556, 118, 556],\n",
              " [1577, 4, 989],\n",
              " [3783, 4, 61, 990, 3784, 1126, 656, 1578, 3785, 2484],\n",
              " [30, 23, 3786],\n",
              " [163, 238, 55, 239, 3787, 2542, 2543, 2544, 204, 1942, 2542, 2545, 96, 181],\n",
              " [3788, 3789, 2546, 664, 3790, 1127, 3791, 1579, 563, 164, 3792, 46, 3793],\n",
              " [307, 978, 2547, 1580, 713, 7, 41, 190, 16, 146, 991, 222, 41],\n",
              " [1943, 884, 2548, 460, 566, 12, 96, 181, 2549, 714, 2549, 1128, 44, 3794],\n",
              " [1944, 9, 197, 308],\n",
              " [1581, 1129, 1319, 3795, 348, 224, 114, 33, 292, 1945, 2550, 328, 2551],\n",
              " [11, 3796, 353, 161, 240, 60, 55, 239],\n",
              " [65, 3797, 4, 416, 435, 3798, 49, 3799],\n",
              " [371, 3800, 20, 3801, 3802, 3803, 3804],\n",
              " [1130, 1],\n",
              " [1131, 131, 131, 1132, 21],\n",
              " [163, 115, 2552, 1320],\n",
              " [779, 1133, 144, 148, 885, 90, 17, 992],\n",
              " [1582, 77, 3805, 215, 281, 3806, 58, 3807],\n",
              " [1321, 779, 1133, 233, 514, 331, 32, 191, 1946, 176, 2553, 293, 665, 3808],\n",
              " [570, 1583, 424, 443, 993, 17],\n",
              " [372, 95, 3809, 372, 58, 1571, 26, 41, 3810],\n",
              " [715, 3811, 3812, 3813, 886, 1322, 994, 780, 3814, 21, 308, 716],\n",
              " [4, 136],\n",
              " [522, 523, 1134, 1323, 2554, 60, 524, 995, 781, 3815],\n",
              " [6, 181, 6, 36, 149, 3816, 3817, 3818],\n",
              " [1581, 2555, 3819, 3820, 2556, 1135, 1947, 887, 1948, 51, 2557, 3821],\n",
              " [373, 129, 109, 254, 176, 18, 7, 41, 129, 94],\n",
              " [150, 294],\n",
              " [1949, 32, 3822, 27, 2558, 167, 114, 3823, 278, 442, 3824, 309, 12, 3825],\n",
              " [1584, 3826, 996, 295, 196, 33, 3827, 3828, 3829],\n",
              " [1324, 1585, 872, 717, 223, 197, 3830, 1950, 280, 46, 3831, 3832, 267, 666],\n",
              " [659, 718, 667, 45, 1325, 1136, 2559, 2560, 882],\n",
              " [310, 151, 425, 224, 616, 268, 616, 198, 332, 144, 571, 26, 1137],\n",
              " [201, 13, 68, 75, 95, 782, 394, 1326, 1138, 105],\n",
              " [997, 1951, 2561, 775, 124, 67, 3833, 3834],\n",
              " [24, 444, 50, 43, 28, 888, 51, 783, 426, 1586, 57, 19, 998, 3835, 3836],\n",
              " [617, 4, 142, 2501, 525, 784, 142, 618],\n",
              " [3837, 1952, 4],\n",
              " [96, 1587, 117, 98, 43, 256, 619, 98, 43, 256],\n",
              " [889, 445, 2, 311, 33, 282, 1139, 190, 7, 41],\n",
              " [262, 446, 1588, 460],\n",
              " [482, 1140, 785, 82, 35, 1953, 427, 2562, 15],\n",
              " [1],\n",
              " [306, 1],\n",
              " [1589, 40, 988],\n",
              " [515, 4],\n",
              " [3838, 666, 3839, 3840, 526, 1954, 3841, 3842, 620, 1141],\n",
              " [181, 228, 273, 461],\n",
              " [786, 188, 787, 187, 184, 1142],\n",
              " [483, 100, 20, 190, 324, 3843, 57, 1955, 301, 719, 788, 1327, 3844, 3845],\n",
              " [114, 1328, 255, 20, 182, 2563, 1328, 3846, 255, 771, 3847, 1329, 3848],\n",
              " [890, 1143, 789, 1574, 1144, 720, 668],\n",
              " [2564, 266, 1956, 3849, 1957],\n",
              " [269, 17, 13, 152, 1108, 458],\n",
              " [42, 30, 219, 23, 2565, 106],\n",
              " [515, 279, 67, 253, 90, 2566, 669, 515, 327],\n",
              " [19, 621, 622, 280, 1330, 3850, 426, 2567, 1958, 560, 226, 2568, 2569],\n",
              " [670, 32, 17, 66],\n",
              " [527, 416, 3851, 3852, 1590, 3853],\n",
              " [557, 623, 2570, 127],\n",
              " [36, 200],\n",
              " [310, 151, 1305, 1591, 307, 616, 198, 332, 144, 571, 1959, 283, 999, 151],\n",
              " [140, 2, 2571, 3854, 790, 82, 59, 82, 12, 1592, 1960],\n",
              " [59, 791, 1000, 234, 1961, 93],\n",
              " [24, 444, 50, 43, 57, 19, 168, 1593, 3855],\n",
              " [192, 519, 29, 484, 44],\n",
              " [3856, 2572, 863, 1331, 866, 351, 354, 3857, 232, 572, 886],\n",
              " [573, 312, 2508, 559, 1332, 2573],\n",
              " [44, 7, 83, 162, 3858],\n",
              " [706, 721, 657, 1145, 2574, 2575, 1145, 1333, 1001, 1146, 126],\n",
              " [1594, 4, 11, 246, 711, 274, 310, 1334],\n",
              " [37, 3859, 22, 178, 56, 176, 47, 2576, 891, 447],\n",
              " [110, 1, 3860, 1595, 92, 1962, 421, 571, 3861, 11, 55, 15],\n",
              " [224, 3862, 395, 20, 145, 892],\n",
              " [779, 1133, 396, 148, 284, 48, 722, 485],\n",
              " [155, 1596, 291],\n",
              " [1963, 893, 17, 3863, 109, 118, 1147, 1002],\n",
              " [363, 94, 1964, 70, 22, 149, 1148, 894, 3864, 346, 313, 17, 51, 3865],\n",
              " [1597, 1335, 1598, 2577, 62, 83, 2578, 247, 142, 2578, 3866, 82, 2579, 3867],\n",
              " [314, 886, 1106, 671, 664, 1336, 3868, 418, 3869, 417],\n",
              " [72, 1599, 3870, 895, 201, 78, 607, 672, 40],\n",
              " [4, 228, 78, 136, 39, 68, 1965],\n",
              " [270, 2580, 40, 446, 1600, 624, 1966, 4, 76, 1105, 1601, 153],\n",
              " [3871, 1967, 172, 1149, 81, 147, 135, 792, 574, 3872],\n",
              " [232, 1602, 67, 1003, 793, 794, 50],\n",
              " [397, 236, 66, 355, 99, 4, 5, 1120],\n",
              " [10],\n",
              " [2581, 4, 795, 23, 1968, 1969, 440, 53, 131, 1603],\n",
              " [150, 111, 107, 220],\n",
              " [95, 352, 9, 2582, 1, 3873, 3874, 193, 2512, 3875, 1],\n",
              " [3876, 1914, 1604, 2583, 1150, 717, 460, 3877, 1605, 3878, 3879],\n",
              " [6, 1970, 3880, 3881, 2584, 787, 2585, 575],\n",
              " [36, 14],\n",
              " [296, 1606, 1],\n",
              " [374, 117, 486, 1971, 3882, 90, 487, 3883, 3884, 3885, 89, 462],\n",
              " [1, 18],\n",
              " [566, 1, 1972, 1973, 2586, 3886, 398, 3887, 98, 3, 1004, 1322, 706],\n",
              " [110, 399, 488, 153, 8],\n",
              " [114, 292, 3888, 1337, 1005, 284, 183, 3889, 3890, 985, 46, 3891, 3892],\n",
              " [3893, 140, 95, 723],\n",
              " [1314, 724],\n",
              " [3894, 3895, 81, 208, 3896, 58, 35, 1607, 1338, 171, 653, 167, 3897],\n",
              " [279, 1339, 3898, 1974, 143, 13, 517, 625],\n",
              " [42, 30, 23, 3899, 21],\n",
              " [44, 1],\n",
              " [1151, 9, 3900],\n",
              " [20, 528, 192, 489, 8, 400, 333, 3901, 3902, 2587, 37],\n",
              " [1340, 626, 33, 3903, 1536, 3904, 3905, 114, 34, 47, 14, 529, 3906, 3907],\n",
              " [368, 181, 725, 726, 164, 42, 401],\n",
              " [356, 399, 266, 896, 1152, 1608, 796, 1975, 110, 611, 463, 1006, 1341, 1609],\n",
              " [1610, 1342, 3908],\n",
              " [24, 1153, 50, 28, 897, 51, 627, 1611, 1612, 2588, 2589, 3909],\n",
              " [155, 88],\n",
              " [36, 1579, 7, 36, 1007],\n",
              " [64, 110, 4, 60, 3, 485, 32, 66, 618, 2590, 1964],\n",
              " [25, 727, 353, 53, 2, 375, 59, 1613, 38, 399, 1614, 1918, 1343],\n",
              " [3910, 1615, 3911, 117, 1344, 334, 68, 192],\n",
              " [169, 464, 9, 167],\n",
              " [1321,\n",
              "  1976,\n",
              "  5,\n",
              "  628,\n",
              "  461,\n",
              "  3912,\n",
              "  788,\n",
              "  2591,\n",
              "  3913,\n",
              "  3914,\n",
              "  728,\n",
              "  3915,\n",
              "  729,\n",
              "  3916,\n",
              "  1154],\n",
              " [898, 148, 797],\n",
              " [1345, 65, 673, 61, 1346, 357, 530, 2, 183],\n",
              " [20, 528, 192, 489, 8, 400, 333, 1298, 1155, 1347, 1156, 1977],\n",
              " [1324, 191, 151, 2592, 531, 1008, 1348, 32, 233, 1978, 1616, 3917, 1979],\n",
              " [386, 1617, 730, 1349, 2],\n",
              " [3918, 2593, 1157],\n",
              " [133, 4],\n",
              " [576, 899, 1544],\n",
              " [93, 121, 158, 2594, 54, 315, 6, 3919, 1618, 780, 3920],\n",
              " [989, 1307],\n",
              " [1009, 40, 157, 428, 723, 40, 145, 798, 26, 70],\n",
              " [237, 629, 182, 1350, 14, 15, 190, 3921, 182, 900, 1010, 1004, 251, 70],\n",
              " [],\n",
              " [1980, 901, 333, 1351, 577, 1981, 622, 1011, 51, 2595, 46, 3922],\n",
              " [241, 218, 236, 66, 578, 56, 630, 13],\n",
              " [257, 11, 25, 86],\n",
              " [1546, 11, 1],\n",
              " [902, 1982, 152, 209, 610, 83, 2, 1012],\n",
              " [1341, 34, 17],\n",
              " [1352, 21, 258, 9, 281, 146],\n",
              " [152, 610, 395, 402, 674, 71],\n",
              " [227,\n",
              "  3923,\n",
              "  903,\n",
              "  1619,\n",
              "  719,\n",
              "  3924,\n",
              "  71,\n",
              "  655,\n",
              "  3925,\n",
              "  3926,\n",
              "  3927,\n",
              "  3928,\n",
              "  3929,\n",
              "  115,\n",
              "  3930],\n",
              " [228, 1, 465, 793, 3931, 625, 72, 1983, 60, 904, 86],\n",
              " [25, 302, 5, 68, 516],\n",
              " [42, 30, 23, 3932, 81, 1],\n",
              " [675, 1003, 1601, 2596, 2597, 1353, 20, 3933, 1620],\n",
              " [905],\n",
              " [403, 77, 220, 990, 2598, 906, 1158],\n",
              " [110, 251, 38, 549, 66],\n",
              " [1151, 9, 386],\n",
              " [1621, 1112, 579, 92, 1622, 1159, 907, 247, 2599, 1984, 3934, 3935, 3936],\n",
              " [24, 28, 783, 426, 349, 57, 375, 19, 2600, 46, 3937],\n",
              " [6, 204, 315, 26, 31, 176, 47, 401, 466],\n",
              " [24, 28, 190, 80, 2601, 57, 108, 621, 19, 874, 46, 3938],\n",
              " [121, 3939, 1623, 731, 96, 22, 1302, 307, 1146, 1160, 480, 908],\n",
              " [1985, 38],\n",
              " [204, 3940, 3941, 3942, 158, 706, 214, 731, 888, 275, 275, 182, 2602],\n",
              " [44, 6, 17, 13, 1354, 1624, 42],\n",
              " [1625, 4, 34],\n",
              " [6, 87, 94],\n",
              " [1, 264, 124, 448, 99],\n",
              " [3943, 1986, 2603, 3944],\n",
              " [3945, 8, 74, 1626, 206, 2, 259, 85],\n",
              " [77, 12, 64, 101],\n",
              " [1013],\n",
              " [3946, 1576, 624, 1355, 180],\n",
              " [3947, 879],\n",
              " [37, 279, 67, 253, 90, 350],\n",
              " [133, 580],\n",
              " [1356, 1014, 661],\n",
              " [257, 234, 373, 3948, 2604, 33, 1627, 3949, 1357],\n",
              " [316, 150, 17, 13],\n",
              " [467, 581, 265, 92, 39, 3, 312, 5, 87, 3950],\n",
              " [89, 278, 2605, 116, 58, 324, 52, 235],\n",
              " [1628, 3951, 3952, 3953, 3954, 611, 2606, 3955, 44],\n",
              " [582, 3956, 131, 2, 490, 185, 59, 7, 215, 63, 583, 52],\n",
              " [225, 3, 1629, 3957],\n",
              " [730, 240, 1, 284, 49, 1015, 1569],\n",
              " [1358, 2607],\n",
              " [732, 1359, 214, 358, 170, 3958, 631, 3959, 1016],\n",
              " [1017, 12, 64, 206, 126, 1896, 40, 799, 21, 136],\n",
              " [3960, 128, 2608, 2609, 2610, 2611, 2612, 3961],\n",
              " [117, 135, 3962, 624, 302, 625, 3963, 3964, 3965],\n",
              " [584, 3, 979],\n",
              " [2613, 1360, 1361, 8, 400, 491, 27, 5, 1018, 20, 61],\n",
              " [27, 266, 64, 1161, 152, 1956, 3966, 3967, 3968, 1630, 1159, 492],\n",
              " [3969, 112, 3970, 3971, 223, 1987, 585, 112, 625, 995, 2488, 3972, 3973],\n",
              " [2614, 6, 1988, 107, 3974, 416, 86],\n",
              " [262, 65, 147, 148, 628, 800, 147, 101, 586, 70, 72, 1162],\n",
              " [6, 21, 25],\n",
              " [1989, 1019, 17, 13, 8, 31, 2],\n",
              " [2615, 801, 2616, 3975, 114, 34, 3976, 802, 51, 488, 7, 3977, 46, 3978],\n",
              " [115, 351, 1163, 33, 18, 77, 14, 94],\n",
              " [334, 587, 213, 449, 148, 88, 2, 201],\n",
              " [733, 3979, 315, 449, 1164, 49, 15, 1165],\n",
              " [42, 30, 23, 1990, 81, 1],\n",
              " [97, 146, 493, 51, 1020, 57, 108, 621, 1631, 2617],\n",
              " [734, 2618, 51, 771, 103, 3980, 671, 1991, 3981, 3982],\n",
              " [632, 803, 272, 970, 22, 178, 80, 11, 1134, 285],\n",
              " [1166, 14, 804, 315, 418, 3983, 2619, 68, 4, 123, 883, 723, 3984],\n",
              " [1009, 11, 118, 131, 225, 213, 210, 222, 41],\n",
              " [10, 91, 4, 86, 2],\n",
              " [8, 74, 59, 2, 85, 185],\n",
              " [3985, 1992, 3986, 1167, 1632, 20, 317, 1633, 162, 3987, 3988],\n",
              " [675, 314, 2620, 92, 1362, 2621, 2621],\n",
              " [37, 81, 1],\n",
              " [164],\n",
              " [1993, 2518, 3989, 909, 3990, 271],\n",
              " [488, 54, 110, 250, 249, 1363, 450, 1021, 2, 475],\n",
              " [732, 11, 118, 55, 239, 5, 1634, 170, 17],\n",
              " [1364, 150, 17, 55],\n",
              " [889, 4],\n",
              " [3991, 887, 1537, 1992, 222, 151, 1994, 1597, 33, 3992, 345, 3993, 3994],\n",
              " [178, 119, 3995, 1995, 3996, 16, 48, 52],\n",
              " [24, 252, 50, 13, 28, 325, 160, 1168, 134, 108, 51, 24, 28, 318],\n",
              " [2622, 18, 276, 30, 48, 778, 215],\n",
              " [335, 45, 26, 3997, 3998, 2623, 1169, 2623, 633, 357, 1996],\n",
              " [64, 468, 208, 532, 611, 1635, 1636],\n",
              " [10, 164, 170, 10, 265],\n",
              " [24, 511, 50, 28, 1997, 57, 802, 29, 3999],\n",
              " [6, 97, 3, 1170, 767, 146],\n",
              " [96, 47, 1998, 26, 4000, 1998, 4001, 96, 1637, 1998, 42, 359, 4002],\n",
              " [1022, 4003, 394, 246, 238, 45, 260, 4004],\n",
              " [83, 3, 447, 119],\n",
              " [800, 89, 101, 805, 178, 16, 72, 533, 336, 154, 2624],\n",
              " [1022, 80, 31, 7, 41, 2625, 612, 126, 265, 82],\n",
              " [910, 1999, 588, 63, 348, 47, 72, 589],\n",
              " [376, 1, 667, 1, 72, 806, 182, 4005, 1590, 2000],\n",
              " [125, 61, 39, 213, 15, 556],\n",
              " [30, 23, 4006, 106],\n",
              " [770, 16, 200, 10, 311, 376],\n",
              " [1023, 911, 52, 1365, 125, 53],\n",
              " [14, 2626, 356, 245, 53, 35, 118],\n",
              " [2627, 872, 494, 301, 777, 4007],\n",
              " [1599, 77, 676, 53, 61, 534, 13, 173, 15, 66],\n",
              " [1589, 1, 2628, 427, 1024, 29, 84],\n",
              " [1171,\n",
              "  1366,\n",
              "  96,\n",
              "  1638,\n",
              "  1639,\n",
              "  978,\n",
              "  18,\n",
              "  1025,\n",
              "  2001,\n",
              "  4008,\n",
              "  4009,\n",
              "  4010,\n",
              "  4011,\n",
              "  2002],\n",
              " [366, 20, 56, 4012, 2629, 2630, 451, 1965, 98, 4013, 26, 2003],\n",
              " [36, 297, 103, 465, 1172],\n",
              " [2004],\n",
              " [4014, 92, 1330, 1146, 912, 4015, 2631, 216, 46, 4016],\n",
              " [270, 2632, 1173, 2, 352, 4017, 176, 2005, 15],\n",
              " [2006, 2007, 4018, 4019, 186, 4020, 4021, 2008, 2633, 6, 590, 1640],\n",
              " [45, 194, 440, 735, 1905, 1128, 913, 623, 726, 523, 4022, 1111],\n",
              " [1641, 1, 2634, 67],\n",
              " [2635, 45, 187, 155, 356, 245],\n",
              " [42, 219, 23, 4023, 106],\n",
              " [570, 15, 165, 289, 2636, 9],\n",
              " [172, 1642, 194, 38, 27, 8, 74, 16, 53, 81, 13],\n",
              " [4024, 7, 4025, 529, 36, 212, 70, 1174, 2637],\n",
              " [587, 3, 4026, 4027, 4028, 36, 15, 231, 18],\n",
              " [2638,\n",
              "  2639,\n",
              "  1367,\n",
              "  4029,\n",
              "  2009,\n",
              "  4030,\n",
              "  805,\n",
              "  1010,\n",
              "  4031,\n",
              "  2640,\n",
              "  807,\n",
              "  280,\n",
              "  2641,\n",
              "  2642],\n",
              " [10, 514, 4032],\n",
              " [199, 139, 62, 4033, 17, 3, 1368],\n",
              " [133, 1, 480],\n",
              " [4034, 1643, 4035, 36, 207, 4036],\n",
              " [182, 248, 248, 248, 182, 575, 117, 575, 117, 575, 117],\n",
              " [29, 347, 16, 2643, 48, 244],\n",
              " [7, 41],\n",
              " [19, 196, 56, 56, 4037, 4038, 2644, 629, 182, 2010, 4039, 1593, 4040, 4041],\n",
              " [34, 17],\n",
              " [4042, 2645, 106, 1026, 4043, 4044],\n",
              " [4045, 4046, 14, 160, 319, 41, 4047],\n",
              " [525, 66],\n",
              " [1369, 2646, 4048, 1131, 4049, 363, 98, 2647],\n",
              " [128, 495, 247, 333, 2648, 496, 1175, 1370, 16, 7, 2649, 577, 4050],\n",
              " [4051, 1176, 2650, 1115, 591, 364, 14],\n",
              " [24, 511, 50, 28, 211, 29, 1168, 518, 108, 51, 57, 19, 4052, 4053],\n",
              " [7, 634, 195, 33, 4054, 117, 12, 736, 20, 158, 71, 377],\n",
              " [1644, 1946, 4055, 2651, 4056],\n",
              " [1371, 3, 124, 193, 130],\n",
              " [532, 169, 2011, 189, 452, 1645, 31, 289, 562, 532],\n",
              " [486, 37, 29, 13, 2012, 4057, 283, 1646, 37, 2652, 76, 529, 2013],\n",
              " [183, 1647, 4058, 699, 90, 90],\n",
              " [677, 2014, 43, 57, 2606, 97, 4059, 100, 4060, 4061, 2653, 244, 2654],\n",
              " [24, 808, 50, 28, 1177, 211, 29, 46],\n",
              " [4062,\n",
              "  2655,\n",
              "  551,\n",
              "  1372,\n",
              "  100,\n",
              "  398,\n",
              "  660,\n",
              "  809,\n",
              "  3,\n",
              "  4063,\n",
              "  1112,\n",
              "  4064,\n",
              "  100,\n",
              "  1648,\n",
              "  4065,\n",
              "  4066,\n",
              "  4067],\n",
              " [386, 279, 67, 253, 90, 90, 350, 350],\n",
              " [678, 64, 468, 592, 4068, 532, 172, 1636],\n",
              " [366, 204, 2],\n",
              " [205,\n",
              "  104,\n",
              "  2656,\n",
              "  1373,\n",
              "  2656,\n",
              "  2015,\n",
              "  378,\n",
              "  624,\n",
              "  2657,\n",
              "  4069,\n",
              "  1649,\n",
              "  404,\n",
              "  4070,\n",
              "  914],\n",
              " [1301, 246, 220, 269, 13, 128],\n",
              " [286, 93, 379, 4071, 3, 1374, 729, 14, 2658, 459],\n",
              " [166, 2659, 2660, 166, 191, 94, 141, 550, 33, 166, 4072, 4073],\n",
              " [44, 1, 347],\n",
              " [1650, 64, 320, 1375, 82, 4074],\n",
              " [4075, 4076, 4077, 2016, 4078, 2649, 737, 191, 143, 232, 572],\n",
              " [1015, 56, 224, 224, 2, 1316, 137, 654, 593, 179, 50, 1651, 2017, 50],\n",
              " [32, 375, 220, 119, 107, 399, 672, 652],\n",
              " [34, 337, 118, 142, 49, 86, 451, 290, 167, 1376, 226],\n",
              " [373, 377, 2661, 773],\n",
              " [738, 4079, 1027, 2662, 398, 4080, 4081],\n",
              " [172],\n",
              " [11, 17, 60, 484, 4082, 429],\n",
              " [4083, 34, 13],\n",
              " [810, 239, 55, 18, 86],\n",
              " [67, 1003, 793, 2018, 191, 711, 22, 232, 572, 720, 668],\n",
              " [423, 484, 307, 1],\n",
              " [2663, 1178],\n",
              " [289, 292, 4084, 2664, 1004, 1377, 156, 96, 811, 313, 398],\n",
              " [4085, 1378, 22, 4086, 71, 124, 265, 282, 2665, 535],\n",
              " [1, 74, 311, 4087, 4088, 2019, 4089, 4090, 4091, 1652, 2020, 4092, 2666],\n",
              " [1028, 4],\n",
              " [4093, 915, 22, 12, 64],\n",
              " [2021, 39, 3, 277, 190],\n",
              " [4094, 4095, 526, 16, 2022, 517, 2667, 114, 578],\n",
              " [1379, 365, 83, 61, 307, 2, 79, 153, 48],\n",
              " [67, 4096, 405, 149, 351, 270, 181, 149, 67, 526, 70],\n",
              " [1985, 4097, 112, 9, 197, 2668, 308],\n",
              " [1653, 1380, 2575, 2669, 201, 635, 13, 60, 89, 4, 123, 480],\n",
              " [321, 11, 240, 202, 33, 18, 214, 1, 916, 2670, 917, 334, 918, 1654, 2671],\n",
              " [4098,\n",
              "  4099,\n",
              "  739,\n",
              "  4100,\n",
              "  156,\n",
              "  2672,\n",
              "  4101,\n",
              "  70,\n",
              "  167,\n",
              "  1029,\n",
              "  4102,\n",
              "  406,\n",
              "  4103,\n",
              "  4104,\n",
              "  4105],\n",
              " [4106, 2023, 424, 4107, 4108, 4109, 4110, 374, 4111, 63, 4112],\n",
              " [2024, 2670, 212, 2025, 126, 4113, 296, 4114, 134, 8],\n",
              " [10, 2, 76, 212, 230, 312, 32, 87, 86],\n",
              " [152, 121, 610, 395, 145, 184, 414, 336, 492, 1655, 463, 1656, 4115],\n",
              " [7, 223, 2673, 2674, 1381, 2675, 550, 1607, 653, 32, 4116, 2026],\n",
              " [208, 1002, 4117, 4118, 407, 807, 2676, 2677, 180],\n",
              " [522, 16, 1179, 66],\n",
              " [221, 35, 59, 117, 62, 2027, 2028, 70, 4119],\n",
              " [20, 528, 192, 489, 8, 400, 333, 4120, 344, 1180, 2678, 4121],\n",
              " [2666, 2679, 155, 1372, 2680, 206, 58, 9, 589, 5],\n",
              " [10, 32, 2029, 163, 75, 1317, 919],\n",
              " [322, 360, 4, 107, 29, 125, 188, 1382, 160, 58],\n",
              " [6, 555, 70, 2030, 435, 2681, 4122, 4123],\n",
              " [16, 482, 274, 1181, 139, 47, 873, 289, 1182, 69],\n",
              " [4124, 4125, 2031, 1030, 144, 359, 372, 17, 56, 571],\n",
              " [1383, 679, 337, 1],\n",
              " [1031, 4126, 4127, 1301, 2543, 4128, 1183],\n",
              " [238, 2032, 1657, 897, 430, 173, 15, 99, 8],\n",
              " [715, 39, 5],\n",
              " [680, 681, 2033, 435, 591, 812, 4129, 2682, 32, 2028, 1184, 4130, 26, 2683],\n",
              " [20, 528, 192, 489, 8, 400, 333, 2034, 1577, 4131, 4132, 1658],\n",
              " [2035, 530, 161, 1032, 17, 105],\n",
              " [39, 3, 2036, 81, 127, 620, 274, 453, 1135, 229, 32, 1124, 4133, 14],\n",
              " [152, 159, 41, 986, 773, 518],\n",
              " [2684, 40, 270, 96, 2685, 4134, 4135, 1640, 813, 338, 4136, 81, 909],\n",
              " [6, 1, 9, 469],\n",
              " [4, 387, 428, 2483, 1659, 1, 4137, 467],\n",
              " [8, 627, 229, 59],\n",
              " [4138, 1185, 1384, 1186, 4139, 298, 982, 1033, 108, 191, 4140, 594],\n",
              " [24, 252, 50, 13, 28, 325, 57, 134, 108, 51, 24, 28, 318],\n",
              " [889, 40, 2, 161, 810, 25],\n",
              " [464, 2686, 164, 11, 1, 298, 628, 1034, 48],\n",
              " [37, 633, 2687, 2037, 1385, 42, 5, 111],\n",
              " [408, 186, 180],\n",
              " [339, 557, 124, 2688, 4141, 4142, 178, 1187, 409, 445, 1188, 93, 113],\n",
              " [44, 2689, 4143],\n",
              " [42, 78, 23, 4144],\n",
              " [1, 524, 4145, 789, 62, 4146, 4147, 2038, 4148],\n",
              " [1651, 380, 920, 12, 1189, 95],\n",
              " [2039, 356, 24, 28, 57, 134, 1660, 51],\n",
              " [397, 12, 64, 1, 69, 18, 58, 73],\n",
              " [1190, 5, 1, 263, 1661, 4, 1662, 68],\n",
              " [39, 3, 188, 4149, 2690],\n",
              " [129, 682, 103, 869, 171, 10, 297, 216, 381, 86],\n",
              " [227, 254, 4150, 117, 4151, 358, 14, 2040, 2691, 4152, 2691],\n",
              " [42, 30, 23, 4153],\n",
              " [921, 478, 15, 294, 109, 25, 814, 4154],\n",
              " [2533, 1663, 56, 815, 1386, 211, 4155, 5, 127, 1191, 592, 532, 4156],\n",
              " [1664, 497, 117, 816, 377, 4157, 78],\n",
              " [150, 47, 31, 1035, 2041, 4158, 1387, 443, 19, 196, 4159, 1300, 4160],\n",
              " [871, 635, 2692, 2042],\n",
              " [4161, 4, 3, 202, 84, 213, 1623],\n",
              " [158, 2043, 4162, 4163, 1665, 4164, 101, 1388, 4165, 142, 49, 2693, 1661],\n",
              " [21, 347, 1666, 73],\n",
              " [266, 4166, 1938, 595, 2694, 796],\n",
              " [4167, 246, 1036, 25, 23, 38, 1667, 4168, 536, 361],\n",
              " [6, 1192, 97, 95, 4169, 47, 2695],\n",
              " [65, 39, 369, 1],\n",
              " [1935, 4170, 4171, 4172, 4173, 1143, 1917, 1574, 372],\n",
              " [1389, 135],\n",
              " [4174, 250, 22],\n",
              " [4175, 69, 440, 4176, 4177, 636, 26],\n",
              " [339, 36, 31, 220, 33, 105, 2696, 193, 2044, 174, 31],\n",
              " [1, 228],\n",
              " [537, 1390],\n",
              " [522, 77, 795, 220, 55, 25],\n",
              " [8, 2697, 31, 785, 82, 59, 153, 337, 17],\n",
              " [1313, 515, 279, 67, 253, 382, 90, 90, 350, 515],\n",
              " [1668, 2045, 65, 110, 2045, 1543],\n",
              " [1669, 4178, 340, 4179, 4180, 2698, 186, 37, 4181],\n",
              " [346, 150, 154, 1892, 2046, 4182, 4183, 82],\n",
              " [232, 538, 1331, 588, 4184, 2047, 1037, 4185, 2553],\n",
              " [34, 784, 33, 454, 14, 1038, 61, 156, 466, 2699, 1, 1189],\n",
              " [1311, 4186, 1311, 4187],\n",
              " [2700, 145, 439, 3, 4188, 993],\n",
              " [228, 155, 34, 11, 4189, 136, 311, 21, 1670, 1],\n",
              " [1028, 479, 533, 106, 813, 23, 1028],\n",
              " [227, 2048, 4190, 1351, 27, 3, 2701, 2702, 306, 799, 183, 481, 1671],\n",
              " [62, 1039, 4191, 1391, 178, 121, 4192, 705, 2586, 683, 1040],\n",
              " [2703,\n",
              "  4193,\n",
              "  4194,\n",
              "  1392,\n",
              "  112,\n",
              "  340,\n",
              "  62,\n",
              "  94,\n",
              "  2049,\n",
              "  14,\n",
              "  866,\n",
              "  2704,\n",
              "  249,\n",
              "  4195,\n",
              "  4196,\n",
              "  4197],\n",
              " [12, 4198, 1393, 684, 4199, 1032, 707],\n",
              " [786, 2050, 298, 559, 2051, 36, 1038, 200],\n",
              " [1147, 4200, 2705, 21, 185, 212, 2706, 1672, 93, 4201],\n",
              " [414, 248, 52, 145, 275, 186, 135, 113, 706, 1933, 4202, 2707],\n",
              " [32, 815, 4203, 7, 1041, 329, 974, 32, 2052, 359, 267, 71, 6, 44],\n",
              " [77],\n",
              " [211, 1, 17, 20, 124, 84, 1673, 685, 582, 1674, 166],\n",
              " [171, 121, 6, 79, 26],\n",
              " [1394, 181, 1385, 121, 4204, 52, 2708, 1192],\n",
              " [6, 1, 446, 84, 922, 303, 4205, 192],\n",
              " [306, 1675, 163, 248, 999, 1676, 60, 524, 45, 2709],\n",
              " [366, 4206, 2710, 4207, 4208, 4209, 379, 93, 83, 1193, 95],\n",
              " [68, 263, 1661, 9, 355],\n",
              " [51, 41, 71, 12, 4210, 102, 2711],\n",
              " [470, 971, 4211, 340, 4212, 173, 1194, 533, 973, 197, 102, 354, 46, 4213],\n",
              " [292, 93, 438],\n",
              " [4214, 2053, 4215, 1169, 4216, 4217, 4218],\n",
              " [8, 174, 118, 102],\n",
              " [1395, 69, 20, 2712, 633, 780, 1357, 182, 594, 4219, 119, 2713, 6, 241],\n",
              " [2054, 62, 3, 18, 149, 200, 435, 1677, 62, 18, 923, 200],\n",
              " [14, 10, 21],\n",
              " [4220, 127, 2714, 181, 138, 596],\n",
              " [4221, 278, 1396, 4222, 4223, 465, 1195, 4224, 710, 1362, 4225],\n",
              " [133, 31],\n",
              " [4226,\n",
              "  337,\n",
              "  122,\n",
              "  371,\n",
              "  71,\n",
              "  4227,\n",
              "  6,\n",
              "  4228,\n",
              "  4229,\n",
              "  4230,\n",
              "  2715,\n",
              "  4231,\n",
              "  331,\n",
              "  2535,\n",
              "  4232],\n",
              " [106, 924, 4233, 2055, 2716, 4234],\n",
              " [78, 132, 483, 100, 97, 160, 215],\n",
              " [422, 682, 63, 2056, 60, 143, 2056, 4235, 740],\n",
              " [120, 1397, 55, 78, 2717, 1380, 30],\n",
              " [741, 4236, 1398, 182, 80, 4237, 51, 4238, 2057, 4239, 4240, 4241],\n",
              " [570, 328, 186, 32, 17, 1019, 63, 56, 351, 132, 4],\n",
              " [38],\n",
              " [4242,\n",
              "  2058,\n",
              "  4243,\n",
              "  4244,\n",
              "  4245,\n",
              "  1577,\n",
              "  4246,\n",
              "  4247,\n",
              "  2718,\n",
              "  4248,\n",
              "  4249,\n",
              "  2719,\n",
              "  4250,\n",
              "  4251,\n",
              "  2579,\n",
              "  4252,\n",
              "  4253,\n",
              "  2720,\n",
              "  4254,\n",
              "  1678],\n",
              " [339, 353],\n",
              " [30, 23, 4255, 106],\n",
              " [10, 212, 1012, 2037, 817],\n",
              " [21, 136, 1679, 4256, 338, 161],\n",
              " [257, 76],\n",
              " [170, 357, 2721, 27, 71],\n",
              " [188, 89, 329, 1680, 348, 341, 571],\n",
              " [232, 4257, 818, 354, 789, 60, 45, 564, 1037, 232, 1399, 720, 668],\n",
              " [407, 89, 421, 135, 1122],\n",
              " [1, 123, 126, 2034, 164, 1681, 656, 1400, 285, 220],\n",
              " [1682, 2722, 658, 4258, 1682, 925, 378, 2723, 467],\n",
              " [20, 4259, 562, 65, 175, 446, 819, 4, 1683, 1312, 42, 153, 163],\n",
              " [34, 122, 17, 34, 96, 29, 49, 45],\n",
              " [1017, 201, 161, 4260, 488, 4261],\n",
              " [10, 1029, 1684],\n",
              " [175, 383, 707],\n",
              " [4262, 4263, 882, 4264, 98, 26, 4265, 2724, 4266, 487, 4267, 4268, 4269],\n",
              " [1401, 334, 2017, 121, 4270, 7, 634, 195, 558, 158, 71],\n",
              " [2725, 4271, 4272, 4273, 675, 314, 1141, 391, 19, 1685, 4274, 46, 4275],\n",
              " [39, 3, 109, 213, 1686, 1036, 637, 1687, 75, 11, 383, 4276, 69, 26, 1196],\n",
              " [21, 258, 9, 281, 146],\n",
              " [346, 4277, 4278, 33, 1042, 1197, 1108, 36, 1688],\n",
              " [926],\n",
              " [38, 1154],\n",
              " [4279, 4280, 87, 2059, 443, 19, 168, 167, 466, 138, 4281, 4282, 4283],\n",
              " [2060, 4284, 4285, 77, 4286, 4287, 2726, 220, 4288, 4289, 564, 4290],\n",
              " [464, 5, 162, 3],\n",
              " [516, 436, 4291, 1117, 36, 31, 94, 539, 1021],\n",
              " [1402, 559, 4292, 4293, 4294, 27, 127, 2727, 29],\n",
              " [346, 524, 342, 4295, 45, 870, 55, 25, 9],\n",
              " [42, 30, 219, 23, 2728],\n",
              " [1689, 32, 26, 17, 38, 656, 451, 2061],\n",
              " [508, 4296, 41],\n",
              " [403, 155],\n",
              " [1379, 399, 1198, 157, 4297, 4298, 2062, 186, 7, 13, 53],\n",
              " [977, 4299, 977, 2729, 2729, 304, 121],\n",
              " [498, 34, 91],\n",
              " [208,\n",
              "  224,\n",
              "  16,\n",
              "  2716,\n",
              "  4300,\n",
              "  4301,\n",
              "  2730,\n",
              "  765,\n",
              "  441,\n",
              "  147,\n",
              "  2063,\n",
              "  396,\n",
              "  1690,\n",
              "  1691,\n",
              "  1,\n",
              "  208],\n",
              " [110, 126, 96, 181, 2548, 4302],\n",
              " [6, 63, 4303, 469, 222, 55],\n",
              " [4304, 356, 1042, 12, 1403, 4305, 1199],\n",
              " [4306, 4, 13, 215, 41, 993, 131, 820, 1179, 4307, 338],\n",
              " [4308, 8, 74, 315, 1626, 2, 185, 85],\n",
              " [2590, 1404, 2064, 83, 68, 243, 562],\n",
              " [38, 199],\n",
              " [1611, 1612, 1153, 2731, 268, 242, 514, 151],\n",
              " [712, 2065, 1, 2732, 92, 1348],\n",
              " [106, 120, 332, 4309, 13, 553, 638, 1, 248],\n",
              " [4310],\n",
              " [2733, 33, 15, 2734, 18, 149, 128, 1692, 4311, 1152, 2735, 580],\n",
              " [1693, 120],\n",
              " [65, 218, 255, 88, 153, 1043, 243, 4312, 399, 899, 1040],\n",
              " [686, 613, 2736, 1405, 989],\n",
              " [221, 23],\n",
              " [431, 18, 216, 2066],\n",
              " [133, 255, 135, 927, 4313, 821, 99, 337, 499],\n",
              " [201, 2, 727, 70, 13, 152, 610, 1634, 22],\n",
              " [228, 305, 1687, 195, 228, 909, 62, 898, 158, 1694, 4314],\n",
              " [1, 638, 56, 2005],\n",
              " [1406, 742, 4315, 2737, 49],\n",
              " [2507, 4316, 555, 214, 73, 149, 16, 14, 2067, 1108, 288, 1695, 156],\n",
              " [4317, 928, 67, 2738, 902, 2739, 4318, 70, 1044, 4319, 4320],\n",
              " [75, 311],\n",
              " [170, 34, 363],\n",
              " [39, 3, 80, 432, 33, 47, 254],\n",
              " [420, 11, 130, 1108, 217, 56, 351, 152, 4321],\n",
              " [208, 5, 294, 14, 246, 125, 3, 336, 540, 1655, 492],\n",
              " [47, 2740, 4322, 36, 1696, 2717, 4323, 25],\n",
              " [4324, 375, 210, 402, 619, 4325, 929],\n",
              " [78, 597, 1697, 2741, 206, 2009],\n",
              " [365, 18, 4326, 2068, 141, 4327, 305, 1355, 180, 56, 4328],\n",
              " [930, 3, 338, 25, 56, 4329, 174, 1407, 355, 370, 152, 610, 148, 105],\n",
              " [2622, 276, 30, 48, 778, 215],\n",
              " [1698, 1699, 58, 2742, 374, 671, 4330, 4331, 4332, 180, 347],\n",
              " [21, 258, 9, 146],\n",
              " [224, 136, 20, 111, 628],\n",
              " [6, 1170, 2069, 767, 55, 239, 87, 13, 2743],\n",
              " [392, 393, 136, 4333],\n",
              " [403, 83, 768, 18, 305, 1316],\n",
              " [1045, 112, 477, 16, 354, 304, 112, 72, 4334, 4335],\n",
              " [44, 787, 500, 379, 297, 884, 62, 1939, 322, 109],\n",
              " [2070, 4336, 10, 389, 2071, 167, 565, 60, 2072, 883, 83, 1557],\n",
              " [7, 41, 34, 13, 128],\n",
              " [24,\n",
              "  1700,\n",
              "  50,\n",
              "  28,\n",
              "  396,\n",
              "  57,\n",
              "  4337,\n",
              "  75,\n",
              "  4338,\n",
              "  112,\n",
              "  2073,\n",
              "  112,\n",
              "  4339,\n",
              "  4340,\n",
              "  112,\n",
              "  496],\n",
              " [89, 4341, 4342, 511, 354, 57, 19, 1200, 4343, 4344],\n",
              " [2744, 221, 568, 23, 161],\n",
              " [44, 262, 2, 35, 687, 790, 220, 1201, 1164],\n",
              " [10, 555, 1202],\n",
              " [4, 25, 9, 34, 5, 22, 250, 14, 218, 2745, 2746, 277, 49, 2074],\n",
              " [1902, 1399, 4345, 4346, 2747, 873, 487, 2748, 20, 149, 4347],\n",
              " [362,\n",
              "  6,\n",
              "  49,\n",
              "  424,\n",
              "  71,\n",
              "  2075,\n",
              "  4348,\n",
              "  225,\n",
              "  3,\n",
              "  124,\n",
              "  2749,\n",
              "  49,\n",
              "  154,\n",
              "  471,\n",
              "  4349,\n",
              "  405,\n",
              "  149],\n",
              " [339, 4350],\n",
              " [2076, 1203, 4351, 4352, 4353, 822, 470, 1701, 1701, 2750],\n",
              " [1298, 1681],\n",
              " [274, 4354, 375, 402, 513, 1, 2626],\n",
              " [2077, 223, 1319, 1204, 1702, 2751, 4355, 4356, 4357, 4358],\n",
              " [119, 507, 2752, 4359, 2753],\n",
              " [1356, 2078, 322, 4360, 243, 249],\n",
              " [12, 64, 101, 237],\n",
              " [100,\n",
              "  128,\n",
              "  1026,\n",
              "  311,\n",
              "  4361,\n",
              "  222,\n",
              "  627,\n",
              "  2532,\n",
              "  2754,\n",
              "  931,\n",
              "  4362,\n",
              "  4363,\n",
              "  46,\n",
              "  4364,\n",
              "  4365],\n",
              " [522, 277, 17, 893, 285, 64, 35, 25],\n",
              " [],\n",
              " [6, 509, 688, 1703, 499, 4366, 72, 242, 267],\n",
              " [218, 35, 56, 179, 220, 73, 8, 425, 15],\n",
              " [1, 3, 117, 2079, 390, 1388, 390, 823, 3, 53, 2755],\n",
              " [4367, 4368, 4369, 4370, 2756, 154, 156, 4371, 4372],\n",
              " [228, 2757, 4373, 1590, 562, 4374, 47, 10, 1205, 2757, 4375, 4376],\n",
              " [2080, 2758, 255, 88, 31],\n",
              " [889, 4, 36],\n",
              " [4377, 176, 725, 375, 2, 4378, 2759, 79],\n",
              " [2081, 1704],\n",
              " [65, 376, 743, 93, 72],\n",
              " [1324,\n",
              "  675,\n",
              "  29,\n",
              "  4379,\n",
              "  4380,\n",
              "  2722,\n",
              "  156,\n",
              "  4381,\n",
              "  4382,\n",
              "  223,\n",
              "  739,\n",
              "  2672,\n",
              "  2525,\n",
              "  1206],\n",
              " [345, 4383, 1408, 1409, 72, 242, 4384, 46, 4385],\n",
              " [2760, 241, 2082, 2761, 2762],\n",
              " [801, 20, 1692, 2763, 2764, 112, 2765],\n",
              " [5, 2, 12],\n",
              " [721, 2766, 2, 226, 425, 192],\n",
              " [472, 3, 402, 35, 157, 428, 530, 2, 48, 9],\n",
              " [1658, 597, 14, 14, 61, 84, 5, 2, 11, 17],\n",
              " [824, 66, 320, 102],\n",
              " [1207, 1705, 5, 47, 214],\n",
              " [2083, 1208, 177, 396, 273, 58, 57, 19, 168, 2084],\n",
              " [422, 212, 895, 169, 60, 992, 58, 365, 1209, 95, 389, 1210, 4, 246, 161, 8],\n",
              " [2085, 993, 342, 216, 4386],\n",
              " [501],\n",
              " [96, 811, 1046, 143, 37, 56, 121, 49, 932, 1047, 157, 541, 1],\n",
              " [1139, 257, 776],\n",
              " [2086, 43, 41, 225, 3, 251, 448, 222, 215],\n",
              " [1048, 1706, 933, 540, 521, 1385, 40, 2767, 27, 613, 17, 4387],\n",
              " [22, 141, 590, 1707, 4388, 14, 1708, 2087, 2088, 37, 450, 231, 616],\n",
              " [1410, 118, 689, 59, 2, 259, 85],\n",
              " [24, 511, 50, 28, 2768, 57, 19, 168],\n",
              " [1709, 21, 258, 9, 281, 146],\n",
              " [42, 30, 23, 4389],\n",
              " [152, 1325, 118, 153, 4390, 1049, 355, 45, 676, 25],\n",
              " [85, 4391, 519, 113],\n",
              " [1031, 12, 141, 178, 4392, 12, 39, 5],\n",
              " [39, 3, 48],\n",
              " [1411, 155, 139, 38, 152, 54],\n",
              " [80, 80, 7, 319, 53, 2089, 4393, 4394, 769, 12, 2090],\n",
              " [2769, 21, 258, 9, 281, 146],\n",
              " [2091, 2092, 2093, 7, 2094, 367, 663, 2724, 487, 825, 825, 1041],\n",
              " [788, 77, 4395, 5, 799, 20],\n",
              " [126],\n",
              " [257, 144, 359, 16, 2770, 372, 2770, 571, 33, 542],\n",
              " [6, 154, 1123, 817, 1710, 821, 33, 1211, 744, 66, 81],\n",
              " [44, 323, 156, 2771, 7, 195],\n",
              " [224, 4396, 690, 1036, 4397, 598, 1711, 619, 342, 200],\n",
              " [2095, 4398, 4399, 2096, 1370, 690, 4400, 1380, 2096, 4401, 4402, 1174, 1412],\n",
              " [75, 766, 313, 29, 1014, 4403, 291, 29, 245],\n",
              " [10, 407, 2772, 419],\n",
              " [218, 525, 543, 13, 60, 1020, 2097, 53, 84, 2773, 215, 1413],\n",
              " [4404, 745, 4405, 553, 564, 89, 232, 143],\n",
              " [419, 34, 15, 165],\n",
              " [1212, 8, 74, 59, 2, 259, 85],\n",
              " [4406, 181, 1050, 139, 1414, 229, 482, 1165, 88, 31, 4407],\n",
              " [63, 237, 119, 1, 2098, 12, 142, 164, 360, 4408, 597, 4409, 612],\n",
              " [464, 335, 1051, 1],\n",
              " [455, 120, 460],\n",
              " [531, 481, 1125, 564, 778, 273],\n",
              " [55],\n",
              " [439, 3, 5, 26, 4410, 195, 343, 1415, 2774, 316],\n",
              " [527, 14, 85, 54, 521, 307, 336],\n",
              " [44, 80, 544, 92, 29, 18, 2775, 25],\n",
              " [713, 2776, 1155, 261, 2099, 2587, 4411, 515, 558, 4412, 1712, 4413],\n",
              " [20, 528, 192, 489, 8, 400, 333, 4414, 2777, 1180, 18, 408, 4415],\n",
              " [1034, 20, 25, 98, 635, 4416],\n",
              " [2100, 52, 48, 117, 143, 350, 176, 122, 106, 4417],\n",
              " [4418, 502, 1713, 934, 2101, 86, 69, 70, 233],\n",
              " [776],\n",
              " [921, 342, 814, 165, 9],\n",
              " [10, 78, 1213, 107, 40, 826, 1714, 35, 1],\n",
              " [1393, 1367, 382, 4419, 478, 234, 22, 658, 1135],\n",
              " [15, 26, 18, 544, 92, 29, 544, 2102, 1021, 263, 44, 261],\n",
              " [798, 73, 169, 2778, 4420, 4421],\n",
              " [2103, 7, 319, 41, 827, 49, 55, 273],\n",
              " [691, 159, 2779, 498, 4422, 2104, 677, 589, 137, 473],\n",
              " [403, 989, 451, 2780],\n",
              " [270, 3, 225, 40, 124, 121, 2, 2105],\n",
              " [62, 142, 231, 18, 322, 306, 322, 1416, 766],\n",
              " [828, 2106, 510, 479, 338, 161, 2107, 4423, 4424],\n",
              " [10, 935, 81, 1715, 357, 4425, 4426, 491, 935, 367, 21],\n",
              " [829, 488, 11, 148, 88],\n",
              " [5, 1, 53, 1052, 656, 402],\n",
              " [34, 1417, 61],\n",
              " [209, 270, 1053, 4427, 1595, 746, 4428, 441, 2781, 70, 495, 1919, 4429],\n",
              " [2021, 150, 31, 59, 328, 185, 78, 2, 49, 491],\n",
              " [595, 8, 74, 934, 315, 59, 5, 2, 259, 85],\n",
              " [2782, 174, 17],\n",
              " [1716],\n",
              " [16, 438, 438, 545],\n",
              " [2547, 12, 343, 63, 142, 238],\n",
              " [234, 251, 38, 549, 66],\n",
              " [1214, 4430, 4431, 747, 181, 1945, 2108, 4432, 181, 98, 2109],\n",
              " [1303, 598, 14, 7, 41],\n",
              " [8, 73, 21, 91],\n",
              " [1142, 56, 164, 47, 405, 149, 154],\n",
              " [210],\n",
              " [335, 829, 126, 310],\n",
              " [678, 4, 468, 611, 208, 1636, 1635],\n",
              " [172, 34, 3, 5, 1, 503, 31, 52, 99, 66],\n",
              " [279, 67, 253, 90, 669, 350],\n",
              " [205, 104, 4433, 504, 4434, 4, 182, 4435, 4436, 4437],\n",
              " [926, 34, 31],\n",
              " [608, 265, 2110, 936, 44, 323, 156, 2771, 7, 195],\n",
              " [24, 252, 50, 43, 28, 19, 4438, 108, 51, 24, 28, 318],\n",
              " [580, 1717, 662, 830, 4439, 109, 120, 1632],\n",
              " [980, 14],\n",
              " [827, 41, 55, 35, 2783, 52],\n",
              " [4440, 2784, 161, 2, 87, 119, 220, 130, 1718, 33, 1418],\n",
              " [734, 937, 373, 4, 8, 7, 1917, 2785, 2068, 4441, 165],\n",
              " [2786, 187, 1719, 5, 211, 105, 326],\n",
              " [733, 11, 55, 35, 39, 213, 380, 13],\n",
              " [1054, 96, 2787, 22, 791, 4442, 442, 179, 82, 9, 143, 12, 5],\n",
              " [938, 279, 4443, 4444, 304, 112, 1215, 2111, 745, 143, 46, 4445],\n",
              " [77, 64, 7, 319, 41],\n",
              " [159, 1216, 62, 50, 43, 226, 227, 357, 1720, 126],\n",
              " [110, 2788, 2789, 1, 14, 43, 370, 501, 55],\n",
              " [184, 116, 158, 651, 514, 17],\n",
              " [2112, 64, 680, 1419, 1, 389],\n",
              " [30, 419, 14, 26, 60, 4446, 43, 82, 59, 2113],\n",
              " [30, 23, 4447, 106],\n",
              " [472, 5, 657, 4448, 456, 4449, 2604, 2790, 95, 6, 2584, 2791],\n",
              " [4450, 4451, 4452, 41, 91, 9],\n",
              " [516, 2792],\n",
              " [255, 88],\n",
              " [132, 170, 9],\n",
              " [191, 151, 2592, 531, 1008, 1348, 32, 233, 1978, 1616, 4453, 2793, 4454],\n",
              " [1721, 4, 429],\n",
              " [360, 133, 4455, 1, 537, 115, 118, 256, 148],\n",
              " [1722, 17, 1217, 1116, 2794, 2114, 748, 133, 1, 54],\n",
              " [24, 252, 50, 43, 28, 325, 57, 518, 108, 51, 19, 4456, 4457],\n",
              " [4458, 4, 5, 156, 1218, 248, 186],\n",
              " [8, 30, 25, 217, 66, 2795, 1219, 749, 1420, 4459, 1723],\n",
              " [2115, 1],\n",
              " [1, 95, 1421, 178, 446],\n",
              " [796, 193, 2, 165],\n",
              " [10, 67, 398, 2796, 4460, 216, 154, 29, 429, 4461, 398, 2797],\n",
              " [15, 9, 58, 56, 537, 4462, 539, 4463],\n",
              " [1055, 71, 101, 406, 2116, 728],\n",
              " [1056, 939, 888, 42, 831, 1724, 122, 92, 4464, 1183, 4465, 4466],\n",
              " [37, 2798, 4467, 1057, 406, 2799, 323, 406, 345, 2800, 900, 1725, 1624, 382],\n",
              " [750, 368, 4468, 23, 103, 21, 54],\n",
              " [1937, 481, 564, 46, 4469],\n",
              " [12, 109, 2801, 459, 2117, 80, 929],\n",
              " [2802, 410, 168, 1680, 639, 1058, 129, 207, 2118, 4470, 4471, 4472],\n",
              " [9, 221, 1059, 122, 224, 29, 158, 268],\n",
              " [1046, 430, 2632, 2000, 4473, 523, 705, 2119],\n",
              " [11, 149, 44, 240, 1, 4474],\n",
              " [280, 4475, 5, 73, 2120, 592, 471, 322, 76],\n",
              " [1314, 2, 1198, 15, 16, 1179, 2],\n",
              " [44, 1696, 4476, 441, 685, 2803, 685, 685],\n",
              " [37, 120, 29],\n",
              " [42, 30, 23, 2804, 21, 54],\n",
              " [420, 2805, 16, 284, 4477, 190],\n",
              " [79, 236, 1914, 2806, 19, 4478, 2077, 7, 4479, 2807, 2121, 812, 4480],\n",
              " [2808, 21, 258, 9, 146],\n",
              " [751, 16, 454, 14, 75, 770],\n",
              " [2122, 6],\n",
              " [4481],\n",
              " [4482, 2809, 179, 1676, 640, 1060, 15, 4483, 203, 87, 84, 2810, 1538, 4484],\n",
              " [4485,\n",
              "  4486,\n",
              "  177,\n",
              "  2811,\n",
              "  2107,\n",
              "  2559,\n",
              "  1220,\n",
              "  1022,\n",
              "  4487,\n",
              "  1422,\n",
              "  832,\n",
              "  4488,\n",
              "  1726,\n",
              "  2812,\n",
              "  4489,\n",
              "  2813],\n",
              " [1, 657, 1727, 222, 134, 184, 386, 237, 264, 833, 467, 2123, 388, 1423],\n",
              " [45, 497, 130, 331, 69, 888, 869, 55, 18, 552],\n",
              " [738, 2124, 313, 4490],\n",
              " [4491, 4492, 2125, 4493],\n",
              " [114, 709, 818, 354, 268, 51, 1924, 151],\n",
              " [286, 36, 2814, 68, 4, 562, 406],\n",
              " [6, 11, 496],\n",
              " [118, 87],\n",
              " [407, 1424, 2539, 1061, 2126, 7, 53, 10, 124, 449, 66],\n",
              " [786, 326, 116, 9, 4494, 18, 598, 14],\n",
              " [44, 58],\n",
              " [1195, 1982, 262, 42, 84, 1425, 60, 4495, 40, 1, 123, 552],\n",
              " [570, 365, 330, 9],\n",
              " [30, 662, 2127, 126, 1728, 66],\n",
              " [29, 657, 2128, 2678, 2815],\n",
              " [10, 246, 1062, 256],\n",
              " [26, 53, 5, 2, 207, 18, 2129, 17],\n",
              " [12, 193, 940, 472, 1571, 44, 208, 37, 22, 141, 2615, 881],\n",
              " [1729, 78, 607, 672, 40, 38, 8],\n",
              " [5, 61, 265, 211, 208, 420, 492, 641, 190, 17],\n",
              " [6, 2816, 484, 384, 34, 179, 552, 349, 6, 58, 130],\n",
              " [20, 528, 192, 489, 8, 400, 333, 261, 4496, 4497, 2099, 4498],\n",
              " [1606, 76, 2817, 692, 225, 5, 466],\n",
              " [637, 240],\n",
              " [243,\n",
              "  1713,\n",
              "  4499,\n",
              "  84,\n",
              "  687,\n",
              "  202,\n",
              "  118,\n",
              "  137,\n",
              "  4500,\n",
              "  4501,\n",
              "  2818,\n",
              "  584,\n",
              "  1023,\n",
              "  2819,\n",
              "  4502,\n",
              "  4503,\n",
              "  4504],\n",
              " [4505, 391, 12, 122, 4506, 382, 834, 1730, 614],\n",
              " [4507, 358, 4508, 2820, 1426, 585, 112, 1326, 907, 585, 191, 2130, 1175],\n",
              " [2821, 2131, 1221, 4509, 4510, 4511, 4512, 2822, 4513, 4514],\n",
              " [4515, 79, 799, 2132, 2, 497, 137, 654, 835, 2, 1, 14, 369],\n",
              " [302, 5, 4516, 110, 1731, 180, 177, 45, 2133],\n",
              " [2823, 161, 34, 254, 4517, 31, 55, 26, 102],\n",
              " [4518, 546, 2824, 2134, 7, 319, 41, 4519, 2],\n",
              " [286, 262, 14, 639, 2, 5, 15, 370, 8],\n",
              " [4520, 68, 4521, 2825, 305, 902, 6],\n",
              " [1427, 1, 4522],\n",
              " [261, 30, 537, 115, 1164, 256, 2, 2826, 4523, 4524],\n",
              " [386, 61, 294, 35, 2827],\n",
              " [534, 173],\n",
              " [44, 126, 541, 206, 34, 1063, 428, 206, 176, 231, 71, 119, 79],\n",
              " [493, 341, 599, 501, 18, 474, 596],\n",
              " [10, 575, 1214, 4525, 898],\n",
              " [6, 155, 983, 787, 4526, 186, 1173, 284, 4527, 1181, 5],\n",
              " [8, 73],\n",
              " [44, 2828],\n",
              " [1129, 1428, 976, 19, 470, 971, 4528],\n",
              " [1222, 157, 428],\n",
              " [155, 120],\n",
              " [4529, 19, 76, 435, 2135, 4530, 299, 104, 46, 4531],\n",
              " [1181, 66, 341, 109, 551, 173],\n",
              " [1643, 1, 231, 31, 58],\n",
              " [2136, 1732, 2137],\n",
              " [4, 395, 2829, 141, 245, 687, 406, 1342, 659, 4532, 8],\n",
              " [422, 472, 40, 607, 4533, 491, 868, 409, 2830, 13, 52],\n",
              " [2831, 430, 4534, 932, 1064, 15, 230],\n",
              " [117, 223, 457, 1987, 223, 863, 4535, 1620, 1429, 348, 2138, 4536],\n",
              " [10, 581, 1430, 4537],\n",
              " [129, 875, 3, 4, 29, 53, 2139, 95, 4538, 263, 190, 9, 4539],\n",
              " [547, 4540, 4541, 4542, 283, 4543, 4544, 177, 4545, 465, 1001, 22, 547],\n",
              " [450, 70, 1065, 64, 371, 14, 4546],\n",
              " [570, 64, 72],\n",
              " [507, 1733, 114, 2140, 211, 941, 548, 599, 56, 4547, 1223, 4548],\n",
              " [122, 208, 894, 4549, 894, 52, 184, 379, 798, 230],\n",
              " [1635, 34, 363],\n",
              " [65, 4550, 146, 4551],\n",
              " [6, 1734, 98, 4552, 1066, 102, 26, 53, 7, 1067, 4553, 26, 81, 16, 14, 692],\n",
              " [721, 1427, 68, 836, 425, 192],\n",
              " [1656, 3, 78, 240, 136, 600],\n",
              " [10, 200],\n",
              " [1908, 2141, 1068, 1906, 1907, 9, 197],\n",
              " [1735, 2142, 4554, 1381, 203, 442, 737, 22, 4555, 941, 384, 1206, 1224, 4556],\n",
              " [403, 545, 67, 1431, 484, 95],\n",
              " [732, 631, 1016, 1, 837, 1931, 2832, 170, 1225],\n",
              " [2833, 2143, 752],\n",
              " [942, 5, 187, 217, 539, 12, 64, 868, 87, 102],\n",
              " [838, 4557, 505, 4558, 143, 2144, 2834, 1226, 535, 4559, 779],\n",
              " [943, 37, 9],\n",
              " [6, 101, 667, 686, 76, 329],\n",
              " [34, 5, 76],\n",
              " [493, 4560, 2570, 6, 49, 1227, 2835, 1210, 4561, 299, 104],\n",
              " [564, 29, 4562, 223],\n",
              " [40, 607, 541, 399, 672, 390, 461, 215, 116, 273, 58],\n",
              " [776, 2145, 2145, 2145, 4563, 482],\n",
              " [753, 1312, 4564, 79, 4565, 34, 5],\n",
              " [1916, 424],\n",
              " [576],\n",
              " [306, 438, 4566, 4567, 48, 273, 78],\n",
              " [138, 4568, 1330, 928, 20, 1736, 2146, 5, 26, 1948, 51],\n",
              " [120],\n",
              " [1321,\n",
              "  4569,\n",
              "  106,\n",
              "  1216,\n",
              "  433,\n",
              "  1033,\n",
              "  4570,\n",
              "  466,\n",
              "  642,\n",
              "  299,\n",
              "  104,\n",
              "  550,\n",
              "  525,\n",
              "  63,\n",
              "  1737],\n",
              " [87, 4571, 712, 591, 364, 4572, 236, 16],\n",
              " [35, 342, 55, 239],\n",
              " [33, 45, 5, 751, 1, 44],\n",
              " [78, 869, 1738, 275, 207, 12, 330],\n",
              " [2147, 18, 506, 156, 7, 2148, 1386, 317, 594, 4573, 2149],\n",
              " [70, 622, 67, 16, 198],\n",
              " [4574, 4, 107, 2, 13, 45, 84, 406, 659],\n",
              " [314, 1432, 465, 588, 166, 1433, 2150, 1033, 1381, 122, 4575],\n",
              " [20, 2151, 502, 19, 196, 2836, 60, 675, 2152, 1739, 2837, 2838, 4576],\n",
              " [158, 78, 18, 1225],\n",
              " [360, 4577, 16, 306, 2153, 139, 48],\n",
              " [411, 1117, 288, 92, 1228, 1229, 288],\n",
              " [42, 30, 23, 1990, 81, 1],\n",
              " [1212, 186, 449, 4578, 4579, 1563, 188, 1201, 2783, 1697],\n",
              " [4580, 1434, 22, 56, 661, 4581, 91, 311],\n",
              " [6, 1970, 4582],\n",
              " [62, 270, 16, 4583, 2839, 1598, 138, 4584, 2730, 4585, 336, 460, 52],\n",
              " [186, 2154, 106, 2155, 149, 179, 2840],\n",
              " [944, 131, 673, 5, 35, 549, 399, 672, 2156, 153],\n",
              " [2841, 11, 285, 60, 1740, 211, 461, 1055, 4586, 102, 523, 1741, 174],\n",
              " [1689, 335, 288, 288, 869],\n",
              " [33, 2842, 38, 10, 70],\n",
              " [4587, 109, 363, 5, 305, 52, 351],\n",
              " [287, 5, 2843, 352, 2844, 86],\n",
              " [4588, 4589, 2845, 818, 585, 314, 653, 4590, 4591],\n",
              " [714, 36, 2846, 118, 2847, 4592, 1069],\n",
              " [229, 2848, 102, 1742, 754, 39, 3, 617, 220],\n",
              " [4593, 447, 107, 254],\n",
              " [6, 2849, 750, 2157],\n",
              " [4594, 2158, 161, 1743, 327, 6, 500],\n",
              " [921, 120],\n",
              " [10, 77, 71, 15],\n",
              " [471, 150, 154, 20, 42, 763, 1616, 987, 929, 4595],\n",
              " [8, 463],\n",
              " [6, 249, 1, 54, 221, 215, 2, 1629, 29],\n",
              " [8, 115, 33, 1435, 182],\n",
              " [175, 2850, 1141, 147, 2851, 89],\n",
              " [4596, 8, 74, 59, 2, 185, 85],\n",
              " [10, 15, 260, 76],\n",
              " [1436, 95, 1230, 189, 54],\n",
              " [4597, 44],\n",
              " [205, 104, 4598, 2852, 2047, 1037, 19, 168, 4599],\n",
              " [71, 29, 4600, 1187, 2159, 4601, 539],\n",
              " [1437, 144, 434, 364, 147, 297, 894, 49, 147, 2853, 33, 542, 4, 2020],\n",
              " [32, 1356, 44, 78, 30, 432, 70, 4602, 76, 451],\n",
              " [24, 1438, 50, 28, 396, 1955, 548, 2160, 108, 51, 839, 2026, 4603],\n",
              " [4604, 1169, 111, 30, 4605, 62, 443, 39, 3, 2023, 822, 593, 330, 4606],\n",
              " [769],\n",
              " [1439, 774, 4, 186, 501, 338],\n",
              " [357, 4607, 216, 4608, 4609],\n",
              " [90, 90, 1440, 171, 2564, 711, 180, 60, 1441, 505],\n",
              " [174, 7, 243, 1219, 65, 1231, 373],\n",
              " [191,\n",
              "  2854,\n",
              "  4610,\n",
              "  56,\n",
              "  2161,\n",
              "  4611,\n",
              "  2016,\n",
              "  737,\n",
              "  143,\n",
              "  232,\n",
              "  1399,\n",
              "  720,\n",
              "  668,\n",
              "  1693,\n",
              "  4612,\n",
              "  4613],\n",
              " [4614, 2162, 1158, 4615],\n",
              " [1152, 8, 74, 928, 59, 238, 2, 185, 85],\n",
              " [557, 1232, 558, 445, 562],\n",
              " [455, 48, 1, 52, 145],\n",
              " [19, 168, 2163, 4616, 1744, 180, 89, 143, 470, 971, 4617, 4618, 4619],\n",
              " [527, 2855, 1442, 1745],\n",
              " [44, 4620, 4621, 367, 1443, 2164, 4622, 4623],\n",
              " [2490, 11, 136, 229, 2856, 84, 25, 2665, 535],\n",
              " [16, 284, 2857, 1444, 95, 92, 755, 4624, 82, 59, 4625],\n",
              " [4626, 160, 319, 41],\n",
              " [299, 4627, 678, 1233, 1, 809, 1, 2858, 4628, 2859, 315, 1388, 4, 4629],\n",
              " [222, 1745, 4630, 4631, 2860, 2861, 231, 341, 47, 295],\n",
              " [450, 2862, 299, 4632, 44],\n",
              " [2165, 2166, 4633, 263, 756, 4634, 658, 1234, 85, 1649, 4635],\n",
              " [37, 150, 31, 148, 88, 7, 41],\n",
              " [119, 421, 4636, 4637, 2863, 410, 4638, 3, 4639, 924, 2167, 729],\n",
              " [42, 30, 23, 4640, 106],\n",
              " [139, 4641, 412, 452, 710, 4, 154, 146, 394, 81, 2168, 643, 1445, 65, 1746],\n",
              " [1404],\n",
              " [1747, 619, 53, 394, 246, 406, 2864, 105, 40],\n",
              " [732, 264, 833, 278, 128, 589, 1134, 1161, 298],\n",
              " [2865, 1748, 744, 75, 770, 94, 3, 520, 29, 111],\n",
              " [2866, 4642, 2867, 69, 277, 16, 637, 591, 4643, 344, 95, 100, 12, 124, 1070],\n",
              " [4644, 1],\n",
              " [321, 792, 1032, 86, 321, 140, 95, 1158, 96, 2685, 197, 2169, 4645, 669, 904],\n",
              " [4646, 2170, 1061, 4647, 2171, 1309, 336, 389, 110, 4648],\n",
              " [24, 945, 50, 28, 1177, 583, 232, 2033, 4649, 4650],\n",
              " [693, 4651],\n",
              " [8, 33, 11, 1, 164, 1235],\n",
              " [290, 186, 412, 155, 29, 39, 3, 176, 1446, 211, 176, 1965],\n",
              " [10, 419, 93, 4652, 96, 181, 22, 4653],\n",
              " [1236, 2018, 52, 48],\n",
              " [10, 200, 69, 55],\n",
              " [1237,\n",
              "  264,\n",
              "  1238,\n",
              "  1749,\n",
              "  631,\n",
              "  1016,\n",
              "  631,\n",
              "  4654,\n",
              "  160,\n",
              "  215,\n",
              "  11,\n",
              "  91,\n",
              "  50,\n",
              "  1160,\n",
              "  166,\n",
              "  1750],\n",
              " [2172, 133, 141, 561, 1, 1071, 334, 917, 466, 177, 267, 1447],\n",
              " [4655, 11, 162, 124, 193, 130],\n",
              " [71, 4656, 264, 4657, 2173, 4658, 108, 309, 454, 159],\n",
              " [413, 1580, 2868],\n",
              " [331, 127, 176, 2174, 2869],\n",
              " ...]"
            ]
          },
          "metadata": {
            "tags": []
          },
          "execution_count": 40
        }
      ]
    },
    {
      "cell_type": "code",
      "metadata": {
        "id": "AurvaASO0-j6"
      },
      "source": [
        "#i have documents having 3 and 4 words,now here padding is required\n",
        "padded_train=pad_sequences(train_sequences,maxlen=29)\n",
        "padded_test=pad_sequences(test_sequences,maxlen=29)\n"
      ],
      "execution_count": 41,
      "outputs": []
    },
    {
      "cell_type": "code",
      "metadata": {
        "id": "ZwjVlPiN2N4w",
        "outputId": "b4778481-455a-4860-c12c-3dd9cdd58c8f",
        "colab": {
          "base_uri": "https://localhost:8080/",
          "height": 170
        }
      },
      "source": [
        "for i,doc in enumerate(padded_train[:3]):\n",
        "  print('the padded encoding for document:',i+1,'is',doc)"
      ],
      "execution_count": 42,
      "outputs": [
        {
          "output_type": "stream",
          "text": [
            "the padded encoding for document: 1 is [   0    0    0    0    0    0    0    0    0    0    0    0    0    0\n",
            "    0    0    0    0    0    0    0 3621  862  762  699  700 1104   38\n",
            "    8]\n",
            "the padded encoding for document: 2 is [   0    0    0    0    0    0    0    0    0    0    0    0    0    0\n",
            "    0    0    0    0    0    0    0 1298  414  270  701   72    5  243\n",
            "   86]\n",
            "the padded encoding for document: 3 is [   0    0    0    0    0    0    0    0    0    0    0    0    0    0\n",
            "    0 1534 1535  863 1536 3622 2482 3623   62 1537 3624  114 3625 1538\n",
            " 3626]\n"
          ],
          "name": "stdout"
        }
      ]
    },
    {
      "cell_type": "code",
      "metadata": {
        "id": "0E5bXunw2dsB"
      },
      "source": [
        "y_train_cat=to_categorical(y_train,2)\n",
        "y_test_cat=to_categorical(y_test,2)"
      ],
      "execution_count": 43,
      "outputs": []
    },
    {
      "cell_type": "code",
      "metadata": {
        "id": "Uw3-1Prt21ek",
        "outputId": "31179b73-b14c-47f2-a622-e0d5232e3737",
        "colab": {
          "base_uri": "https://localhost:8080/",
          "height": 34
        }
      },
      "source": [
        "y_train_cat.shape#we need two dimension for lstm network(2 neurons)"
      ],
      "execution_count": 44,
      "outputs": [
        {
          "output_type": "execute_result",
          "data": {
            "text/plain": [
              "(5211, 2)"
            ]
          },
          "metadata": {
            "tags": []
          },
          "execution_count": 44
        }
      ]
    },
    {
      "cell_type": "code",
      "metadata": {
        "id": "03-sLiEc27T2",
        "outputId": "563d7525-d84d-4197-a1ff-7bd1fba39b37",
        "colab": {
          "base_uri": "https://localhost:8080/",
          "height": 323
        }
      },
      "source": [
        "model=Sequential()\n",
        "model.add(Embedding(unique_words,output_dim=512))#512 is arbitrary\n",
        "model.add(LSTM(256))#256 units\n",
        "model.add(Dense(128,activation='relu'))\n",
        "#to improve generalisation property of model we use Dropout\n",
        "model.add(Dropout(0.3))\n",
        "model.add(Dense(2,activation='softmax'))\n",
        "model.compile(optimizer='adam',loss='categorical_crossentropy',metrics=['acc'])\n",
        "model.summary()"
      ],
      "execution_count": 45,
      "outputs": [
        {
          "output_type": "stream",
          "text": [
            "Model: \"sequential\"\n",
            "_________________________________________________________________\n",
            "Layer (type)                 Output Shape              Param #   \n",
            "=================================================================\n",
            "embedding (Embedding)        (None, None, 512)         4745216   \n",
            "_________________________________________________________________\n",
            "lstm (LSTM)                  (None, 256)               787456    \n",
            "_________________________________________________________________\n",
            "dense (Dense)                (None, 128)               32896     \n",
            "_________________________________________________________________\n",
            "dropout (Dropout)            (None, 128)               0         \n",
            "_________________________________________________________________\n",
            "dense_1 (Dense)              (None, 2)                 258       \n",
            "=================================================================\n",
            "Total params: 5,565,826\n",
            "Trainable params: 5,565,826\n",
            "Non-trainable params: 0\n",
            "_________________________________________________________________\n"
          ],
          "name": "stdout"
        }
      ]
    },
    {
      "cell_type": "code",
      "metadata": {
        "id": "uQN6kC5w7OHT",
        "outputId": "68c1a7db-f10f-46f3-b2d1-11e268a500a4",
        "colab": {
          "base_uri": "https://localhost:8080/",
          "height": 102
        }
      },
      "source": [
        "model.fit(padded_train,y_train_cat,batch_size=32,validation_split=0.2,epochs=2)\n"
      ],
      "execution_count": 46,
      "outputs": [
        {
          "output_type": "stream",
          "text": [
            "Epoch 1/2\n",
            "131/131 [==============================] - 46s 353ms/step - loss: 0.5728 - acc: 0.7020 - val_loss: 0.5375 - val_acc: 0.7315\n",
            "Epoch 2/2\n",
            "131/131 [==============================] - 41s 312ms/step - loss: 0.2686 - acc: 0.8911 - val_loss: 0.5803 - val_acc: 0.7325\n"
          ],
          "name": "stdout"
        },
        {
          "output_type": "execute_result",
          "data": {
            "text/plain": [
              "<tensorflow.python.keras.callbacks.History at 0x7f66d25c54e0>"
            ]
          },
          "metadata": {
            "tags": []
          },
          "execution_count": 46
        }
      ]
    },
    {
      "cell_type": "code",
      "metadata": {
        "id": "H8vX3Zff73FL"
      },
      "source": [
        "pred=model.predict(padded_test)"
      ],
      "execution_count": 47,
      "outputs": []
    },
    {
      "cell_type": "code",
      "metadata": {
        "id": "h9TnnFVf9NVV",
        "outputId": "bd7799f4-0c47-49ef-e09e-1a760ef347fe",
        "colab": {
          "base_uri": "https://localhost:8080/",
          "height": 136
        }
      },
      "source": [
        "\n",
        "pred"
      ],
      "execution_count": 48,
      "outputs": [
        {
          "output_type": "execute_result",
          "data": {
            "text/plain": [
              "array([[0.02097562, 0.9790244 ],\n",
              "       [0.15725866, 0.8427414 ],\n",
              "       [0.8652872 , 0.13471283],\n",
              "       ...,\n",
              "       [0.01529045, 0.98470956],\n",
              "       [0.9337032 , 0.06629676],\n",
              "       [0.00132576, 0.9986743 ]], dtype=float32)"
            ]
          },
          "metadata": {
            "tags": []
          },
          "execution_count": 48
        }
      ]
    },
    {
      "cell_type": "code",
      "metadata": {
        "id": "LmluAN-t9kUV"
      },
      "source": [
        "prediction=[]#predicting \n",
        "for i in pred:\n",
        "  prediction.append(np.argmax(i))\n"
      ],
      "execution_count": 54,
      "outputs": []
    },
    {
      "cell_type": "code",
      "metadata": {
        "id": "jpuXPAo_-NH2",
        "outputId": "f6e18e9a-4d2a-4686-981e-11658aa9e8fc",
        "colab": {
          "base_uri": "https://localhost:8080/",
          "height": 1000
        }
      },
      "source": [
        "prediction"
      ],
      "execution_count": 55,
      "outputs": [
        {
          "output_type": "execute_result",
          "data": {
            "text/plain": [
              "[1,\n",
              " 1,\n",
              " 0,\n",
              " 0,\n",
              " 1,\n",
              " 1,\n",
              " 1,\n",
              " 0,\n",
              " 0,\n",
              " 1,\n",
              " 1,\n",
              " 0,\n",
              " 1,\n",
              " 1,\n",
              " 1,\n",
              " 1,\n",
              " 1,\n",
              " 0,\n",
              " 1,\n",
              " 1,\n",
              " 0,\n",
              " 1,\n",
              " 1,\n",
              " 1,\n",
              " 0,\n",
              " 1,\n",
              " 1,\n",
              " 1,\n",
              " 0,\n",
              " 0,\n",
              " 1,\n",
              " 1,\n",
              " 0,\n",
              " 1,\n",
              " 0,\n",
              " 1,\n",
              " 1,\n",
              " 1,\n",
              " 1,\n",
              " 1,\n",
              " 1,\n",
              " 0,\n",
              " 1,\n",
              " 0,\n",
              " 1,\n",
              " 0,\n",
              " 1,\n",
              " 0,\n",
              " 0,\n",
              " 1,\n",
              " 1,\n",
              " 1,\n",
              " 1,\n",
              " 1,\n",
              " 0,\n",
              " 1,\n",
              " 1,\n",
              " 0,\n",
              " 1,\n",
              " 1,\n",
              " 1,\n",
              " 0,\n",
              " 1,\n",
              " 0,\n",
              " 0,\n",
              " 1,\n",
              " 1,\n",
              " 1,\n",
              " 1,\n",
              " 0,\n",
              " 1,\n",
              " 1,\n",
              " 0,\n",
              " 1,\n",
              " 1,\n",
              " 1,\n",
              " 1,\n",
              " 1,\n",
              " 1,\n",
              " 1,\n",
              " 1,\n",
              " 1,\n",
              " 0,\n",
              " 1,\n",
              " 1,\n",
              " 1,\n",
              " 1,\n",
              " 1,\n",
              " 0,\n",
              " 1,\n",
              " 1,\n",
              " 1,\n",
              " 1,\n",
              " 1,\n",
              " 0,\n",
              " 1,\n",
              " 0,\n",
              " 1,\n",
              " 0,\n",
              " 1,\n",
              " 1,\n",
              " 0,\n",
              " 0,\n",
              " 1,\n",
              " 1,\n",
              " 0,\n",
              " 1,\n",
              " 1,\n",
              " 0,\n",
              " 1,\n",
              " 0,\n",
              " 1,\n",
              " 1,\n",
              " 1,\n",
              " 0,\n",
              " 1,\n",
              " 1,\n",
              " 1,\n",
              " 0,\n",
              " 1,\n",
              " 1,\n",
              " 1,\n",
              " 1,\n",
              " 1,\n",
              " 0,\n",
              " 1,\n",
              " 0,\n",
              " 1,\n",
              " 0,\n",
              " 1,\n",
              " 1,\n",
              " 0,\n",
              " 1,\n",
              " 1,\n",
              " 1,\n",
              " 1,\n",
              " 0,\n",
              " 0,\n",
              " 1,\n",
              " 1,\n",
              " 1,\n",
              " 1,\n",
              " 0,\n",
              " 0,\n",
              " 1,\n",
              " 1,\n",
              " 1,\n",
              " 1,\n",
              " 1,\n",
              " 0,\n",
              " 1,\n",
              " 1,\n",
              " 1,\n",
              " 1,\n",
              " 1,\n",
              " 1,\n",
              " 1,\n",
              " 1,\n",
              " 1,\n",
              " 1,\n",
              " 1,\n",
              " 1,\n",
              " 1,\n",
              " 1,\n",
              " 0,\n",
              " 0,\n",
              " 1,\n",
              " 0,\n",
              " 1,\n",
              " 0,\n",
              " 0,\n",
              " 1,\n",
              " 1,\n",
              " 1,\n",
              " 1,\n",
              " 1,\n",
              " 1,\n",
              " 1,\n",
              " 1,\n",
              " 0,\n",
              " 1,\n",
              " 1,\n",
              " 1,\n",
              " 0,\n",
              " 1,\n",
              " 0,\n",
              " 1,\n",
              " 1,\n",
              " 1,\n",
              " 0,\n",
              " 1,\n",
              " 1,\n",
              " 1,\n",
              " 1,\n",
              " 0,\n",
              " 1,\n",
              " 1,\n",
              " 1,\n",
              " 1,\n",
              " 0,\n",
              " 1,\n",
              " 1,\n",
              " 1,\n",
              " 0,\n",
              " 1,\n",
              " 1,\n",
              " 1,\n",
              " 1,\n",
              " 1,\n",
              " 1,\n",
              " 1,\n",
              " 1,\n",
              " 1,\n",
              " 1,\n",
              " 1,\n",
              " 1,\n",
              " 1,\n",
              " 0,\n",
              " 1,\n",
              " 1,\n",
              " 1,\n",
              " 0,\n",
              " 0,\n",
              " 1,\n",
              " 1,\n",
              " 1,\n",
              " 1,\n",
              " 1,\n",
              " 1,\n",
              " 0,\n",
              " 1,\n",
              " 1,\n",
              " 0,\n",
              " 1,\n",
              " 1,\n",
              " 1,\n",
              " 1,\n",
              " 1,\n",
              " 1,\n",
              " 1,\n",
              " 0,\n",
              " 1,\n",
              " 0,\n",
              " 1,\n",
              " 1,\n",
              " 1,\n",
              " 1,\n",
              " 1,\n",
              " 1,\n",
              " 1,\n",
              " 1,\n",
              " 1,\n",
              " 1,\n",
              " 1,\n",
              " 0,\n",
              " 0,\n",
              " 1,\n",
              " 1,\n",
              " 1,\n",
              " 1,\n",
              " 1,\n",
              " 0,\n",
              " 0,\n",
              " 0,\n",
              " 0,\n",
              " 1,\n",
              " 1,\n",
              " 0,\n",
              " 1,\n",
              " 1,\n",
              " 1,\n",
              " 0,\n",
              " 0,\n",
              " 1,\n",
              " 0,\n",
              " 1,\n",
              " 0,\n",
              " 0,\n",
              " 1,\n",
              " 0,\n",
              " 1,\n",
              " 1,\n",
              " 0,\n",
              " 1,\n",
              " 1,\n",
              " 1,\n",
              " 1,\n",
              " 1,\n",
              " 1,\n",
              " 1,\n",
              " 0,\n",
              " 0,\n",
              " 0,\n",
              " 1,\n",
              " 0,\n",
              " 1,\n",
              " 1,\n",
              " 0,\n",
              " 1,\n",
              " 1,\n",
              " 1,\n",
              " 0,\n",
              " 0,\n",
              " 0,\n",
              " 0,\n",
              " 0,\n",
              " 0,\n",
              " 1,\n",
              " 1,\n",
              " 1,\n",
              " 1,\n",
              " 1,\n",
              " 1,\n",
              " 0,\n",
              " 1,\n",
              " 1,\n",
              " 0,\n",
              " 1,\n",
              " 0,\n",
              " 1,\n",
              " 1,\n",
              " 0,\n",
              " 0,\n",
              " 1,\n",
              " 1,\n",
              " 1,\n",
              " 1,\n",
              " 0,\n",
              " 0,\n",
              " 0,\n",
              " 1,\n",
              " 1,\n",
              " 0,\n",
              " 0,\n",
              " 1,\n",
              " 1,\n",
              " 1,\n",
              " 1,\n",
              " 1,\n",
              " 0,\n",
              " 0,\n",
              " 1,\n",
              " 0,\n",
              " 1,\n",
              " 0,\n",
              " 1,\n",
              " 1,\n",
              " 0,\n",
              " 1,\n",
              " 0,\n",
              " 0,\n",
              " 0,\n",
              " 0,\n",
              " 1,\n",
              " 1,\n",
              " 1,\n",
              " 0,\n",
              " 1,\n",
              " 1,\n",
              " 0,\n",
              " 1,\n",
              " 1,\n",
              " 1,\n",
              " 1,\n",
              " 0,\n",
              " 1,\n",
              " 1,\n",
              " 1,\n",
              " 1,\n",
              " 0,\n",
              " 0,\n",
              " 1,\n",
              " 0,\n",
              " 0,\n",
              " 1,\n",
              " 1,\n",
              " 1,\n",
              " 1,\n",
              " 0,\n",
              " 1,\n",
              " 1,\n",
              " 0,\n",
              " 0,\n",
              " 1,\n",
              " 0,\n",
              " 0,\n",
              " 1,\n",
              " 0,\n",
              " 1,\n",
              " 1,\n",
              " 0,\n",
              " 0,\n",
              " 1,\n",
              " 0,\n",
              " 1,\n",
              " 1,\n",
              " 1,\n",
              " 1,\n",
              " 1,\n",
              " 1,\n",
              " 1,\n",
              " 1,\n",
              " 1,\n",
              " 1,\n",
              " 0,\n",
              " 1,\n",
              " 0,\n",
              " 1,\n",
              " 1,\n",
              " 0,\n",
              " 1,\n",
              " 1,\n",
              " 1,\n",
              " 1,\n",
              " 0,\n",
              " 1,\n",
              " 1,\n",
              " 1,\n",
              " 1,\n",
              " 1,\n",
              " 0,\n",
              " 1,\n",
              " 1,\n",
              " 1,\n",
              " 0,\n",
              " 0,\n",
              " 0,\n",
              " 0,\n",
              " 0,\n",
              " 1,\n",
              " 1,\n",
              " 0,\n",
              " 0,\n",
              " 1,\n",
              " 0,\n",
              " 1,\n",
              " 0,\n",
              " 1,\n",
              " 1,\n",
              " 0,\n",
              " 1,\n",
              " 0,\n",
              " 1,\n",
              " 1,\n",
              " 0,\n",
              " 0,\n",
              " 0,\n",
              " 1,\n",
              " 0,\n",
              " 1,\n",
              " 1,\n",
              " 1,\n",
              " 1,\n",
              " 0,\n",
              " 1,\n",
              " 0,\n",
              " 0,\n",
              " 1,\n",
              " 0,\n",
              " 0,\n",
              " 0,\n",
              " 0,\n",
              " 1,\n",
              " 0,\n",
              " 0,\n",
              " 1,\n",
              " 1,\n",
              " 1,\n",
              " 0,\n",
              " 1,\n",
              " 1,\n",
              " 0,\n",
              " 0,\n",
              " 1,\n",
              " 1,\n",
              " 0,\n",
              " 1,\n",
              " 1,\n",
              " 0,\n",
              " 1,\n",
              " 1,\n",
              " 0,\n",
              " 1,\n",
              " 0,\n",
              " 0,\n",
              " 1,\n",
              " 0,\n",
              " 1,\n",
              " 1,\n",
              " 1,\n",
              " 1,\n",
              " 1,\n",
              " 0,\n",
              " 1,\n",
              " 1,\n",
              " 1,\n",
              " 1,\n",
              " 0,\n",
              " 0,\n",
              " 1,\n",
              " 1,\n",
              " 0,\n",
              " 0,\n",
              " 1,\n",
              " 1,\n",
              " 1,\n",
              " 1,\n",
              " 1,\n",
              " 0,\n",
              " 1,\n",
              " 1,\n",
              " 1,\n",
              " 0,\n",
              " 1,\n",
              " 1,\n",
              " 0,\n",
              " 1,\n",
              " 1,\n",
              " 0,\n",
              " 1,\n",
              " 1,\n",
              " 0,\n",
              " 1,\n",
              " 0,\n",
              " 0,\n",
              " 1,\n",
              " 1,\n",
              " 1,\n",
              " 1,\n",
              " 1,\n",
              " 1,\n",
              " 1,\n",
              " 1,\n",
              " 1,\n",
              " 1,\n",
              " 1,\n",
              " 1,\n",
              " 1,\n",
              " 1,\n",
              " 1,\n",
              " 1,\n",
              " 1,\n",
              " 0,\n",
              " 1,\n",
              " 1,\n",
              " 0,\n",
              " 1,\n",
              " 1,\n",
              " 1,\n",
              " 1,\n",
              " 0,\n",
              " 0,\n",
              " 1,\n",
              " 1,\n",
              " 1,\n",
              " 1,\n",
              " 1,\n",
              " 1,\n",
              " 1,\n",
              " 1,\n",
              " 0,\n",
              " 1,\n",
              " 1,\n",
              " 0,\n",
              " 1,\n",
              " 1,\n",
              " 1,\n",
              " 0,\n",
              " 1,\n",
              " 0,\n",
              " 1,\n",
              " 1,\n",
              " 1,\n",
              " 0,\n",
              " 1,\n",
              " 1,\n",
              " 1,\n",
              " 1,\n",
              " 0,\n",
              " 1]"
            ]
          },
          "metadata": {
            "tags": []
          },
          "execution_count": 55
        }
      ]
    },
    {
      "cell_type": "code",
      "metadata": {
        "id": "amQrx_Yx-PP5"
      },
      "source": [
        "original=[]\n",
        "for i in y_test_cat:\n",
        "  original.append(np.argmax(i))"
      ],
      "execution_count": 56,
      "outputs": []
    },
    {
      "cell_type": "code",
      "metadata": {
        "id": "3VVOWhoT-rHs",
        "outputId": "567765c4-4689-4477-9535-27d52378b517",
        "colab": {
          "base_uri": "https://localhost:8080/",
          "height": 34
        }
      },
      "source": [
        "from sklearn.metrics import accuracy_score,confusion_matrix\n",
        "accuracy=accuracy_score(original,prediction)\n",
        "accuracy"
      ],
      "execution_count": 57,
      "outputs": [
        {
          "output_type": "execute_result",
          "data": {
            "text/plain": [
              "0.743103448275862"
            ]
          },
          "metadata": {
            "tags": []
          },
          "execution_count": 57
        }
      ]
    },
    {
      "cell_type": "code",
      "metadata": {
        "id": "ftSwbqos--xk",
        "outputId": "a2c6664c-5a1a-48d8-836d-d85c878dd58e",
        "colab": {
          "base_uri": "https://localhost:8080/",
          "height": 282
        }
      },
      "source": [
        "cm=confusion_matrix(original,prediction)\n",
        "sns.heatmap(cm,annot=True)\n"
      ],
      "execution_count": 58,
      "outputs": [
        {
          "output_type": "execute_result",
          "data": {
            "text/plain": [
              "<matplotlib.axes._subplots.AxesSubplot at 0x7f66cebc2748>"
            ]
          },
          "metadata": {
            "tags": []
          },
          "execution_count": 58
        },
        {
          "output_type": "display_data",
          "data": {
            "image/png": "[encoded data removed]",
            "text/plain": [
              "<Figure size 432x288 with 2 Axes>"
            ]
          },
          "metadata": {
            "tags": [],
            "needs_background": "light"
          }
        }
      ]
    },
    {
      "cell_type": "markdown",
      "metadata": {
        "id": "QAzHlBjL_iY0"
      },
      "source": [
        "Only 149 test samples are wrongly classified which is great \n",
        "And if we do Hyperparamter Tuning and more inDepth preprocessing we will get a better result\n"
      ]
    },
    {
      "cell_type": "code",
      "metadata": {
        "id": "BvMGGGCt_ctr"
      },
      "source": [
        ""
      ],
      "execution_count": null,
      "outputs": []
    },
    {
      "cell_type": "markdown",
      "metadata": {
        "id": "VuIUiymuAe26"
      },
      "source": [
        "code by:Roshan PK"
      ]
    },
    {
      "cell_type": "markdown",
      "metadata": {
        "id": "Ee_hxt8bAI23"
      },
      "source": [
        "REFERENCE:Dr. Ryan Ahmed, Ph.D., MBA\n",
        "https://www.udemy.com/course/ml-and-python-in-finance-real-cases-and-practical-solutions/"
      ]
    }
  ]
}